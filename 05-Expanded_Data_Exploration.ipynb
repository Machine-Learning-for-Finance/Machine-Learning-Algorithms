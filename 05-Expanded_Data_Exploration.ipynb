{
 "cells": [
  {
   "cell_type": "markdown",
   "metadata": {
    "colab_type": "text",
    "id": "view-in-github"
   },
   "source": [
    "<a href=\"https://colab.research.google.com/github/Machine-Learning-for-Finance/Machine-Learning-Algorithms/blob/master/01-Data%20Loading.ipynb\" target=\"_parent\"><img src=\"https://colab.research.google.com/assets/colab-badge.svg\" alt=\"Open In Colab\"/></a>"
   ]
  },
  {
   "cell_type": "code",
   "execution_count": 1,
   "metadata": {
    "colab": {},
    "colab_type": "code",
    "id": "veHdEGsVuCZk"
   },
   "outputs": [],
   "source": [
    "import pandas as pd\n",
    "import sklearn.datasets\n",
    "import numpy as np\n",
    "import matplotlib.pyplot as plt"
   ]
  },
  {
   "cell_type": "markdown",
   "metadata": {
    "colab_type": "text",
    "id": "fQso5Qf1uPCs"
   },
   "source": [
    "# Loading From Google Drive"
   ]
  },
  {
   "cell_type": "code",
   "execution_count": 2,
   "metadata": {
    "colab": {
     "base_uri": "https://localhost:8080/",
     "height": 124
    },
    "colab_type": "code",
    "id": "Zg_Ml3XCuCZu",
    "outputId": "351b33f7-733d-43b2-921c-1826c93814bb"
   },
   "outputs": [],
   "source": [
    "try:\n",
    "    from google.colab import drive\n",
    "    drive.mount('/content/drive')\n",
    "    base_location = \"/content/drive/My Drive/data/\"\n",
    "except:\n",
    "    base_location = \"/data/FannieMae/\""
   ]
  },
  {
   "cell_type": "code",
   "execution_count": 3,
   "metadata": {
    "colab": {
     "base_uri": "https://localhost:8080/",
     "height": 35
    },
    "colab_type": "code",
    "id": "a98Ks0awue5j",
    "outputId": "82fd6144-4e82-457c-ad27-8260001c599c"
   },
   "outputs": [
    {
     "name": "stdout",
     "output_type": "stream",
     "text": [
      "ls: cannot access '/content/drive/My Drive/data/2010Q1': No such file or directory\n"
     ]
    }
   ],
   "source": [
    "!ls /content/drive/My\\ Drive/data/2010Q1"
   ]
  },
  {
   "cell_type": "markdown",
   "metadata": {
    "colab_type": "text",
    "id": "51nuHFu2uCZx"
   },
   "source": [
    "# Financial Datasets\n",
    "\n",
    "There are a large number of financial datasets that are available, the first one we will discuss is the Fannie Mae Fixed Rate Mortgage Dataset.\n",
    "\n",
    "- https://www.fanniemae.com/portal/funding-the-market/data/loan-performance-data.html\n",
    "\n",
    "- https://loanperformancedata.fanniemae.com/lppub/index.html#Portfolio\n",
    "\n",
    "Which consists of both Acquisitions and Performance data for a collection of mortgages.\n",
    "\n",
    "To make our lives a bit easier here are the column names pulled from the provided `R` script to load the data.  See `R` is good for at least one thing."
   ]
  },
  {
   "cell_type": "code",
   "execution_count": 4,
   "metadata": {
    "colab": {},
    "colab_type": "code",
    "id": "nSyctLHUuCZx"
   },
   "outputs": [],
   "source": [
    "AcquisitionColumnNames = (\n",
    "    \"LOAN_ID\", \"ORIG_CHN\", \"Seller.Name\", \n",
    "    \"ORIG_RT\", \"ORIG_AMT\", \"ORIG_TRM\", \"ORIG_DTE\",\n",
    "    \"FRST_DTE\", \"OLTV\", \"OCLTV\", \"NUM_BO\", \n",
    "    \"DTI\", \"CSCORE_B\", \"FTHB_FLG\", \"PURPOSE\", \n",
    "    \"PROP_TYP\", \"NUM_UNIT\", \"OCC_STAT\", \"STATE\", \"ZIP_3\", \n",
    "    \"MI_PCT\", \"Product.Type\", \"CSCORE_C\", \"MI_TYPE\", \n",
    "    \"RELOCATION_FLG\"\n",
    ")\n",
    "\n",
    "PerformanceColumnNames = (\n",
    "    \"LOAN_ID\", \"Monthly.Rpt.Prd\", \"Servicer.Name\", \n",
    "    \"LAST_RT\", \"LAST_UPB\", \"Loan.Age\", \"Months.To.Legal.Mat\", \n",
    "    \"Adj.Month.To.Mat\", \"Maturity.Date\", \"MSA\", \n",
    "    \"Delq.Status\", \"MOD_FLAG\", \"Zero.Bal.Code\", \n",
    "    \"ZB_DTE\", \"LPI_DTE\", \"FCC_DTE\",\"DISP_DT\", \n",
    "    \"FCC_COST\", \"PP_COST\", \"AR_COST\", \"IE_COST\", \n",
    "    \"TAX_COST\", \"NS_PROCS\",\"CE_PROCS\", \"RMW_PROCS\", \n",
    "    \"O_PROCS\", \"NON_INT_UPB\", \"PRIN_FORG_UPB_FHFA\", \n",
    "    \"REPCH_FLAG\", \"PRIN_FORG_UPB_OTH\", \"TRANSFER_FLG\"\n",
    ")"
   ]
  },
  {
   "cell_type": "code",
   "execution_count": 5,
   "metadata": {
    "colab": {},
    "colab_type": "code",
    "id": "keiHB79QuCZ0"
   },
   "outputs": [],
   "source": [
    "# Data path will change depending on your system setup.\n",
    "\n",
    "acquisition_data_path = f\"{base_location}2010Q1/Acquisition_2010Q1.txt\""
   ]
  },
  {
   "cell_type": "markdown",
   "metadata": {
    "colab_type": "text",
    "id": "njzEeyp3uCZ3"
   },
   "source": [
    "#### Loading the Acquisition Data from CSV\n",
    "\n",
    "To load the data we call from `pandas`, `pd.read_csv` which automatically handles loading data from the csv file.  We provide column names, a notification that the file doesn't include headers, and information on what the column separator is `|` in this case."
   ]
  },
  {
   "cell_type": "code",
   "execution_count": 6,
   "metadata": {
    "colab": {},
    "colab_type": "code",
    "id": "TSuX8cp_uCZ3"
   },
   "outputs": [],
   "source": [
    "acquisition_df = pd.read_csv(\n",
    "    acquisition_data_path,\n",
    "    names=AcquisitionColumnNames,\n",
    "    header=None,\n",
    "    sep=\"|\"\n",
    ")"
   ]
  },
  {
   "cell_type": "code",
   "execution_count": 7,
   "metadata": {
    "colab": {
     "base_uri": "https://localhost:8080/",
     "height": 121
    },
    "colab_type": "code",
    "id": "0C6pRzIquCZ6",
    "outputId": "03c05cdf-01d9-4437-d5af-064f3b0e9076"
   },
   "outputs": [
    {
     "data": {
      "text/plain": [
       "Index(['LOAN_ID', 'ORIG_CHN', 'Seller.Name', 'ORIG_RT', 'ORIG_AMT', 'ORIG_TRM',\n",
       "       'ORIG_DTE', 'FRST_DTE', 'OLTV', 'OCLTV', 'NUM_BO', 'DTI', 'CSCORE_B',\n",
       "       'FTHB_FLG', 'PURPOSE', 'PROP_TYP', 'NUM_UNIT', 'OCC_STAT', 'STATE',\n",
       "       'ZIP_3', 'MI_PCT', 'Product.Type', 'CSCORE_C', 'MI_TYPE',\n",
       "       'RELOCATION_FLG'],\n",
       "      dtype='object')"
      ]
     },
     "execution_count": 7,
     "metadata": {},
     "output_type": "execute_result"
    }
   ],
   "source": [
    "acquisition_df.columns"
   ]
  },
  {
   "cell_type": "markdown",
   "metadata": {
    "colab_type": "text",
    "id": "hJupFzpRuCZ9"
   },
   "source": [
    "#### Loading the Performance Data"
   ]
  },
  {
   "cell_type": "code",
   "execution_count": 8,
   "metadata": {
    "colab": {
     "base_uri": "https://localhost:8080/",
     "height": 72
    },
    "colab_type": "code",
    "id": "aSM-v4WXuCZ-",
    "outputId": "224f82da-104c-4a0d-b8c9-9bafd3e9b3a1"
   },
   "outputs": [
    {
     "name": "stderr",
     "output_type": "stream",
     "text": [
      "/home/capcolabs/Stevens/Machine-Learning-Algorithms/venv/lib/python3.7/site-packages/IPython/core/interactiveshell.py:3058: DtypeWarning: Columns (14,15,16) have mixed types. Specify dtype option on import or set low_memory=False.\n",
      "  interactivity=interactivity, compiler=compiler, result=result)\n"
     ]
    }
   ],
   "source": [
    "performance_data_path = f\"{base_location}2010Q1/Performance_2010Q1.txt\"\n",
    "\n",
    "performance_df = pd.read_csv(\n",
    "    performance_data_path,\n",
    "    names=PerformanceColumnNames,\n",
    "    header=None,\n",
    "    sep=\"|\"\n",
    ")"
   ]
  },
  {
   "cell_type": "markdown",
   "metadata": {
    "colab_type": "text",
    "id": "5lE_VMiAuCaA"
   },
   "source": [
    "First thing we note is that this takes longer than the `Acquisitions` data to load, stemming from the fact that for each loan there are multiple monthly data elements loaded."
   ]
  },
  {
   "cell_type": "markdown",
   "metadata": {
    "colab": {},
    "colab_type": "code",
    "id": "_CTGeuxquCaY"
   },
   "source": [
    "# Data Modifying"
   ]
  },
  {
   "cell_type": "code",
   "execution_count": 9,
   "metadata": {},
   "outputs": [],
   "source": [
    "DS = set(performance_df['Delq.Status'])"
   ]
  },
  {
   "cell_type": "code",
   "execution_count": 10,
   "metadata": {},
   "outputs": [
    {
     "name": "stdout",
     "output_type": "stream",
     "text": [
      "{nan, '20', '82', '9', '40', '53', '12', '51', '90', '17', '91', '85', '32', '22', '54', '6', '37', '64', '96', '78', '76', '30', '49', '41', '62', '43', '59', '1', '8', '31', '45', '94', '68', '65', '74', '46', '69', '4', '89', '71', '57', '66', '99', '7', '50', '92', '25', '87', '88', '56', '95', '28', '47', '5', '79', '11', '60', '23', '86', '14', '61', '38', '84', '48', '15', '77', '70', 'X', '93', '58', '2', '67', '80', '16', '29', '83', '13', '34', '44', '33', '63', '98', '19', '73', '36', '39', '97', '3', '52', '18', '21', '27', '0', '10', '26', '72', '75', '35', '42', '55', '24', '81'}\n"
     ]
    }
   ],
   "source": [
    "print(DS)\n",
    "mapper = {}\n",
    "for ds in DS:\n",
    "    try:\n",
    "        mapper[ds] = int(ds)\n",
    "    except:\n",
    "        mapper[ds] = -1\n",
    "\n",
    "performance_df['Delq.Status'] = performance_df['Delq.Status'].map(mapper)"
   ]
  },
  {
   "cell_type": "code",
   "execution_count": 11,
   "metadata": {},
   "outputs": [
    {
     "name": "stdout",
     "output_type": "stream",
     "text": [
      "[-1  0  1  2  3  4  5  6  7  8  9 10 11 12 13 14 15 16 17 18 19 20 21 22\n",
      " 23 24 25 26 27 28 29 30 31 32 33 34 35 36 37 38 39 40 41 42 43 44 45 46\n",
      " 47 48 49 50 51 52 53 54 55 56 57 58 59 60 61 62 63 64 65 66 67 68 69 70\n",
      " 71 72 73 74 75 76 77 78 79 80 81 82 83 84 85 86 87 88 89 90 91 92 93 94\n",
      " 95 96 97 98 99]\n"
     ]
    }
   ],
   "source": [
    "V, C = np.unique(performance_df['Delq.Status'], return_counts=True)\n",
    "print(V)"
   ]
  },
  {
   "cell_type": "markdown",
   "metadata": {},
   "source": [
    "# Grouping By Loan ID\n",
    "\n",
    "https://stackoverflow.com/questions/15705630/get-the-rows-which-have-the-max-value-in-groups-using-groupby"
   ]
  },
  {
   "cell_type": "code",
   "execution_count": 12,
   "metadata": {},
   "outputs": [],
   "source": [
    "loans = performance_df.groupby(\"LOAN_ID\", sort=True)['Delq.Status'].max()\n",
    "\n",
    "ID_To_Delinq = {}\n",
    "\n",
    "for row in loans.iteritems():\n",
    "    loan_id, delinq = row\n",
    "    ID_To_Delinq[loan_id] = delinq"
   ]
  },
  {
   "cell_type": "code",
   "execution_count": 13,
   "metadata": {},
   "outputs": [],
   "source": [
    "def mapper(row):\n",
    "    return ID_To_Delinq.get(row[\"LOAN_ID\"], -1)\n",
    "\n",
    "acquisition_df['MAX_DELINQ'] = acquisition_df.apply(mapper, axis=1)"
   ]
  },
  {
   "cell_type": "code",
   "execution_count": 14,
   "metadata": {},
   "outputs": [],
   "source": [
    "V, C = np.unique(acquisition_df['MAX_DELINQ'], return_counts=True)"
   ]
  },
  {
   "cell_type": "markdown",
   "metadata": {},
   "source": [
    "## Getting Delinquency Status"
   ]
  },
  {
   "cell_type": "code",
   "execution_count": 15,
   "metadata": {},
   "outputs": [],
   "source": [
    "V, C = np.unique(\n",
    "    performance_df['Monthly.Rpt.Prd'], \n",
    "    return_counts=True\n",
    ")"
   ]
  },
  {
   "cell_type": "code",
   "execution_count": 16,
   "metadata": {},
   "outputs": [],
   "source": [
    "actual_date = performance_df['Monthly.Rpt.Prd'] == \"01/01/2015\"\n",
    "next_date   = performance_df['Monthly.Rpt.Prd'] == \"01/01/2016\"\n",
    "\n",
    "date_df = performance_df[actual_date]\n",
    "next_df = performance_df[next_date]\n",
    "\n",
    "Delinquency = {}\n",
    "Next_Delinquency = {}\n",
    "\n",
    "for row in date_df.iterrows():\n",
    "    row = row[1]\n",
    "    Delinquency[row['LOAN_ID']] = ID_To_Delinq.get(row[\"LOAN_ID\"], -1)\n",
    "    \n",
    "for row in next_df.iterrows():\n",
    "    row = row[1]\n",
    "    Next_Delinquency[row['LOAN_ID']] = ID_To_Delinq.get(row['LOAN_ID'], -1)"
   ]
  },
  {
   "cell_type": "code",
   "execution_count": 17,
   "metadata": {},
   "outputs": [],
   "source": [
    "def mapper(row):\n",
    "    return Delinquency.get(row[\"LOAN_ID\"], -1)\n",
    "\n",
    "def next_mapper(row):\n",
    "    return Next_Delinquency.get(row['LOAN_ID'], -1)\n",
    "\n",
    "acquisition_df['DELINQ_DATE'] = acquisition_df.apply(mapper, axis=1)\n",
    "\n",
    "acquisition_df['DELINQ_NEXT'] = acquisition_df.apply(next_mapper, axis=1 )"
   ]
  },
  {
   "cell_type": "code",
   "execution_count": 18,
   "metadata": {},
   "outputs": [
    {
     "name": "stdout",
     "output_type": "stream",
     "text": [
      "20303\n"
     ]
    },
    {
     "name": "stderr",
     "output_type": "stream",
     "text": [
      "/home/capcolabs/Stevens/Machine-Learning-Algorithms/venv/lib/python3.7/site-packages/ipykernel_launcher.py:11: SettingWithCopyWarning: \n",
      "A value is trying to be set on a copy of a slice from a DataFrame.\n",
      "Try using .loc[row_indexer,col_indexer] = value instead\n",
      "\n",
      "See the caveats in the documentation: http://pandas.pydata.org/pandas-docs/stable/user_guide/indexing.html#returning-a-view-versus-a-copy\n",
      "  # This is added back by InteractiveShellApp.init_path()\n"
     ]
    }
   ],
   "source": [
    "delinq = acquisition_df['DELINQ_DATE'] > 0\n",
    "delinq_df = acquisition_df[delinq]\n",
    "\n",
    "print(f\"{len(delinq_df.index)}\")\n",
    "\n",
    "def check_date_range(row):\n",
    "    return row['DELINQ_NEXT'] >= row['DELINQ_DATE']\n",
    "\n",
    "delinq_df['DELINQ_DELTA'] = delinq_df.apply(\n",
    "    check_date_range,\n",
    "    axis=1\n",
    ")"
   ]
  },
  {
   "cell_type": "code",
   "execution_count": 19,
   "metadata": {},
   "outputs": [
    {
     "name": "stdout",
     "output_type": "stream",
     "text": [
      "False  |  2219\n",
      "True  |  18084\n"
     ]
    }
   ],
   "source": [
    "V, C = np.unique(delinq_df['DELINQ_DELTA'], return_counts=True)\n",
    "\n",
    "for v, c in zip(V, C):\n",
    "    print(v, \" | \", c)"
   ]
  },
  {
   "cell_type": "code",
   "execution_count": 20,
   "metadata": {},
   "outputs": [
    {
     "name": "stdout",
     "output_type": "stream",
     "text": [
      "(20038, 3)\n",
      "(20038, 1)\n",
      "(20038, 4)\n",
      "(20038, 3)\n",
      "(20038, 1)\n",
      "Train Number: 18034\n",
      "X_Train: (18034, 3)\n",
      "X_Test: (2004, 3)\n",
      "====================\n",
      "y_Train: (18034, 1)\n",
      "y_Test:  (2004, 1)\n"
     ]
    }
   ],
   "source": [
    "df = delinq_df\n",
    "\n",
    "DEL_NOTNAN = df[\"DELINQ_DELTA\"].notna()\n",
    "df = df[DEL_NOTNAN]\n",
    "OLTV = df['OLTV'].notna()\n",
    "df = df[OLTV]\n",
    "CS = df['CSCORE_B'].notna()\n",
    "df = df[CS]\n",
    "DTI = df['DTI'].notna()\n",
    "df = df[DTI]\n",
    "\n",
    "credit_score  = np.array(df['CSCORE_B'])\n",
    "loan_to_value = np.array(df['OLTV'])\n",
    "debt_to_income= np.array(df['DTI'])\n",
    "\n",
    "max_delinq    = np.array(df['DELINQ_DELTA'])\n",
    "\n",
    "X = np.array([credit_score, loan_to_value, debt_to_income]).transpose()\n",
    "y = np.array([max_delinq]).transpose()\n",
    "print(X.shape)\n",
    "print(y.shape)\n",
    "\n",
    "Total = np.hstack([X, y])\n",
    "print(Total.shape)\n",
    "np.random.shuffle(Total)\n",
    "\n",
    "X = Total[:, :3]\n",
    "y = Total[:, 3:]\n",
    "\n",
    "print(X.shape)\n",
    "print(y.shape)\n",
    "\n",
    "prop = 0.9\n",
    "train_num = int(prop * len(Total))\n",
    "print(f\"Train Number: {train_num}\")\n",
    "\n",
    "X_train, X_test = X[:train_num], X[train_num:]\n",
    "y_train, y_test = y[:train_num], y[train_num:]\n",
    "\n",
    "print(f\"X_Train: {X_train.shape}\")\n",
    "print(f\"X_Test: {X_test.shape}\")\n",
    "print(\"==\"*10)\n",
    "print(f\"y_Train: {y_train.shape}\")\n",
    "print(f\"y_Test:  {y_test.shape}\")\n",
    "\n",
    "class_weight = {0: 18084/20303, 1: 1-(18084/20303) }"
   ]
  },
  {
   "cell_type": "code",
   "execution_count": 21,
   "metadata": {},
   "outputs": [
    {
     "name": "stdout",
     "output_type": "stream",
     "text": [
      "0.8198602794411177\n",
      "[0.44495036 0.23592247 0.31912716]\n"
     ]
    }
   ],
   "source": [
    "from sklearn import tree\n",
    "\n",
    "clf = tree.DecisionTreeClassifier(class_weight=class_weight)\n",
    "clf = clf.fit(\n",
    "    X_train, y_train\n",
    ")\n",
    "print(clf.score(X_test, y_test))\n",
    "print(clf.feature_importances_)"
   ]
  },
  {
   "cell_type": "code",
   "execution_count": 22,
   "metadata": {},
   "outputs": [
    {
     "name": "stderr",
     "output_type": "stream",
     "text": [
      "/home/capcolabs/Stevens/Machine-Learning-Algorithms/venv/lib/python3.7/site-packages/ipykernel_launcher.py:8: DataConversionWarning: A column-vector y was passed when a 1d array was expected. Please change the shape of y to (n_samples,), for example using ravel().\n",
      "  \n"
     ]
    },
    {
     "name": "stdout",
     "output_type": "stream",
     "text": [
      "0.8597804391217565\n",
      "[0.49598543 0.22031612 0.28369844]\n"
     ]
    }
   ],
   "source": [
    "from sklearn.ensemble import RandomForestClassifier\n",
    "\n",
    "rfc = RandomForestClassifier(\n",
    "    n_estimators=10,\n",
    "    class_weight=class_weight\n",
    ")\n",
    "rfc = rfc.fit(\n",
    "    X_train, y_train\n",
    ")\n",
    "print(rfc.score(X_test, y_test))\n",
    "print(rfc.feature_importances_)"
   ]
  },
  {
   "cell_type": "markdown",
   "metadata": {},
   "source": [
    "# Neural Network Example"
   ]
  },
  {
   "cell_type": "code",
   "execution_count": 23,
   "metadata": {},
   "outputs": [],
   "source": [
    "import tensorflow as tf"
   ]
  },
  {
   "cell_type": "code",
   "execution_count": 24,
   "metadata": {},
   "outputs": [
    {
     "name": "stdout",
     "output_type": "stream",
     "text": [
      "<BatchDataset shapes: ((None, 3), (None, 1)), types: (tf.float64, tf.float64)>\n"
     ]
    }
   ],
   "source": [
    "train_dataset = tf.data.Dataset.from_tensor_slices((X_train, y_train))\n",
    "test_dataset  = tf.data.Dataset.from_tensor_slices((X_test, y_test))\n",
    "\n",
    "BATCH_SIZE = 64\n",
    "SHUFFLE_BUFFER_SIZE = 100\n",
    "V = np.unique(y)\n",
    "\n",
    "train_dataset = train_dataset.shuffle(SHUFFLE_BUFFER_SIZE).batch(BATCH_SIZE)\n",
    "test_dataset  = test_dataset.shuffle(SHUFFLE_BUFFER_SIZE).batch(BATCH_SIZE)\n",
    "\n",
    "print(train_dataset)"
   ]
  },
  {
   "cell_type": "code",
   "execution_count": 65,
   "metadata": {},
   "outputs": [
    {
     "name": "stdout",
     "output_type": "stream",
     "text": [
      "2\n",
      "{0: 4, 1: 0.05}\n"
     ]
    }
   ],
   "source": [
    "print(len(V))\n",
    "\n",
    "print(class_weight)"
   ]
  },
  {
   "cell_type": "code",
   "execution_count": 91,
   "metadata": {},
   "outputs": [],
   "source": [
    "model = tf.keras.Sequential([\n",
    "    tf.keras.layers.Dense(64, input_shape=[3]),\n",
    "    tf.keras.layers.Dense(64, activation='relu'),\n",
    "    tf.keras.layers.Dense(1, activation='sigmoid')\n",
    "])\n",
    "\n",
    "model.compile(\n",
    "    optimizer=tf.keras.optimizers.Adam(),\n",
    "    loss=tf.keras.losses.BinaryCrossentropy(),\n",
    "    metrics=[\"accuracy\"]\n",
    ")\n"
   ]
  },
  {
   "cell_type": "code",
   "execution_count": 95,
   "metadata": {},
   "outputs": [
    {
     "name": "stdout",
     "output_type": "stream",
     "text": [
      "Epoch 1/30\n",
      "282/282 [==============================] - 1s 3ms/step - loss: 0.7372 - accuracy: 0.8232 - val_loss: 0.0000e+00 - val_accuracy: 0.0000e+00\n",
      "Epoch 2/30\n",
      "282/282 [==============================] - 1s 2ms/step - loss: 0.6440 - accuracy: 0.8397 - val_loss: 0.6634 - val_accuracy: 0.9012\n",
      "Epoch 3/30\n",
      "282/282 [==============================] - 1s 2ms/step - loss: 0.5400 - accuracy: 0.8651 - val_loss: 0.3792 - val_accuracy: 0.9012\n",
      "Epoch 4/30\n",
      "282/282 [==============================] - 1s 2ms/step - loss: 0.4636 - accuracy: 0.8736 - val_loss: 0.4332 - val_accuracy: 0.9012\n",
      "Epoch 5/30\n",
      "282/282 [==============================] - 1s 2ms/step - loss: 0.5248 - accuracy: 0.8620 - val_loss: 0.4516 - val_accuracy: 0.9012\n",
      "Epoch 6/30\n",
      "282/282 [==============================] - 1s 2ms/step - loss: 0.5586 - accuracy: 0.8624 - val_loss: 0.3270 - val_accuracy: 0.9012\n",
      "Epoch 7/30\n",
      "282/282 [==============================] - 1s 2ms/step - loss: 0.4441 - accuracy: 0.8734 - val_loss: 0.3277 - val_accuracy: 0.9012\n",
      "Epoch 8/30\n",
      "282/282 [==============================] - 1s 2ms/step - loss: 0.4826 - accuracy: 0.8613 - val_loss: 1.0138 - val_accuracy: 0.9012\n",
      "Epoch 9/30\n",
      "282/282 [==============================] - 1s 2ms/step - loss: 0.4872 - accuracy: 0.8586 - val_loss: 0.3355 - val_accuracy: 0.9012\n",
      "Epoch 10/30\n",
      "282/282 [==============================] - 1s 2ms/step - loss: 0.5167 - accuracy: 0.8573 - val_loss: 0.6479 - val_accuracy: 0.9012\n",
      "Epoch 11/30\n",
      "282/282 [==============================] - 1s 2ms/step - loss: 0.4200 - accuracy: 0.8807 - val_loss: 0.3362 - val_accuracy: 0.9012\n",
      "Epoch 12/30\n",
      "282/282 [==============================] - 1s 2ms/step - loss: 0.4391 - accuracy: 0.8725 - val_loss: 0.4343 - val_accuracy: 0.9012\n",
      "Epoch 13/30\n",
      "282/282 [==============================] - 1s 2ms/step - loss: 0.4844 - accuracy: 0.8572 - val_loss: 0.3328 - val_accuracy: 0.9012\n",
      "Epoch 14/30\n",
      "282/282 [==============================] - 1s 2ms/step - loss: 0.4645 - accuracy: 0.8725 - val_loss: 0.9106 - val_accuracy: 0.1282\n",
      "Epoch 15/30\n",
      "282/282 [==============================] - 1s 2ms/step - loss: 0.4616 - accuracy: 0.8679 - val_loss: 1.2263 - val_accuracy: 0.0988\n",
      "Epoch 16/30\n",
      "282/282 [==============================] - 1s 2ms/step - loss: 0.4240 - accuracy: 0.8712 - val_loss: 0.3359 - val_accuracy: 0.9012\n",
      "Epoch 17/30\n",
      "282/282 [==============================] - 1s 2ms/step - loss: 0.4325 - accuracy: 0.8735 - val_loss: 0.3264 - val_accuracy: 0.9012\n",
      "Epoch 18/30\n",
      "282/282 [==============================] - 1s 2ms/step - loss: 0.4401 - accuracy: 0.8779 - val_loss: 0.3685 - val_accuracy: 0.9012\n",
      "Epoch 19/30\n",
      "282/282 [==============================] - 1s 2ms/step - loss: 0.4020 - accuracy: 0.8894 - val_loss: 0.3980 - val_accuracy: 0.9012\n",
      "Epoch 20/30\n",
      "282/282 [==============================] - 1s 2ms/step - loss: 0.4089 - accuracy: 0.8835 - val_loss: 0.3251 - val_accuracy: 0.9012\n",
      "Epoch 21/30\n",
      "282/282 [==============================] - 1s 3ms/step - loss: 0.4168 - accuracy: 0.8807 - val_loss: 0.3790 - val_accuracy: 0.9012\n",
      "Epoch 22/30\n",
      "282/282 [==============================] - 1s 2ms/step - loss: 0.3987 - accuracy: 0.8848 - val_loss: 0.3326 - val_accuracy: 0.9012\n",
      "Epoch 23/30\n",
      "282/282 [==============================] - 1s 2ms/step - loss: 0.3948 - accuracy: 0.8894 - val_loss: 0.3301 - val_accuracy: 0.9012\n",
      "Epoch 24/30\n",
      "282/282 [==============================] - 1s 2ms/step - loss: 0.4082 - accuracy: 0.8784 - val_loss: 0.4917 - val_accuracy: 0.9012\n",
      "Epoch 25/30\n",
      "282/282 [==============================] - 1s 2ms/step - loss: 0.4289 - accuracy: 0.8762 - val_loss: 0.3723 - val_accuracy: 0.9012\n",
      "Epoch 26/30\n",
      "282/282 [==============================] - 1s 2ms/step - loss: 0.3849 - accuracy: 0.8888 - val_loss: 0.3305 - val_accuracy: 0.9012\n",
      "Epoch 27/30\n",
      "282/282 [==============================] - 1s 2ms/step - loss: 0.3810 - accuracy: 0.8893 - val_loss: 0.3613 - val_accuracy: 0.9012\n",
      "Epoch 28/30\n",
      "282/282 [==============================] - 1s 2ms/step - loss: 0.4000 - accuracy: 0.8892 - val_loss: 0.3247 - val_accuracy: 0.9012\n",
      "Epoch 29/30\n",
      "282/282 [==============================] - 1s 2ms/step - loss: 0.3837 - accuracy: 0.8849 - val_loss: 0.3204 - val_accuracy: 0.9012\n",
      "Epoch 30/30\n",
      "282/282 [==============================] - 1s 2ms/step - loss: 0.4285 - accuracy: 0.8794 - val_loss: 0.3238 - val_accuracy: 0.9012\n"
     ]
    }
   ],
   "source": [
    "history = model.fit(\n",
    "    train_dataset, \n",
    "    validation_data=test_dataset,\n",
    "    class_weight=class_weight,\n",
    "    epochs=30\n",
    ")"
   ]
  },
  {
   "cell_type": "code",
   "execution_count": 96,
   "metadata": {},
   "outputs": [
    {
     "name": "stdout",
     "output_type": "stream",
     "text": [
      "{'loss': [0.7373461579885162, 0.6442333675216145, 0.5403325284242604, 0.46331189921667193, 0.5245170105193742, 0.5579284270507501, 0.44400610130007995, 0.48420249224634543, 0.48670236761545915, 0.5162675693173412, 0.4195158157331975, 0.43911046404472087, 0.4840724185147147, 0.4644472644045359, 0.46134061897040285, 0.42387662639080637, 0.432720099014256, 0.43987407023763664, 0.4022568725020576, 0.409332186119168, 0.416469727458057, 0.39857471211331774, 0.3948123280107281, 0.4077153258588344, 0.42877881419133806, 0.3847116205774787, 0.38076295472373317, 0.39982817531808645, 0.38454588863317385, 0.42812433143115247], 'accuracy': [0.8231673, 0.83974713, 0.8651436, 0.8735722, 0.8620384, 0.8624265, 0.8734058, 0.8613175, 0.85860044, 0.8573251, 0.88066983, 0.8724631, 0.8571587, 0.8724631, 0.86786073, 0.8712432, 0.8735167, 0.8778973, 0.88943106, 0.88349783, 0.88066983, 0.8847732, 0.8893756, 0.8783964, 0.8761783, 0.8888211, 0.8892647, 0.8892093, 0.88493955, 0.8793945], 'val_loss': [0.4674361445941031, 0.6634297820965003, 0.3792363265529275, 0.43320659251185134, 0.4516169391281437, 0.3270026692189276, 0.3277335921302438, 1.0137751083821058, 0.335514728911221, 0.6478738370351493, 0.3362112822942436, 0.43429601984098554, 0.33281439542770386, 0.9106132220476866, 1.226316086947918, 0.3359472109004855, 0.3263503834605217, 0.3684532786719501, 0.3980260824901052, 0.3251250865869224, 0.37902543460950255, 0.33260895451530814, 0.3301170209888369, 0.4916869015432894, 0.37229217728599906, 0.33047172194346786, 0.3612820995040238, 0.3246733285486698, 0.32038376037962735, 0.32377799041569233], 'val_accuracy': [0.9011976, 0.9011976, 0.9011976, 0.9011976, 0.9011976, 0.9011976, 0.9011976, 0.9011976, 0.9011976, 0.9011976, 0.9011976, 0.9011976, 0.9011976, 0.1282435, 0.098802395, 0.9011976, 0.9011976, 0.9011976, 0.9011976, 0.9011976, 0.9011976, 0.9011976, 0.9011976, 0.9011976, 0.9011976, 0.9011976, 0.9011976, 0.9011976, 0.9011976, 0.9011976]}\n"
     ]
    }
   ],
   "source": [
    "print(history.history)"
   ]
  },
  {
   "cell_type": "code",
   "execution_count": 97,
   "metadata": {},
   "outputs": [
    {
     "data": {
      "text/plain": [
       "[<matplotlib.lines.Line2D at 0x7f224c105198>]"
      ]
     },
     "execution_count": 97,
     "metadata": {},
     "output_type": "execute_result"
    },
    {
     "data": {
      "image/png": "[encoded data removed]",
      "text/plain": [
       "<Figure size 432x288 with 1 Axes>"
      ]
     },
     "metadata": {
      "needs_background": "light"
     },
     "output_type": "display_data"
    }
   ],
   "source": [
    "plt.plot(history.history['accuracy'])\n",
    "plt.plot(history.history['val_accuracy'])"
   ]
  },
  {
   "cell_type": "code",
   "execution_count": 84,
   "metadata": {},
   "outputs": [
    {
     "data": {
      "image/png": "[encoded data removed]",
      "text/plain": [
       "<Figure size 432x288 with 1 Axes>"
      ]
     },
     "metadata": {
      "needs_background": "light"
     },
     "output_type": "display_data"
    }
   ],
   "source": [
    "X = plt.hist(y_train)\n",
    "plt.show(X)"
   ]
  },
  {
   "cell_type": "code",
   "execution_count": 87,
   "metadata": {},
   "outputs": [],
   "source": [
    "pred = model.predict_classes(X_test)\n",
    "\n",
    "CM = [[0,0],[0,0]]\n",
    "\n",
    "for idx, p in enumerate(pred):\n",
    "    actual = y_test[idx]\n",
    "    CM[int(p)][int(actual)] += 1"
   ]
  },
  {
   "cell_type": "code",
   "execution_count": 88,
   "metadata": {},
   "outputs": [],
   "source": [
    "import seaborn as sn"
   ]
  },
  {
   "cell_type": "code",
   "execution_count": 89,
   "metadata": {},
   "outputs": [
    {
     "data": {
      "text/plain": [
       "<matplotlib.axes._subplots.AxesSubplot at 0x7f224e078f60>"
      ]
     },
     "execution_count": 89,
     "metadata": {},
     "output_type": "execute_result"
    },
    {
     "data": {
      "image/png": "[encoded data removed]",
      "text/plain": [
       "<Figure size 432x288 with 2 Axes>"
      ]
     },
     "metadata": {
      "needs_background": "light"
     },
     "output_type": "display_data"
    }
   ],
   "source": [
    "sn.heatmap(\n",
    "    CM, \n",
    "    cmap=\"Blues\", \n",
    "    annot=True,\n",
    "    annot_kws={\"size\": 16}\n",
    ")# font size"
   ]
  },
  {
   "cell_type": "code",
   "execution_count": null,
   "metadata": {},
   "outputs": [],
   "source": []
  }
 ],
 "metadata": {
  "colab": {
   "include_colab_link": true,
   "name": "01-Data Loading.ipynb",
   "provenance": []
  },
  "kernelspec": {
   "display_name": "Python 3",
   "language": "python",
   "name": "python3"
  },
  "language_info": {
   "codemirror_mode": {
    "name": "ipython",
    "version": 3
   },
   "file_extension": ".py",
   "mimetype": "text/x-python",
   "name": "python",
   "nbconvert_exporter": "python",
   "pygments_lexer": "ipython3",
   "version": "3.7.3"
  }
 },
 "nbformat": 4,
 "nbformat_minor": 4
}
