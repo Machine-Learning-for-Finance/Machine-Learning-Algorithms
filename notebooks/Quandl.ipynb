{
 "cells": [
  {
   "cell_type": "code",
   "execution_count": 20,
   "metadata": {},
   "outputs": [
    {
     "name": "stdout",
     "output_type": "stream",
     "text": [
      "Hello World!\n"
     ]
    }
   ],
   "source": [
    "import os\n",
    "import sys\n",
    "import matplotlib.pyplot as plt\n",
    "module_path = os.path.abspath(os.path.join(\"..\"))\n",
    "if module_path not in sys.path:\n",
    "    sys.path.append(module_path)\n",
    "\n",
    "from utils import hello_world, load_dataframes_fannie\n",
    "hello_world()"
   ]
  },
  {
   "cell_type": "markdown",
   "metadata": {},
   "source": [
    "# Setting Up Quandl Interactions\n",
    "\n",
    "Quandl's About Us:\n",
    "\n",
    ">Our mission is to extract value from the world's data.\n",
    "We believe that data is one of the most important resources of the 21st century. It is ubiquitous. Data now arises from virtually everything humans and businesses do, every minute of every day. But how much of it has tangible value to capital markets? That is what we ask ourselves every day.\n",
    ">\n",
    ">We want to inspire customers to make new discoveries and incorporate them into trading strategies. We find opportunities in places people otherwise wouldn’t think about. We believe there are new and better ways to understand the complex information that creates markets and market movement.\n",
    ">\n",
    ">Quandl’s diverse team members have backgrounds in finance, technology, data science and astrophysics, just to name a few. Our team is purpose-built to extract signal from a world increasingly full of noise. We uncover valuable data that is difficult to find, shape it and share it with our clients.\n",
    "\n",
    "We believe that data, and alternative data in particular, is going to become the primary driver of active investment performance over the next decade.\n",
    "\n",
    "https://www.quandl.com/\n",
    "\n",
    "Examples Using: https://www.quandl.com/data/ZILLOW-Zillow-Real-Estate-Research"
   ]
  },
  {
   "cell_type": "code",
   "execution_count": 21,
   "metadata": {},
   "outputs": [],
   "source": [
    "# !pip install quandl\n",
    "import quandl"
   ]
  },
  {
   "cell_type": "code",
   "execution_count": 22,
   "metadata": {},
   "outputs": [],
   "source": [
    "quandl.ApiConfig.api_key = \"YOURAPIKEY\""
   ]
  },
  {
   "cell_type": "code",
   "execution_count": 24,
   "metadata": {},
   "outputs": [],
   "source": [
    "quandl.ApiConfig.api_key = 'zQu4tqJV_Btqzux3dzAy'\n",
    "df = quandl.get('ZILLOW/M1300_MPPRSF')"
   ]
  },
  {
   "cell_type": "code",
   "execution_count": 25,
   "metadata": {},
   "outputs": [
    {
     "data": {
      "text/html": [
       "<div>\n",
       "<style scoped>\n",
       "    .dataframe tbody tr th:only-of-type {\n",
       "        vertical-align: middle;\n",
       "    }\n",
       "\n",
       "    .dataframe tbody tr th {\n",
       "        vertical-align: top;\n",
       "    }\n",
       "\n",
       "    .dataframe thead th {\n",
       "        text-align: right;\n",
       "    }\n",
       "</style>\n",
       "<table border=\"1\" class=\"dataframe\">\n",
       "  <thead>\n",
       "    <tr style=\"text-align: right;\">\n",
       "      <th></th>\n",
       "      <th>Value</th>\n",
       "    </tr>\n",
       "    <tr>\n",
       "      <th>Date</th>\n",
       "      <th></th>\n",
       "    </tr>\n",
       "  </thead>\n",
       "  <tbody>\n",
       "    <tr>\n",
       "      <td>2010-09-30</td>\n",
       "      <td>5.002501</td>\n",
       "    </tr>\n",
       "    <tr>\n",
       "      <td>2010-10-31</td>\n",
       "      <td>5.272408</td>\n",
       "    </tr>\n",
       "    <tr>\n",
       "      <td>2010-11-30</td>\n",
       "      <td>5.072899</td>\n",
       "    </tr>\n",
       "    <tr>\n",
       "      <td>2010-12-31</td>\n",
       "      <td>4.972032</td>\n",
       "    </tr>\n",
       "    <tr>\n",
       "      <td>2011-01-31</td>\n",
       "      <td>5.049631</td>\n",
       "    </tr>\n",
       "  </tbody>\n",
       "</table>\n",
       "</div>"
      ],
      "text/plain": [
       "               Value\n",
       "Date                \n",
       "2010-09-30  5.002501\n",
       "2010-10-31  5.272408\n",
       "2010-11-30  5.072899\n",
       "2010-12-31  4.972032\n",
       "2011-01-31  5.049631"
      ]
     },
     "execution_count": 25,
     "metadata": {},
     "output_type": "execute_result"
    }
   ],
   "source": [
    "df.head()"
   ]
  },
  {
   "cell_type": "code",
   "execution_count": 26,
   "metadata": {},
   "outputs": [
    {
     "data": {
      "image/png": "[encoded data removed]",
      "text/plain": [
       "<Figure size 432x288 with 1 Axes>"
      ]
     },
     "metadata": {
      "needs_background": "light"
     },
     "output_type": "display_data"
    }
   ],
   "source": [
    "fig = plt.plot(df['Value'])"
   ]
  },
  {
   "cell_type": "markdown",
   "metadata": {},
   "source": [
    "## Bulk Download of Entire Data Set\n",
    "\n",
    ">An entire time-series dataset's data can be downloaded.\n",
    ">\n",
    ">For example, to download the dataset ZEA: quandl.bulkdownload(\"ZEA\")\n",
    ">\n",
    ">This call will download an entire time-series dataset as a ZIP file."
   ]
  },
  {
   "cell_type": "code",
   "execution_count": 9,
   "metadata": {},
   "outputs": [],
   "source": [
    "# Takes a While, be careful\n",
    "\n",
    "#quandl.bulkdownload(\"ZILLOW\")"
   ]
  },
  {
   "cell_type": "markdown",
   "metadata": {},
   "source": [
    "|Code | Description |\n",
    "|-----| ------|\n",
    "| C10012_ZHVI2B | Zillow Home Value Index (City): Zillow Home Value Index - Two Bedrooms - Pembroke, Merrimack, NH |\n",
    "| C10012_ZHVI3B | Zillow Home Value Index (City): Zillow Home Value Index - Three Bedrooms - Pembroke, Merrimack, NH |\n",
    "| C10012_ZHVI4B | Zillow Home Value Index (City): Zillow Home Value Index - Four Bedrooms - Pembroke, Merrimack, NH |\n",
    "| C10012_ZHVIAH | Zillow Home Value Index (City): Zillow Home Value Index - All Homes - Pembroke, Merrimack, NH |\n",
    "| C10012_ZHVIBT | Zillow Home Value Index (City): Zillow Home Value Index - Bottom Tier - Pembroke, Merrimack, NH |\n",
    "| C10012_ZHVIBTY | Zillow Home Value Index (City): Zillow Home Value Index - Bottom Tier Year-Over-Year - Pembroke, Merrimack, NH |\n",
    "| C10012_ZHVIMT | Zillow Home Value Index (City): Zillow Home Value Index - Middle Tier - Pembroke, Merrimack, NH |\n",
    "| C10012_ZHVIMTY | Zillow Home Value Index (City): Zillow Home Value Index - Middle Tier - Year-Over-Year - Pembroke, Merrimack, NH |\n",
    "| C10012_ZHVISF | Zillow Home Value Index (City): Zillow Home Value Index - Single-Family Residence - Pembroke, Merrimack, NH |\n",
    "| C10012_ZHVITT | Zillow Home Value Index (City): Zillow Home Value Index - Top Tier - Pembroke, Merrimack, NH |\n",
    "| C10012_ZHVITTY | Zillow Home Value Index (City): Zillow Home Value Index - Top Tier - Year-Over-Year - Pembroke, Merrimack, NH |\n",
    "| C10012_ZRIAH | Zillow Home Value Index (City): Zillow Rental Index - All Homes - Pembroke, Merrimack, NH |\n",
    "| C10012_ZRIAHMF | Zillow Home Value Index (City): Zillow Rental Index - All Homes Plus Multi-Family - Pembroke, Merrimack, NH |\n",
    "| C10012_ZRIFAH | Zillow Home Value Index (City): Zillow Rental Index Per Square Foot - All Homes - Pembroke, Merrimack, NH |\n",
    "| C10012_ZRIMFRR | Zillow Home Value Index (City): Zillow Rental Index - Multi-Family Residence - Pembroke, Merrimack, NH |\n",
    "| C10012_ZRISFRR | Zillow Home Value Index (City): Zillow Rental Index - Single-Family Residence - Pembroke, Merrimack, NH |\n"
   ]
  },
  {
   "cell_type": "code",
   "execution_count": 27,
   "metadata": {},
   "outputs": [
    {
     "data": {
      "text/plain": [
       "Index(['Value'], dtype='object')"
      ]
     },
     "execution_count": 27,
     "metadata": {},
     "output_type": "execute_result"
    }
   ],
   "source": [
    "df = quandl.get('ZILLOW/C10012_ZRISFRR')\n",
    "df.columns"
   ]
  },
  {
   "cell_type": "code",
   "execution_count": 28,
   "metadata": {},
   "outputs": [
    {
     "data": {
      "image/png": "[encoded data removed]",
      "text/plain": [
       "<Figure size 432x288 with 1 Axes>"
      ]
     },
     "metadata": {
      "needs_background": "light"
     },
     "output_type": "display_data"
    }
   ],
   "source": [
    "fig = plt.plot(df['Value'])"
   ]
  },
  {
   "cell_type": "code",
   "execution_count": null,
   "metadata": {},
   "outputs": [],
   "source": []
  }
 ],
 "metadata": {
  "kernelspec": {
   "display_name": "Python 3",
   "language": "python",
   "name": "python3"
  },
  "language_info": {
   "codemirror_mode": {
    "name": "ipython",
    "version": 3
   },
   "file_extension": ".py",
   "mimetype": "text/x-python",
   "name": "python",
   "nbconvert_exporter": "python",
   "pygments_lexer": "ipython3",
   "version": "3.7.3"
  }
 },
 "nbformat": 4,
 "nbformat_minor": 4
}
