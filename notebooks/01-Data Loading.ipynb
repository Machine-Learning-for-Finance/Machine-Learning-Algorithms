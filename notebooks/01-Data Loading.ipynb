{
 "cells": [
  {
   "cell_type": "code",
   "execution_count": 4,
   "metadata": {
    "colab": {},
    "colab_type": "code",
    "id": "veHdEGsVuCZk"
   },
   "outputs": [
    {
     "name": "stdout",
     "output_type": "stream",
     "text": [
      "Hello World!\n"
     ]
    }
   ],
   "source": [
    "import pandas as pd\n",
    "import sklearn.datasets\n",
    "\n",
    "import os\n",
    "import sys\n",
    "module_path = os.path.abspath(os.path.join(\"..\"))\n",
    "if module_path not in sys.path:\n",
    "    sys.path.append(module_path)\n",
    "    \n",
    "from utils import hello_world\n",
    "hello_world()"
   ]
  },
  {
   "cell_type": "markdown",
   "metadata": {
    "colab_type": "text",
    "id": "vfrzj9W0uCZp"
   },
   "source": [
    "## SKLearn Datasets\n",
    "\n",
    "- https://scikit-learn.org/stable/datasets/index.html\n",
    "\n",
    "Starting with the SKLearn datsets, let's examine what methods are part of `sklearn.datasets` to simplify data loading.\n",
    "\n"
   ]
  },
  {
   "cell_type": "code",
   "execution_count": null,
   "metadata": {
    "colab": {},
    "colab_type": "code",
    "id": "RAAX7-fTuCZq",
    "outputId": "d7b80f40-89bd-4023-c16e-d2502821a8ae"
   },
   "outputs": [
    {
     "name": "stdout",
     "output_type": "stream",
     "text": [
      "load_boston\n",
      "load_breast_cancer\n",
      "load_diabetes\n",
      "load_digits\n",
      "load_files\n",
      "load_iris\n",
      "load_linnerud\n",
      "load_sample_image\n",
      "load_sample_images\n",
      "load_svmlight_file\n",
      "load_svmlight_files\n",
      "load_wine\n"
     ]
    }
   ],
   "source": [
    "for d in dir(sklearn.datasets):\n",
    "    if d[:2] == \"__\" or d[:4] != \"load\":\n",
    "        continue\n",
    "    print(d)"
   ]
  },
  {
   "cell_type": "markdown",
   "metadata": {
    "colab_type": "text",
    "id": "8GoJCF4RuCZt"
   },
   "source": [
    "It should be noted that there are other methods within the `sklearn.datasets` module, and they should be explored as well.\n",
    "\n",
    "But these methods give us toy datasets to test ML algorithms on and the behavior is typically well understood."
   ]
  },
  {
   "cell_type": "markdown",
   "metadata": {
    "colab_type": "text",
    "id": "fQso5Qf1uPCs"
   },
   "source": [
    "# Loading From Google Drive"
   ]
  },
  {
   "cell_type": "code",
   "execution_count": 1,
   "metadata": {
    "colab": {
     "base_uri": "https://localhost:8080/",
     "height": 124
    },
    "colab_type": "code",
    "id": "Zg_Ml3XCuCZu",
    "outputId": "351b33f7-733d-43b2-921c-1826c93814bb"
   },
   "outputs": [
    {
     "name": "stdout",
     "output_type": "stream",
     "text": [
      "Go to this URL in a browser: https://accounts.google.com/o/oauth2/auth?client_id=947318989803-6bn6qk8qdgf4n4g3pfee6491hc0brc4i.apps.googleusercontent.com&redirect_uri=urn%3Aietf%3Awg%3Aoauth%3A2.0%3Aoob&scope=email%20https%3A%2F%2Fwww.googleapis.com%2Fauth%2Fdocs.test%20https%3A%2F%2Fwww.googleapis.com%2Fauth%2Fdrive%20https%3A%2F%2Fwww.googleapis.com%2Fauth%2Fdrive.photos.readonly%20https%3A%2F%2Fwww.googleapis.com%2Fauth%2Fpeopleapi.readonly&response_type=code\n",
      "\n",
      "Enter your authorization code:\n",
      "··········\n",
      "Mounted at /content/drive\n"
     ]
    }
   ],
   "source": [
    "from google.colab import drive\n",
    "drive.mount('/content/drive')"
   ]
  },
  {
   "cell_type": "code",
   "execution_count": 5,
   "metadata": {
    "colab": {
     "base_uri": "https://localhost:8080/",
     "height": 35
    },
    "colab_type": "code",
    "id": "a98Ks0awue5j",
    "outputId": "82fd6144-4e82-457c-ad27-8260001c599c"
   },
   "outputs": [
    {
     "name": "stdout",
     "output_type": "stream",
     "text": [
      "Acquisition_2010Q1.txt\tPerformance_2010Q1.txt\n"
     ]
    }
   ],
   "source": [
    "!ls /content/drive/My\\ Drive/data/2010Q1"
   ]
  },
  {
   "cell_type": "markdown",
   "metadata": {
    "colab_type": "text",
    "id": "51nuHFu2uCZx"
   },
   "source": [
    "# Financial Datasets\n",
    "\n",
    "There are a large number of financial datasets that are available, the first one we will discuss is the Fannie Mae Fixed Rate Mortgage Dataset.\n",
    "\n",
    "- https://www.fanniemae.com/portal/funding-the-market/data/loan-performance-data.html\n",
    "\n",
    "- https://loanperformancedata.fanniemae.com/lppub/index.html#Portfolio\n",
    "\n",
    "Which consists of both Acquisitions and Performance data for a collection of mortgages.\n",
    "\n",
    "To make our lives a bit easier here are the column names pulled from the provided `R` script to load the data.  See `R` is good for at least one thing."
   ]
  },
  {
   "cell_type": "code",
   "execution_count": null,
   "metadata": {
    "colab": {},
    "colab_type": "code",
    "id": "nSyctLHUuCZx"
   },
   "outputs": [],
   "source": [
    "AcquisitionColumnNames = (\n",
    "    \"LOAN_ID\", \"ORIG_CHN\", \"Seller.Name\", \n",
    "    \"ORIG_RT\", \"ORIG_AMT\", \"ORIG_TRM\", \"ORIG_DTE\",\n",
    "    \"FRST_DTE\", \"OLTV\", \"OCLTV\", \"NUM_BO\", \n",
    "    \"DTI\", \"CSCORE_B\", \"FTHB_FLG\", \"PURPOSE\", \n",
    "    \"PROP_TYP\", \"NUM_UNIT\", \"OCC_STAT\", \"STATE\", \"ZIP_3\", \n",
    "    \"MI_PCT\", \"Product.Type\", \"CSCORE_C\", \"MI_TYPE\", \n",
    "    \"RELOCATION_FLG\"\n",
    ")\n",
    "\n",
    "PerformanceColumnNames = (\n",
    "    \"LOAN_ID\", \"Monthly.Rpt.Prd\", \"Servicer.Name\", \n",
    "    \"LAST_RT\", \"LAST_UPB\", \"Loan.Age\", \"Months.To.Legal.Mat\", \n",
    "    \"Adj.Month.To.Mat\", \"Maturity.Date\", \"MSA\", \n",
    "    \"Delq.Status\", \"MOD_FLAG\", \"Zero.Bal.Code\", \n",
    "    \"ZB_DTE\", \"LPI_DTE\", \"FCC_DTE\",\"DISP_DT\", \n",
    "    \"FCC_COST\", \"PP_COST\", \"AR_COST\", \"IE_COST\", \n",
    "    \"TAX_COST\", \"NS_PROCS\",\"CE_PROCS\", \"RMW_PROCS\", \n",
    "    \"O_PROCS\", \"NON_INT_UPB\", \"PRIN_FORG_UPB_FHFA\", \n",
    "    \"REPCH_FLAG\", \"PRIN_FORG_UPB_OTH\", \"TRANSFER_FLG\"\n",
    ")"
   ]
  },
  {
   "cell_type": "code",
   "execution_count": null,
   "metadata": {
    "colab": {},
    "colab_type": "code",
    "id": "keiHB79QuCZ0"
   },
   "outputs": [],
   "source": [
    "# Data path will change depending on your system setup.\n",
    "\n",
    "base_location = \"/content/drive/My Drive/data/\"\n",
    "\n",
    "acquisition_data_path = f\"{base_location}2010Q1/Acquisition_2010Q1.txt\""
   ]
  },
  {
   "cell_type": "markdown",
   "metadata": {
    "colab_type": "text",
    "id": "njzEeyp3uCZ3"
   },
   "source": [
    "#### Loading the Acquisition Data from CSV\n",
    "\n",
    "To load the data we call from `pandas`, `pd.read_csv` which automatically handles loading data from the csv file.  We provide column names, a notification that the file doesn't include headers, and information on what the column separator is `|` in this case."
   ]
  },
  {
   "cell_type": "code",
   "execution_count": null,
   "metadata": {
    "colab": {},
    "colab_type": "code",
    "id": "TSuX8cp_uCZ3"
   },
   "outputs": [],
   "source": [
    "acquisition_df = pd.read_csv(\n",
    "    acquisition_data_path,\n",
    "    names=AcquisitionColumnNames,\n",
    "    header=None,\n",
    "    sep=\"|\"\n",
    ")"
   ]
  },
  {
   "cell_type": "code",
   "execution_count": 13,
   "metadata": {
    "colab": {
     "base_uri": "https://localhost:8080/",
     "height": 121
    },
    "colab_type": "code",
    "id": "0C6pRzIquCZ6",
    "outputId": "03c05cdf-01d9-4437-d5af-064f3b0e9076"
   },
   "outputs": [
    {
     "data": {
      "text/plain": [
       "Index(['LOAN_ID', 'ORIG_CHN', 'Seller.Name', 'ORIG_RT', 'ORIG_AMT', 'ORIG_TRM',\n",
       "       'ORIG_DTE', 'FRST_DTE', 'OLTV', 'OCLTV', 'NUM_BO', 'DTI', 'CSCORE_B',\n",
       "       'FTHB_FLG', 'PURPOSE', 'PROP_TYP', 'NUM_UNIT', 'OCC_STAT', 'STATE',\n",
       "       'ZIP_3', 'MI_PCT', 'Product.Type', 'CSCORE_C', 'MI_TYPE',\n",
       "       'RELOCATION_FLG'],\n",
       "      dtype='object')"
      ]
     },
     "execution_count": 13,
     "metadata": {
      "tags": []
     },
     "output_type": "execute_result"
    }
   ],
   "source": [
    "acquisition_df.columns"
   ]
  },
  {
   "cell_type": "markdown",
   "metadata": {
    "colab_type": "text",
    "id": "hJupFzpRuCZ9"
   },
   "source": [
    "#### Loading the Performance Data"
   ]
  },
  {
   "cell_type": "code",
   "execution_count": 16,
   "metadata": {
    "colab": {
     "base_uri": "https://localhost:8080/",
     "height": 72
    },
    "colab_type": "code",
    "id": "aSM-v4WXuCZ-",
    "outputId": "224f82da-104c-4a0d-b8c9-9bafd3e9b3a1"
   },
   "outputs": [
    {
     "name": "stderr",
     "output_type": "stream",
     "text": [
      "/usr/local/lib/python3.6/dist-packages/IPython/core/interactiveshell.py:2718: DtypeWarning: Columns (14,15,16) have mixed types. Specify dtype option on import or set low_memory=False.\n",
      "  interactivity=interactivity, compiler=compiler, result=result)\n"
     ]
    }
   ],
   "source": [
    "performance_data_path = \"/data/FannieMae/2010Q1/Performance_2010Q1.txt\"\n",
    "performance_data_path = f\"{base_location}2010Q1/Performance_2010Q1.txt\"\n",
    "\n",
    "performance_df = pd.read_csv(\n",
    "    performance_data_path,\n",
    "    names=PerformanceColumnNames,\n",
    "    header=None,\n",
    "    sep=\"|\"\n",
    ")"
   ]
  },
  {
   "cell_type": "markdown",
   "metadata": {
    "colab_type": "text",
    "id": "5lE_VMiAuCaA"
   },
   "source": [
    "First thing we note is that this takes longer than the `Acquisitions` data to load, stemming from the fact that for each loan there are multiple monthly data elements loaded."
   ]
  },
  {
   "cell_type": "code",
   "execution_count": null,
   "metadata": {
    "colab": {},
    "colab_type": "code",
    "id": "sS8HmS6juCaB",
    "outputId": "de86b646-44e0-45a2-d07f-7b2eebcc71ab"
   },
   "outputs": [
    {
     "name": "stdout",
     "output_type": "stream",
     "text": [
      "There are 323174 rows in the Acquisition Dataframe\n",
      "There are 18080692 rows in the Performance Dataframe\n"
     ]
    }
   ],
   "source": [
    "print(f\"There are {len(acquisition_df.index)} rows in the Acquisition Dataframe\")\n",
    "print(f\"There are {len(performance_df.index)} rows in the Performance Dataframe\")"
   ]
  },
  {
   "cell_type": "markdown",
   "metadata": {
    "colab_type": "text",
    "id": "P08n3vdduCaE"
   },
   "source": [
    "#### More Information on Fannie Mae Dataset\n",
    "\n",
    "For more information on the Fannie Mae Dataset see the associated GitHub repo."
   ]
  },
  {
   "cell_type": "code",
   "execution_count": null,
   "metadata": {
    "colab": {},
    "colab_type": "code",
    "id": "Wqaw3MdQuCaE"
   },
   "outputs": [],
   "source": [
    "X = acquisition_df['CSCORE_B']"
   ]
  },
  {
   "cell_type": "code",
   "execution_count": null,
   "metadata": {
    "colab": {},
    "colab_type": "code",
    "id": "H8-IERgfuCaH"
   },
   "outputs": [],
   "source": [
    "import numpy as np"
   ]
  },
  {
   "cell_type": "code",
   "execution_count": null,
   "metadata": {
    "colab": {},
    "colab_type": "code",
    "id": "ZXie63yfuCaJ"
   },
   "outputs": [],
   "source": [
    "import matplotlib.pyplot as plt"
   ]
  },
  {
   "cell_type": "code",
   "execution_count": null,
   "metadata": {
    "colab": {},
    "colab_type": "code",
    "id": "5Jo6oGpDuCaO",
    "outputId": "f407e28a-057e-4510-c0b2-dec8e56e1783"
   },
   "outputs": [
    {
     "name": "stderr",
     "output_type": "stream",
     "text": [
      "/home/capcolabs/Stevens/Machine-Learning-Algorithms/venv/lib/python3.7/site-packages/numpy/lib/histograms.py:829: RuntimeWarning: invalid value encountered in greater_equal\n",
      "  keep = (tmp_a >= first_edge)\n",
      "/home/capcolabs/Stevens/Machine-Learning-Algorithms/venv/lib/python3.7/site-packages/numpy/lib/histograms.py:830: RuntimeWarning: invalid value encountered in less_equal\n",
      "  keep &= (tmp_a <= last_edge)\n"
     ]
    },
    {
     "data": {
      "text/plain": [
       "(array([9.00000e+00, 1.60000e+01, 1.73000e+02, 1.57300e+03, 7.06500e+03,\n",
       "        2.24840e+04, 4.50150e+04, 7.64810e+04, 1.40172e+05, 2.98840e+04]),\n",
       " array([483. , 518.9, 554.8, 590.7, 626.6, 662.5, 698.4, 734.3, 770.2,\n",
       "        806.1, 842. ]),\n",
       " <a list of 10 Patch objects>)"
      ]
     },
     "execution_count": 13,
     "metadata": {
      "tags": []
     },
     "output_type": "execute_result"
    },
    {
     "data": {
      "image/png": "[encoded data removed]",
      "text/plain": [
       "<Figure size 432x288 with 1 Axes>"
      ]
     },
     "metadata": {
      "needs_background": "light",
      "tags": []
     },
     "output_type": "display_data"
    }
   ],
   "source": [
    "plt.hist(X)"
   ]
  },
  {
   "cell_type": "code",
   "execution_count": null,
   "metadata": {
    "colab": {},
    "colab_type": "code",
    "id": "qufPWcgNuCaQ",
    "outputId": "2f9286c2-fd61-4942-fe2d-f67d57bedb37"
   },
   "outputs": [
    {
     "name": "stdout",
     "output_type": "stream",
     "text": [
      "['AK' 'AL' 'AR' 'AZ' 'CA' 'CO' 'CT' 'DC' 'DE' 'FL' 'GA' 'GU' 'HI' 'IA'\n",
      " 'ID' 'IL' 'IN' 'KS' 'KY' 'LA' 'MA' 'MD' 'ME' 'MI' 'MN' 'MO' 'MS' 'MT'\n",
      " 'NC' 'ND' 'NE' 'NH' 'NJ' 'NM' 'NV' 'NY' 'OH' 'OK' 'OR' 'PA' 'PR' 'RI'\n",
      " 'SC' 'SD' 'TN' 'TX' 'UT' 'VA' 'VI' 'VT' 'WA' 'WI' 'WV' 'WY']\n"
     ]
    }
   ],
   "source": [
    "STATES = acquisition_df['STATE']\n",
    "print(np.unique(STATES))"
   ]
  },
  {
   "cell_type": "code",
   "execution_count": null,
   "metadata": {
    "colab": {},
    "colab_type": "code",
    "id": "LplTVmAAuCaT",
    "outputId": "e61e794a-aab5-47ed-8bc8-600d39a78cbe"
   },
   "outputs": [
    {
     "name": "stdout",
     "output_type": "stream",
     "text": [
      "array([  6,   7,   8,   9,  10,  11,  12,  13,  14,  15,  16,  17,  18,\n",
      "        19,  20,  21,  22,  23,  24,  25,  26,  27,  28,  29,  30,  31,\n",
      "        32,  33,  34,  35,  36,  37,  38,  39,  40,  41,  42,  43,  44,\n",
      "        45,  46,  47,  48,  49,  50,  51,  52,  53,  54,  56,  57,  58,\n",
      "        59,  60,  61,  62,  63,  64,  65,  66,  67,  68,  69,  70,  71,\n",
      "        72,  73,  74,  75,  76,  77,  78,  79,  80,  81,  82,  83,  84,\n",
      "        85,  86,  87,  88,  89, 100, 101, 102, 103, 104, 105, 106, 107,\n",
      "       108, 109, 110, 111, 112, 113, 114, 115, 116, 117, 118, 119, 120,\n",
      "       121, 122, 123, 124, 125, 126, 127, 128, 129, 130, 131, 132, 133,\n",
      "       134, 135, 136, 137, 138, 139, 140, 141, 142, 143, 144, 145, 146,\n",
      "       147, 148, 149, 150, 151, 152, 153, 154, 155, 156, 157, 158, 159,\n",
      "       160, 161, 162, 163, 164, 165, 166, 167, 168, 169, 170, 171, 172,\n",
      "       173, 174, 175, 176, 177, 178, 179, 180, 181, 182, 183, 184, 185,\n",
      "       186, 187, 188, 189, 190, 191, 193, 194, 195, 196, 197, 198, 199,\n",
      "       200, 201, 206, 207, 208, 209, 210, 211, 212, 214, 215, 216, 217,\n",
      "       218, 219, 220, 221, 222, 223, 224, 225, 226, 227, 228, 229, 230,\n",
      "       231, 232, 233, 234, 235, 236, 237, 238, 239, 240, 241, 242, 243,\n",
      "       244, 245, 246, 247, 248, 249, 250, 251, 252, 253, 254, 255, 256,\n",
      "       257, 258, 259, 260, 261, 262, 263, 264, 265, 266, 267, 268, 270,\n",
      "       271, 272, 273, 274, 275, 276, 277, 278, 279, 280, 281, 282, 283,\n",
      "       284, 285, 286, 287, 288, 289, 290, 291, 292, 293, 294, 295, 296,\n",
      "       297, 298, 299, 300, 301, 302, 303, 304, 305, 306, 307, 308, 309,\n",
      "       310, 312, 313, 314, 315, 316, 317, 318, 319, 320, 321, 322, 323,\n",
      "       324, 325, 326, 327, 328, 329, 330, 331, 332, 333, 334, 335, 336,\n",
      "       337, 338, 339, 341, 342, 344, 346, 347, 349, 350, 351, 352, 354,\n",
      "       355, 356, 357, 358, 359, 360, 361, 362, 363, 364, 365, 366, 367,\n",
      "       368, 369, 370, 371, 372, 373, 374, 376, 377, 378, 379, 380, 381,\n",
      "       382, 383, 384, 385, 386, 387, 388, 389, 390, 391, 392, 393, 394,\n",
      "       395, 396, 397, 398, 400, 401, 402, 403, 404, 405, 406, 407, 409,\n",
      "       410, 411, 412, 413, 414, 415, 417, 420, 421, 422, 423, 424, 425,\n",
      "       426, 427, 430, 431, 432, 433, 434, 435, 436, 437, 438, 439, 440,\n",
      "       441, 442, 443, 444, 445, 446, 447, 448, 449, 450, 451, 452, 453,\n",
      "       454, 455, 456, 457, 458, 460, 461, 462, 463, 464, 465, 466, 467,\n",
      "       468, 469, 470, 471, 472, 473, 474, 475, 476, 477, 478, 479, 480,\n",
      "       481, 482, 483, 484, 485, 486, 487, 488, 489, 490, 491, 492, 493,\n",
      "       494, 495, 496, 497, 498, 499, 500, 501, 502, 503, 504, 505, 506,\n",
      "       507, 508, 510, 511, 512, 513, 514, 515, 516, 520, 521, 522, 523,\n",
      "       524, 525, 526, 527, 528, 530, 531, 532, 534, 535, 537, 538, 539,\n",
      "       540, 541, 542, 543, 544, 545, 546, 547, 548, 549, 550, 551, 553,\n",
      "       554, 556, 557, 558, 559, 560, 561, 562, 563, 564, 565, 566, 567,\n",
      "       570, 571, 572, 573, 574, 575, 576, 577, 580, 581, 582, 583, 584,\n",
      "       585, 586, 587, 588, 590, 591, 592, 593, 594, 595, 596, 597, 598,\n",
      "       599, 600, 601, 602, 603, 604, 605, 606, 607, 608, 609, 610, 611,\n",
      "       612, 613, 614, 615, 616, 617, 618, 619, 620, 622, 623, 624, 625,\n",
      "       626, 627, 628, 629, 630, 631, 633, 634, 635, 636, 637, 638, 639,\n",
      "       640, 641, 644, 645, 646, 647, 648, 650, 651, 652, 653, 654, 655,\n",
      "       656, 657, 658, 660, 661, 662, 664, 665, 666, 667, 668, 669, 670,\n",
      "       671, 672, 673, 674, 675, 676, 677, 678, 679, 680, 681, 683, 684,\n",
      "       685, 686, 687, 688, 689, 690, 691, 692, 693, 700, 701, 703, 704,\n",
      "       705, 706, 707, 708, 710, 711, 712, 713, 714, 716, 717, 718, 719,\n",
      "       720, 721, 722, 723, 724, 725, 726, 727, 728, 729, 730, 731, 734,\n",
      "       735, 736, 737, 738, 739, 740, 741, 743, 744, 745, 746, 747, 748,\n",
      "       749, 750, 751, 752, 754, 755, 756, 757, 758, 759, 760, 761, 762,\n",
      "       763, 764, 765, 766, 767, 768, 769, 770, 773, 774, 775, 776, 777,\n",
      "       778, 779, 780, 781, 782, 783, 784, 785, 786, 787, 788, 789, 790,\n",
      "       791, 792, 793, 794, 795, 796, 797, 798, 799, 800, 801, 802, 803,\n",
      "       804, 805, 806, 807, 808, 809, 810, 811, 812, 813, 814, 815, 816,\n",
      "       820, 822, 823, 824, 825, 826, 827, 828, 829, 830, 831, 832, 833,\n",
      "       834, 835, 836, 837, 838, 840, 841, 843, 844, 845, 846, 847, 850,\n",
      "       851, 852, 853, 855, 856, 857, 859, 860, 863, 864, 870, 871, 873,\n",
      "       874, 875, 877, 878, 879, 880, 881, 882, 883, 884, 890, 891, 893,\n",
      "       894, 895, 897, 898, 900, 902, 903, 904, 905, 906, 907, 908, 910,\n",
      "       911, 912, 913, 914, 915, 916, 917, 918, 919, 920, 921, 922, 923,\n",
      "       924, 925, 926, 927, 928, 930, 931, 932, 933, 934, 935, 936, 937,\n",
      "       939, 940, 941, 942, 943, 944, 945, 946, 947, 948, 949, 950, 951,\n",
      "       952, 953, 954, 955, 956, 957, 958, 959, 960, 961, 967, 968, 969,\n",
      "       970, 971, 972, 973, 974, 975, 976, 977, 978, 979, 980, 981, 982,\n",
      "       983, 984, 985, 986, 988, 989, 990, 991, 992, 993, 994, 995, 996,\n",
      "       997, 998, 999])\n"
     ]
    }
   ],
   "source": [
    "ZIP = list(acquisition_df['ZIP_3'])\n",
    "from pprint import pprint\n",
    "pprint(np.unique(ZIP))"
   ]
  },
  {
   "cell_type": "code",
   "execution_count": null,
   "metadata": {
    "colab": {},
    "colab_type": "code",
    "id": "mXvAf4DDuCaV",
    "outputId": "58e0f0ea-edc2-425d-a870-d443313528bf"
   },
   "outputs": [
    {
     "name": "stdout",
     "output_type": "stream",
     "text": [
      "BANK OF AMERICA, N.A.\n",
      "CITIMORTGAGE, INC.\n",
      "CITIZENS BANK, NATIONAL ASSOCIATION\n",
      "FLAGSTAR CAPITAL MARKETS CORPORATION\n",
      "GMAC MORTGAGE, LLC\n",
      "GMAC MORTGAGE, LLC (USAA FEDERAL SAVINGS BANK)\n",
      "HSBC BANK USA, NATIONAL ASSOCIATION\n",
      "JPMORGAN CHASE BANK, NATIONAL ASSOCIATION\n",
      "OTHER\n",
      "PHH MORTGAGE CORPORATION\n",
      "PNC BANK, N.A.\n",
      "SUNTRUST MORTGAGE INC.\n",
      "U.S. BANK N.A.\n",
      "WELLS FARGO BANK, N.A.\n"
     ]
    }
   ],
   "source": [
    "SELLER = acquisition_df['Seller.Name']\n",
    "SELLERS = np.unique(SELLER)\n",
    "for seller in SELLERS:\n",
    "    print(seller)"
   ]
  },
  {
   "cell_type": "code",
   "execution_count": null,
   "metadata": {
    "colab": {},
    "colab_type": "code",
    "id": "_CTGeuxquCaY"
   },
   "outputs": [],
   "source": []
  }
 ],
 "metadata": {
  "colab": {
   "include_colab_link": true,
   "name": "01-Data Loading.ipynb",
   "provenance": []
  },
  "kernelspec": {
   "display_name": "Python 3",
   "language": "python",
   "name": "python3"
  },
  "language_info": {
   "codemirror_mode": {
    "name": "ipython",
    "version": 3
   },
   "file_extension": ".py",
   "mimetype": "text/x-python",
   "name": "python",
   "nbconvert_exporter": "python",
   "pygments_lexer": "ipython3",
   "version": "3.7.3"
  }
 },
 "nbformat": 4,
 "nbformat_minor": 4
}
