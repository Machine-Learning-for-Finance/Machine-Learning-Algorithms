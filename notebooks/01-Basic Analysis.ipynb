{
 "cells": [
  {
   "cell_type": "code",
   "execution_count": 9,
   "metadata": {},
   "outputs": [
    {
     "name": "stdout",
     "output_type": "stream",
     "text": [
      "Hello World!\n"
     ]
    }
   ],
   "source": [
    "import pandas as pd\n",
    "import numpy as np\n",
    "import matplotlib.pyplot as plt\n",
    "\n",
    "import os\n",
    "import sys\n",
    "module_path = os.path.abspath(os.path.join(\"..\"))\n",
    "if module_path not in sys.path:\n",
    "    sys.path.append(module_path)\n",
    "    \n",
    "from utils import hello_world, load_dataframes_fannie\n",
    "hello_world()"
   ]
  },
  {
   "cell_type": "markdown",
   "metadata": {},
   "source": [
    "# Loading The Data and Dataframes"
   ]
  },
  {
   "cell_type": "code",
   "execution_count": 2,
   "metadata": {},
   "outputs": [
    {
     "name": "stdout",
     "output_type": "stream",
     "text": [
      "--2019-10-26 19:55:07--  https://labs-fannie-data.s3.amazonaws.com/Acquisition/Acquisition_2000Q1.txt\n",
      "Resolving labs-fannie-data.s3.amazonaws.com (labs-fannie-data.s3.amazonaws.com)... 52.216.114.187\n",
      "Connecting to labs-fannie-data.s3.amazonaws.com (labs-fannie-data.s3.amazonaws.com)|52.216.114.187|:443... connected.\n",
      "HTTP request sent, awaiting response... 200 OK\n",
      "Length: 26908005 (26M) [text/plain]\n",
      "Saving to: ‘Acquisition_2000Q1.txt’\n",
      "\n",
      "Acquisition_2000Q1. 100%[===================>]  25.66M  32.5MB/s    in 0.8s    \n",
      "\n",
      "2019-10-26 19:55:08 (32.5 MB/s) - ‘Acquisition_2000Q1.txt’ saved [26908005/26908005]\n",
      "\n"
     ]
    }
   ],
   "source": [
    "!wget https://labs-fannie-data.s3.amazonaws.com/Acquisition/Acquisition_2000Q1.txt"
   ]
  },
  {
   "cell_type": "code",
   "execution_count": 3,
   "metadata": {},
   "outputs": [
    {
     "name": "stdout",
     "output_type": "stream",
     "text": [
      "--2019-10-26 19:55:09--  https://labs-fannie-data.s3.amazonaws.com/Performance/Performance_2000Q1.txt\n",
      "Resolving labs-fannie-data.s3.amazonaws.com (labs-fannie-data.s3.amazonaws.com)... 52.216.114.187\n",
      "Connecting to labs-fannie-data.s3.amazonaws.com (labs-fannie-data.s3.amazonaws.com)|52.216.114.187|:443... connected.\n",
      "HTTP request sent, awaiting response... 200 OK\n",
      "Length: 788948280 (752M) [text/plain]\n",
      "Saving to: ‘Performance_2000Q1.txt’\n",
      "\n",
      "Performance_2000Q1. 100%[===================>] 752.40M  33.7MB/s    in 21s     \n",
      "\n",
      "2019-10-26 19:55:30 (35.6 MB/s) - ‘Performance_2000Q1.txt’ saved [788948280/788948280]\n",
      "\n"
     ]
    }
   ],
   "source": [
    "!wget https://labs-fannie-data.s3.amazonaws.com/Performance/Performance_2000Q1.txt"
   ]
  },
  {
   "cell_type": "code",
   "execution_count": 4,
   "metadata": {},
   "outputs": [],
   "source": [
    "a_df, p_df = load_dataframes_fannie(\n",
    "    \"Acquisition_2000Q1.txt\",\n",
    "    \"Performance_2000Q1.txt\"\n",
    ")"
   ]
  },
  {
   "cell_type": "markdown",
   "metadata": {},
   "source": [
    "# Acquisitions Data Analysis\n",
    "\n",
    "We will first run an analysis of the `Acquisition` data."
   ]
  },
  {
   "cell_type": "code",
   "execution_count": 8,
   "metadata": {},
   "outputs": [
    {
     "name": "stdout",
     "output_type": "stream",
     "text": [
      "Index(['LOAN_ID', 'ORIG_CHN', 'Seller.Name', 'ORIG_RT', 'ORIG_AMT', 'ORIG_TRM',\n",
      "       'ORIG_DTE', 'FRST_DTE', 'OLTV', 'OCLTV', 'NUM_BO', 'DTI', 'CSCORE_B',\n",
      "       'FTHB_FLG', 'PURPOSE', 'PROP_TYP', 'NUM_UNIT', 'OCC_STAT', 'STATE',\n",
      "       'ZIP_3', 'MI_PCT', 'Product.Type', 'CSCORE_C', 'MI_TYPE',\n",
      "       'RELOCATION_FLG'],\n",
      "      dtype='object')\n"
     ]
    }
   ],
   "source": [
    "print(a_df.columns)"
   ]
  },
  {
   "cell_type": "markdown",
   "metadata": {},
   "source": [
    "### Columns to Analyze.\n",
    "\n",
    "We will study the following:\n",
    "- `ORIG_RT`\n",
    "- `ORIG_AMT`\n",
    "- `OLTV`\n",
    "- `OCLTV`\n",
    "- `DTI`\n",
    "- `CSCORE_B`\n",
    "\n",
    "# Descriptive Statistics\n",
    "\n",
    "First, let's investigate the descriptive statistics involved.\n"
   ]
  },
  {
   "cell_type": "code",
   "execution_count": 47,
   "metadata": {},
   "outputs": [],
   "source": [
    "def print_descriptive_stats(column):\n",
    "    \"\"\"\n",
    "    \"\"\"\n",
    "    print(f\"Getting Descriptive Statistics\")\n",
    "    print(f\"Column Name: '{column.name}'\")\n",
    "    fig = plt.hist(column)\n",
    "    print(f\"Mean Value: {column.mean()}\")\n",
    "    print(f\"STD  Value: {column.std()}\")\n",
    "    print(f\"Min  Value: {column.min()}\")\n",
    "    print(f\"Max  Value: {column.max()}\")"
   ]
  },
  {
   "cell_type": "markdown",
   "metadata": {},
   "source": [
    "## Original Rate"
   ]
  },
  {
   "cell_type": "code",
   "execution_count": 48,
   "metadata": {},
   "outputs": [
    {
     "name": "stdout",
     "output_type": "stream",
     "text": [
      "Getting Descriptive Statistics\n",
      "Column Name: 'ORIG_RT'\n",
      "Mean Value: 8.009949947946838\n",
      "STD  Value: 0.4556470117137119\n",
      "Min  Value: 3.0\n",
      "Max  Value: 12.325\n"
     ]
    },
    {
     "data": {
      "image/png": "[encoded data removed]",
      "text/plain": [
       "<Figure size 432x288 with 1 Axes>"
      ]
     },
     "metadata": {
      "needs_background": "light"
     },
     "output_type": "display_data"
    }
   ],
   "source": [
    "print_descriptive_stats(a_df[\"ORIG_RT\"])"
   ]
  },
  {
   "cell_type": "markdown",
   "metadata": {},
   "source": [
    "## Original Amount"
   ]
  },
  {
   "cell_type": "code",
   "execution_count": 49,
   "metadata": {},
   "outputs": [
    {
     "name": "stdout",
     "output_type": "stream",
     "text": [
      "Getting Descriptive Statistics\n",
      "Column Name: 'ORIG_AMT'\n",
      "Mean Value: 119903.06769341699\n",
      "STD  Value: 56474.703864902054\n",
      "Min  Value: 6000\n",
      "Max  Value: 486000\n"
     ]
    },
    {
     "data": {
      "image/png": "[encoded data removed]",
      "text/plain": [
       "<Figure size 432x288 with 1 Axes>"
      ]
     },
     "metadata": {
      "needs_background": "light"
     },
     "output_type": "display_data"
    }
   ],
   "source": [
    "print_descriptive_stats(a_df['ORIG_AMT'])"
   ]
  },
  {
   "cell_type": "markdown",
   "metadata": {},
   "source": [
    "## Original Loan To Value"
   ]
  },
  {
   "cell_type": "code",
   "execution_count": 50,
   "metadata": {},
   "outputs": [
    {
     "name": "stdout",
     "output_type": "stream",
     "text": [
      "Getting Descriptive Statistics\n",
      "Column Name: 'OLTV'\n",
      "Mean Value: 76.43044466319103\n",
      "STD  Value: 16.321432152016186\n",
      "Min  Value: 4.0\n",
      "Max  Value: 97.0\n"
     ]
    },
    {
     "data": {
      "image/png": "[encoded data removed]",
      "text/plain": [
       "<Figure size 432x288 with 1 Axes>"
      ]
     },
     "metadata": {
      "needs_background": "light"
     },
     "output_type": "display_data"
    }
   ],
   "source": [
    "print_descriptive_stats(a_df['OLTV'])"
   ]
  },
  {
   "cell_type": "markdown",
   "metadata": {},
   "source": [
    "## Original Combined Loan to Value"
   ]
  },
  {
   "cell_type": "code",
   "execution_count": 51,
   "metadata": {},
   "outputs": [
    {
     "name": "stdout",
     "output_type": "stream",
     "text": [
      "Getting Descriptive Statistics\n",
      "Column Name: 'OCLTV'\n",
      "Mean Value: 88.93156281920326\n",
      "STD  Value: 10.050201938620017\n",
      "Min  Value: 25.0\n",
      "Max  Value: 146.0\n"
     ]
    },
    {
     "data": {
      "image/png": "[encoded data removed]",
      "text/plain": [
       "<Figure size 432x288 with 1 Axes>"
      ]
     },
     "metadata": {
      "needs_background": "light"
     },
     "output_type": "display_data"
    }
   ],
   "source": [
    "print_descriptive_stats(a_df['OCLTV'])"
   ]
  },
  {
   "cell_type": "markdown",
   "metadata": {},
   "source": [
    "## Debt To Income"
   ]
  },
  {
   "cell_type": "code",
   "execution_count": 52,
   "metadata": {},
   "outputs": [
    {
     "name": "stdout",
     "output_type": "stream",
     "text": [
      "Getting Descriptive Statistics\n",
      "Column Name: 'DTI'\n",
      "Mean Value: 34.361626863903325\n",
      "STD  Value: 11.999554980602742\n",
      "Min  Value: 1.0\n",
      "Max  Value: 64.0\n"
     ]
    },
    {
     "data": {
      "image/png": "[encoded data removed]",
      "text/plain": [
       "<Figure size 432x288 with 1 Axes>"
      ]
     },
     "metadata": {
      "needs_background": "light"
     },
     "output_type": "display_data"
    }
   ],
   "source": [
    "print_descriptive_stats(a_df['DTI'])"
   ]
  },
  {
   "cell_type": "markdown",
   "metadata": {},
   "source": [
    "## Credit Score of Primary Borrower"
   ]
  },
  {
   "cell_type": "code",
   "execution_count": 53,
   "metadata": {},
   "outputs": [
    {
     "name": "stdout",
     "output_type": "stream",
     "text": [
      "Getting Descriptive Statistics\n",
      "Column Name: 'CSCORE_B'\n",
      "Mean Value: 714.993915472381\n",
      "STD  Value: 54.9676797046954\n",
      "Min  Value: 350.0\n",
      "Max  Value: 850.0\n"
     ]
    },
    {
     "data": {
      "image/png": "[encoded data removed]",
      "text/plain": [
       "<Figure size 432x288 with 1 Axes>"
      ]
     },
     "metadata": {
      "needs_background": "light"
     },
     "output_type": "display_data"
    }
   ],
   "source": [
    "print_descriptive_stats(a_df['CSCORE_B'])"
   ]
  },
  {
   "cell_type": "markdown",
   "metadata": {},
   "source": [
    "# Determining Correlations"
   ]
  },
  {
   "cell_type": "code",
   "execution_count": null,
   "metadata": {},
   "outputs": [],
   "source": []
  }
 ],
 "metadata": {
  "kernelspec": {
   "display_name": "Python 3",
   "language": "python",
   "name": "python3"
  },
  "language_info": {
   "codemirror_mode": {
    "name": "ipython",
    "version": 3
   },
   "file_extension": ".py",
   "mimetype": "text/x-python",
   "name": "python",
   "nbconvert_exporter": "python",
   "pygments_lexer": "ipython3",
   "version": "3.7.3"
  }
 },
 "nbformat": 4,
 "nbformat_minor": 4
}
