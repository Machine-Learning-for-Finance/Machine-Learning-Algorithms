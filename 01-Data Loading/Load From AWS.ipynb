{
 "cells": [
  {
   "cell_type": "code",
   "execution_count": 4,
   "metadata": {},
   "outputs": [
    {
     "name": "stdout",
     "output_type": "stream",
     "text": [
      "Hello World!\n"
     ]
    }
   ],
   "source": [
    "import os\n",
    "import sys\n",
    "module_path = os.path.abspath(os.path.join(\"..\"))\n",
    "if module_path not in sys.path:\n",
    "    sys.path.append(module_path)\n",
    "    \n",
    "from utils import hello_world\n",
    "hello_world()"
   ]
  },
  {
   "cell_type": "markdown",
   "metadata": {},
   "source": [
    "# Loading Data from AWS using `wget`\n",
    "\n",
    "The `wget` command is able to download files remotely from the internet and other servers.\n",
    "\n",
    "Documentation:\n",
    "- https://www.geeksforgeeks.org/wget-command-in-linux-unix/\n",
    "\n",
    "In our case we will use it to pull the data from AWS S3, a storage solution on the Amazon Web Services platform."
   ]
  },
  {
   "cell_type": "code",
   "execution_count": 2,
   "metadata": {},
   "outputs": [
    {
     "name": "stdout",
     "output_type": "stream",
     "text": [
      "--2019-10-26 19:11:29--  https://labs-fannie-data.s3.amazonaws.com/Acquisition/Acquisition_2000Q1.txt\n",
      "Resolving labs-fannie-data.s3.amazonaws.com (labs-fannie-data.s3.amazonaws.com)... 52.216.113.187\n",
      "Connecting to labs-fannie-data.s3.amazonaws.com (labs-fannie-data.s3.amazonaws.com)|52.216.113.187|:443... connected.\n",
      "HTTP request sent, awaiting response... 200 OK\n",
      "Length: 26908005 (26M) [text/plain]\n",
      "Saving to: ‘Acquisition_2000Q1.txt’\n",
      "\n",
      "Acquisition_2000Q1. 100%[===================>]  25.66M  33.8MB/s    in 0.8s    \n",
      "\n",
      "2019-10-26 19:11:30 (33.8 MB/s) - ‘Acquisition_2000Q1.txt’ saved [26908005/26908005]\n",
      "\n"
     ]
    }
   ],
   "source": [
    "!wget https://labs-fannie-data.s3.amazonaws.com/Acquisition/Acquisition_2000Q1.txt"
   ]
  },
  {
   "cell_type": "code",
   "execution_count": 3,
   "metadata": {},
   "outputs": [
    {
     "name": "stdout",
     "output_type": "stream",
     "text": [
      "--2019-10-26 19:11:32--  https://labs-fannie-data.s3.amazonaws.com/Acquisition/Performance_2000Q1.txt\n",
      "Resolving labs-fannie-data.s3.amazonaws.com (labs-fannie-data.s3.amazonaws.com)... 52.216.113.187\n",
      "Connecting to labs-fannie-data.s3.amazonaws.com (labs-fannie-data.s3.amazonaws.com)|52.216.113.187|:443... connected.\n",
      "HTTP request sent, awaiting response... 403 Forbidden\n",
      "2019-10-26 19:11:32 ERROR 403: Forbidden.\n",
      "\n"
     ]
    }
   ],
   "source": [
    "!wget https://labs-fannie-data.s3.amazonaws.com/Acquisition/Performance_2000Q1.txt"
   ]
  },
  {
   "cell_type": "code",
   "execution_count": null,
   "metadata": {},
   "outputs": [],
   "source": []
  }
 ],
 "metadata": {
  "kernelspec": {
   "display_name": "Python 3",
   "language": "python",
   "name": "python3"
  },
  "language_info": {
   "codemirror_mode": {
    "name": "ipython",
    "version": 3
   },
   "file_extension": ".py",
   "mimetype": "text/x-python",
   "name": "python",
   "nbconvert_exporter": "python",
   "pygments_lexer": "ipython3",
   "version": "3.7.3"
  }
 },
 "nbformat": 4,
 "nbformat_minor": 4
}
