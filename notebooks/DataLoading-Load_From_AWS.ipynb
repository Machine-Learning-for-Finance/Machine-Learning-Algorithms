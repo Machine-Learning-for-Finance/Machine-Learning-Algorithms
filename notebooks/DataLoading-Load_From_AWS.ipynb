{
 "cells": [
  {
   "cell_type": "code",
   "execution_count": 5,
   "metadata": {},
   "outputs": [
    {
     "name": "stdout",
     "output_type": "stream",
     "text": [
      "Hello World!\n"
     ]
    }
   ],
   "source": [
    "import os\n",
    "import sys\n",
    "module_path = os.path.abspath(os.path.join(\"..\"))\n",
    "if module_path not in sys.path:\n",
    "    sys.path.append(module_path)\n",
    "    \n",
    "from utils import hello_world, load_dataframes_fannie\n",
    "hello_world()"
   ]
  },
  {
   "cell_type": "markdown",
   "metadata": {},
   "source": [
    "# Loading Data from AWS using `wget`\n",
    "\n",
    "The `wget` command is able to download files remotely from the internet and other servers.\n",
    "\n",
    "Documentation:\n",
    "- https://www.geeksforgeeks.org/wget-command-in-linux-unix/\n",
    "\n",
    "In our case we will use it to pull the data from AWS S3, a storage solution on the Amazon Web Services platform."
   ]
  },
  {
   "cell_type": "code",
   "execution_count": 4,
   "metadata": {},
   "outputs": [
    {
     "name": "stdout",
     "output_type": "stream",
     "text": [
      "--2019-10-26 19:49:57--  https://labs-fannie-data.s3.amazonaws.com/Acquisition/Acquisition_2000Q1.txt\n",
      "Resolving labs-fannie-data.s3.amazonaws.com (labs-fannie-data.s3.amazonaws.com)... 52.216.95.99\n",
      "Connecting to labs-fannie-data.s3.amazonaws.com (labs-fannie-data.s3.amazonaws.com)|52.216.95.99|:443... connected.\n",
      "HTTP request sent, awaiting response... 200 OK\n",
      "Length: 26908005 (26M) [text/plain]\n",
      "Saving to: ‘Acquisition_2000Q1.txt’\n",
      "\n",
      "Acquisition_2000Q1. 100%[===================>]  25.66M  34.1MB/s    in 0.8s    \n",
      "\n",
      "2019-10-26 19:49:58 (34.1 MB/s) - ‘Acquisition_2000Q1.txt’ saved [26908005/26908005]\n",
      "\n"
     ]
    }
   ],
   "source": [
    "!wget https://labs-fannie-data.s3.amazonaws.com/Acquisition/Acquisition_2000Q1.txt"
   ]
  },
  {
   "cell_type": "code",
   "execution_count": 3,
   "metadata": {},
   "outputs": [
    {
     "name": "stdout",
     "output_type": "stream",
     "text": [
      "--2019-10-26 19:43:08--  https://labs-fannie-data.s3.amazonaws.com/Performance/Performance_2000Q1.txt\n",
      "Resolving labs-fannie-data.s3.amazonaws.com (labs-fannie-data.s3.amazonaws.com)... 52.216.204.3\n",
      "Connecting to labs-fannie-data.s3.amazonaws.com (labs-fannie-data.s3.amazonaws.com)|52.216.204.3|:443... connected.\n",
      "HTTP request sent, awaiting response... 200 OK\n",
      "Length: 788948280 (752M) [text/plain]\n",
      "Saving to: ‘Performance_2000Q1.txt’\n",
      "\n",
      "Performance_2000Q1. 100%[===================>] 752.40M  35.6MB/s    in 21s     \n",
      "\n",
      "2019-10-26 19:43:29 (36.1 MB/s) - ‘Performance_2000Q1.txt’ saved [788948280/788948280]\n",
      "\n"
     ]
    }
   ],
   "source": [
    "!wget https://labs-fannie-data.s3.amazonaws.com/Performance/Performance_2000Q1.txt"
   ]
  },
  {
   "cell_type": "code",
   "execution_count": 6,
   "metadata": {},
   "outputs": [],
   "source": [
    "a_df, p_df = load_dataframes_fannie(\n",
    "    \"Acquisition_2000Q1.txt\",\n",
    "    \"Performance_2000Q1.txt\"\n",
    ")"
   ]
  },
  {
   "cell_type": "code",
   "execution_count": null,
   "metadata": {},
   "outputs": [],
   "source": []
  }
 ],
 "metadata": {
  "kernelspec": {
   "display_name": "Python 3",
   "language": "python",
   "name": "python3"
  },
  "language_info": {
   "codemirror_mode": {
    "name": "ipython",
    "version": 3
   },
   "file_extension": ".py",
   "mimetype": "text/x-python",
   "name": "python",
   "nbconvert_exporter": "python",
   "pygments_lexer": "ipython3",
   "version": "3.7.3"
  }
 },
 "nbformat": 4,
 "nbformat_minor": 4
}
