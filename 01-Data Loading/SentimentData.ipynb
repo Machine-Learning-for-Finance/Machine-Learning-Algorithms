{
 "cells": [
  {
   "cell_type": "code",
   "execution_count": 1,
   "metadata": {},
   "outputs": [
    {
     "name": "stdout",
     "output_type": "stream",
     "text": [
      "Hello World!\n"
     ]
    }
   ],
   "source": [
    "import os\n",
    "import sys\n",
    "module_path = os.path.abspath(os.path.join(\"..\"))\n",
    "if module_path not in sys.path:\n",
    "    sys.path.append(module_path)\n",
    "    \n",
    "from utils import hello_world, load_dataframes_fannie\n",
    "hello_world()"
   ]
  },
  {
   "cell_type": "code",
   "execution_count": 2,
   "metadata": {},
   "outputs": [],
   "source": [
    "import json\n",
    "import pandas as pd\n",
    "import matplotlib.pyplot as plt\n",
    "import numpy as np\n",
    "from os import environ\n",
    "environ['TF_FORCE_GPU_ALLOW_GROWTH'] = \"true\""
   ]
  },
  {
   "cell_type": "code",
   "execution_count": 3,
   "metadata": {},
   "outputs": [],
   "source": [
    "fpath = \"/data/stock_sentiment/AAII_Sentiment.json\"\n",
    "with open(fpath, 'r') as F:\n",
    "    raw_sentiment = json.load(F)"
   ]
  },
  {
   "cell_type": "code",
   "execution_count": 4,
   "metadata": {},
   "outputs": [
    {
     "name": "stdout",
     "output_type": "stream",
     "text": [
      "1\n"
     ]
    }
   ],
   "source": [
    "print(len(raw_sentiment))"
   ]
  },
  {
   "cell_type": "code",
   "execution_count": 5,
   "metadata": {},
   "outputs": [
    {
     "name": "stdout",
     "output_type": "stream",
     "text": [
      "id\n",
      "dataset_code\n",
      "database_code\n",
      "name\n",
      "description\n",
      "refreshed_at\n",
      "newest_available_date\n",
      "oldest_available_date\n",
      "column_names\n",
      "frequency\n",
      "type\n",
      "premium\n",
      "limit\n",
      "transform\n",
      "column_index\n",
      "start_date\n",
      "end_date\n",
      "data\n",
      "collapse\n",
      "order\n",
      "database_id\n"
     ]
    }
   ],
   "source": [
    "for key in raw_sentiment['dataset']:\n",
    "    print(key)"
   ]
  },
  {
   "cell_type": "code",
   "execution_count": 6,
   "metadata": {},
   "outputs": [],
   "source": [
    "DATA = raw_sentiment['dataset']['data']\n",
    "column_names = raw_sentiment['dataset']['column_names']"
   ]
  },
  {
   "cell_type": "code",
   "execution_count": 7,
   "metadata": {},
   "outputs": [],
   "source": [
    "with open(\"sentiment_data.csv\", 'w') as F:\n",
    "    for line in DATA:\n",
    "        F.write(\",\".join(f\"{l}\" for l in line)+\"\\n\")"
   ]
  },
  {
   "cell_type": "code",
   "execution_count": 8,
   "metadata": {},
   "outputs": [],
   "source": [
    "df = pd.read_csv(\n",
    "    \"sentiment_data.csv\",\n",
    "    header=None,\n",
    "    names=column_names\n",
    ")"
   ]
  },
  {
   "cell_type": "code",
   "execution_count": 9,
   "metadata": {},
   "outputs": [
    {
     "data": {
      "text/html": [
       "<div>\n",
       "<style scoped>\n",
       "    .dataframe tbody tr th:only-of-type {\n",
       "        vertical-align: middle;\n",
       "    }\n",
       "\n",
       "    .dataframe tbody tr th {\n",
       "        vertical-align: top;\n",
       "    }\n",
       "\n",
       "    .dataframe thead th {\n",
       "        text-align: right;\n",
       "    }\n",
       "</style>\n",
       "<table border=\"1\" class=\"dataframe\">\n",
       "  <thead>\n",
       "    <tr style=\"text-align: right;\">\n",
       "      <th></th>\n",
       "      <th>Date</th>\n",
       "      <th>Bullish</th>\n",
       "      <th>Neutral</th>\n",
       "      <th>Bearish</th>\n",
       "      <th>Total</th>\n",
       "      <th>Bullish 8-Week Mov Avg</th>\n",
       "      <th>Bull-Bear Spread</th>\n",
       "      <th>Bullish Average</th>\n",
       "      <th>Bullish Average + St. Dev</th>\n",
       "      <th>Bullish Average - St. Dev</th>\n",
       "      <th>S&amp;P 500 Weekly High</th>\n",
       "      <th>S&amp;P 500 Weekly Low</th>\n",
       "      <th>S&amp;P 500 Weekly Close</th>\n",
       "    </tr>\n",
       "  </thead>\n",
       "  <tbody>\n",
       "    <tr>\n",
       "      <td>0</td>\n",
       "      <td>2019-11-07</td>\n",
       "      <td>0.403023</td>\n",
       "      <td>0.357683</td>\n",
       "      <td>0.239295</td>\n",
       "      <td>1.000001</td>\n",
       "      <td>0.31236625</td>\n",
       "      <td>0.163728</td>\n",
       "      <td>0.380795</td>\n",
       "      <td>0.481935</td>\n",
       "      <td>0.279655</td>\n",
       "      <td>3085.2</td>\n",
       "      <td>3023.19</td>\n",
       "      <td>3076.78</td>\n",
       "    </tr>\n",
       "    <tr>\n",
       "      <td>1</td>\n",
       "      <td>2019-10-31</td>\n",
       "      <td>0.339759</td>\n",
       "      <td>0.375904</td>\n",
       "      <td>0.284337</td>\n",
       "      <td>1.0</td>\n",
       "      <td>0.303394625</td>\n",
       "      <td>0.055422</td>\n",
       "      <td>0.380795</td>\n",
       "      <td>0.481935</td>\n",
       "      <td>0.279655</td>\n",
       "      <td>3050.1</td>\n",
       "      <td>2991.21</td>\n",
       "      <td>3046.77</td>\n",
       "    </tr>\n",
       "    <tr>\n",
       "      <td>2</td>\n",
       "      <td>2019-10-24</td>\n",
       "      <td>0.356021</td>\n",
       "      <td>0.361257</td>\n",
       "      <td>0.282723</td>\n",
       "      <td>1.000001</td>\n",
       "      <td>0.29672725</td>\n",
       "      <td>0.073298</td>\n",
       "      <td>0.380795</td>\n",
       "      <td>0.481935</td>\n",
       "      <td>0.279655</td>\n",
       "      <td>3014.57</td>\n",
       "      <td>2976.31</td>\n",
       "      <td>3004.52</td>\n",
       "    </tr>\n",
       "    <tr>\n",
       "      <td>3</td>\n",
       "      <td>2019-10-17</td>\n",
       "      <td>0.336182</td>\n",
       "      <td>0.353276</td>\n",
       "      <td>0.310541</td>\n",
       "      <td>0.999999</td>\n",
       "      <td>0.284888</td>\n",
       "      <td>0.025641</td>\n",
       "      <td>0.380795</td>\n",
       "      <td>0.481935</td>\n",
       "      <td>0.279655</td>\n",
       "      <td>3003.28</td>\n",
       "      <td>2907.41</td>\n",
       "      <td>2989.69</td>\n",
       "    </tr>\n",
       "    <tr>\n",
       "      <td>4</td>\n",
       "      <td>2019-10-10</td>\n",
       "      <td>0.203085</td>\n",
       "      <td>0.357326</td>\n",
       "      <td>0.439589</td>\n",
       "      <td>1.0</td>\n",
       "      <td>0.276159625</td>\n",
       "      <td>-0.236504</td>\n",
       "      <td>0.380795</td>\n",
       "      <td>0.481935</td>\n",
       "      <td>0.279655</td>\n",
       "      <td>2959.75</td>\n",
       "      <td>2855.94</td>\n",
       "      <td>2919.4</td>\n",
       "    </tr>\n",
       "  </tbody>\n",
       "</table>\n",
       "</div>"
      ],
      "text/plain": [
       "         Date   Bullish   Neutral   Bearish     Total Bullish 8-Week Mov Avg  \\\n",
       "0  2019-11-07  0.403023  0.357683  0.239295  1.000001             0.31236625   \n",
       "1  2019-10-31  0.339759  0.375904  0.284337       1.0            0.303394625   \n",
       "2  2019-10-24  0.356021  0.361257  0.282723  1.000001             0.29672725   \n",
       "3  2019-10-17  0.336182  0.353276  0.310541  0.999999               0.284888   \n",
       "4  2019-10-10  0.203085  0.357326  0.439589       1.0            0.276159625   \n",
       "\n",
       "  Bull-Bear Spread  Bullish Average  Bullish Average + St. Dev  \\\n",
       "0         0.163728         0.380795                   0.481935   \n",
       "1         0.055422         0.380795                   0.481935   \n",
       "2         0.073298         0.380795                   0.481935   \n",
       "3         0.025641         0.380795                   0.481935   \n",
       "4        -0.236504         0.380795                   0.481935   \n",
       "\n",
       "   Bullish Average - St. Dev S&P 500 Weekly High S&P 500 Weekly Low  \\\n",
       "0                   0.279655              3085.2            3023.19   \n",
       "1                   0.279655              3050.1            2991.21   \n",
       "2                   0.279655             3014.57            2976.31   \n",
       "3                   0.279655             3003.28            2907.41   \n",
       "4                   0.279655             2959.75            2855.94   \n",
       "\n",
       "  S&P 500 Weekly Close  \n",
       "0              3076.78  \n",
       "1              3046.77  \n",
       "2              3004.52  \n",
       "3              2989.69  \n",
       "4               2919.4  "
      ]
     },
     "execution_count": 9,
     "metadata": {},
     "output_type": "execute_result"
    }
   ],
   "source": [
    "df.head()"
   ]
  },
  {
   "cell_type": "markdown",
   "metadata": {},
   "source": [
    "# Data Normalization and Column Creation\n",
    "\n"
   ]
  },
  {
   "cell_type": "code",
   "execution_count": 10,
   "metadata": {},
   "outputs": [],
   "source": [
    "NaNones = df['Bullish 8-Week Mov Avg'] != \"None\"\n",
    "df = df[NaNones]"
   ]
  },
  {
   "cell_type": "code",
   "execution_count": 11,
   "metadata": {},
   "outputs": [],
   "source": [
    "for column in column_names:\n",
    "    if column == \"Date\":\n",
    "        continue\n",
    "    df[column] = df[column].astype(np.float)\n",
    "    \n",
    "df['Date'] = pd.to_datetime(df['Date'])\n",
    "df = df.sort_values(by='Date', ascending=True)"
   ]
  },
  {
   "cell_type": "code",
   "execution_count": 20,
   "metadata": {},
   "outputs": [
    {
     "name": "stdout",
     "output_type": "stream",
     "text": [
      "0.11215208408304068\n",
      "1670\n"
     ]
    }
   ],
   "source": [
    "idx = 0\n",
    "key = 'S&P 500 Weekly High'\n",
    "maxVal = df[key].max()\n",
    "values = []\n",
    "for row in df.iterrows():\n",
    "    row = row[1]\n",
    "    if idx == 0:\n",
    "        prev = row[key]\n",
    "        idx += 1\n",
    "        values.append(0)\n",
    "        continue\n",
    "    val = (row[key] - prev)/prev\n",
    "    # df.at[idx, \"High_Change\"] = (row[key] - prev)/prev\n",
    "    # df.High_Change.iloc[idx] = val\n",
    "    values.append(val)\n",
    "    idx += 1\n",
    "    prev = row[key]\n",
    "    \n",
    "print(np.max(values))\n",
    "print(len(values))"
   ]
  },
  {
   "cell_type": "code",
   "execution_count": 25,
   "metadata": {},
   "outputs": [
    {
     "data": {
      "text/plain": [
       "1677    0.000000\n",
       "1676    0.003416\n",
       "1675   -0.005850\n",
       "1674    0.021420\n",
       "1673    0.000030\n",
       "          ...   \n",
       "4      -0.010954\n",
       "3       0.014707\n",
       "2       0.003759\n",
       "1       0.011786\n",
       "0       0.011508\n",
       "Name: High_Change, Length: 1670, dtype: float64"
      ]
     },
     "execution_count": 25,
     "metadata": {},
     "output_type": "execute_result"
    }
   ],
   "source": [
    "df[\"High_Change\"] = np.array(values)\n",
    "df['High_Change']"
   ]
  },
  {
   "cell_type": "code",
   "execution_count": 26,
   "metadata": {},
   "outputs": [],
   "source": [
    "df['High_Change'] = df[\"High_Change\"] / np.max(np.abs(values))"
   ]
  },
  {
   "cell_type": "code",
   "execution_count": 40,
   "metadata": {},
   "outputs": [
    {
     "data": {
      "text/plain": [
       "1677    0.000000\n",
       "1676    0.019143\n",
       "1675   -0.032780\n",
       "1674    0.120027\n",
       "1673    0.000171\n",
       "          ...   \n",
       "4      -0.061380\n",
       "3       0.082411\n",
       "2       0.021065\n",
       "1       0.066042\n",
       "0       0.064483\n",
       "Name: High_Change, Length: 1670, dtype: float64"
      ]
     },
     "execution_count": 40,
     "metadata": {},
     "output_type": "execute_result"
    }
   ],
   "source": [
    "df['High_Change']"
   ]
  },
  {
   "cell_type": "code",
   "execution_count": 29,
   "metadata": {},
   "outputs": [
    {
     "name": "stdout",
     "output_type": "stream",
     "text": [
      "Creating Data Objects\n",
      "Running Plot Function\n"
     ]
    },
    {
     "name": "stderr",
     "output_type": "stream",
     "text": [
      "/home/capcolabs/Stevens/Machine-Learning-Algorithms/venv/lib/python3.7/site-packages/pandas/plotting/_matplotlib/converter.py:103: FutureWarning: Using an implicitly registered datetime converter for a matplotlib plotting method. The converter was registered by pandas on import. Future versions of pandas will require you to explicitly register matplotlib converters.\n",
      "\n",
      "To register the converters:\n",
      "\t>>> from pandas.plotting import register_matplotlib_converters\n",
      "\t>>> register_matplotlib_converters()\n",
      "  warnings.warn(msg, FutureWarning)\n"
     ]
    },
    {
     "data": {
      "image/png": "[encoded data removed]",
      "text/plain": [
       "<Figure size 432x288 with 1 Axes>"
      ]
     },
     "metadata": {
      "needs_background": "light"
     },
     "output_type": "display_data"
    },
    {
     "name": "stdout",
     "output_type": "stream",
     "text": [
      "Done Running Plot Function\n"
     ]
    }
   ],
   "source": [
    "Bull = np.array(df['Bullish'].astype(np.float))\n",
    "Neut = np.array(df['Neutral'].astype(np.float))\n",
    "Bear = np.array(df['Bearish'].astype(np.float))\n",
    "Time = df['Date']\n",
    "\n",
    "print(\"Creating Data Objects\")\n",
    "X = Bull\n",
    "Y = Neut + Bull\n",
    "Z = Y + Bear\n",
    "\n",
    "print(\"Running Plot Function\")\n",
    "plt.plot(Time, X, 'r')\n",
    "plt.plot(Time, Y, 'y')\n",
    "plt.plot(Time, Z, 'g')\n",
    "plt.yticks([0, .1, .2, .3, .4, .5, .6, .7, .8, .9, 1.0], rotation='vertical')\n",
    "plt.show()\n",
    "print(\"Done Running Plot Function\")"
   ]
  },
  {
   "cell_type": "markdown",
   "metadata": {},
   "source": [
    "# Create Training and Testing Data"
   ]
  },
  {
   "cell_type": "code",
   "execution_count": 64,
   "metadata": {},
   "outputs": [
    {
     "name": "stdout",
     "output_type": "stream",
     "text": [
      "There are 1625 datapoints\n",
      "With 1625 labels\n"
     ]
    }
   ],
   "source": [
    "idx = 0\n",
    "seq_len = 45\n",
    "X, y = [], []\n",
    "for row in df.iterrows():\n",
    "    row = row[1]\n",
    "    if idx < seq_len:\n",
    "        idx += 1\n",
    "        continue\n",
    "    data = df[\n",
    "        ['Bullish', 'Neutral', 'Bearish', \"High_Change\"]\n",
    "    ][idx-seq_len:idx-1]\n",
    "    pred = row[['High_Change']\n",
    "    ]\n",
    "    X.append(np.array(data))\n",
    "    y.append(np.array(pred))\n",
    "    idx += 1\n",
    "    \n",
    "print(f\"There are {len(X)} datapoints\")\n",
    "print(f'With {len(y)} labels')"
   ]
  },
  {
   "cell_type": "markdown",
   "metadata": {},
   "source": [
    "## Separate Train and Test"
   ]
  },
  {
   "cell_type": "code",
   "execution_count": 65,
   "metadata": {},
   "outputs": [
    {
     "name": "stdout",
     "output_type": "stream",
     "text": [
      "(1300, 44, 4)\n",
      "(1300, 1)\n"
     ]
    }
   ],
   "source": [
    "proportion = 0.8\n",
    "number = int(proportion * len(X))\n",
    "\n",
    "X_train, X_test = X[:number], X[number:]\n",
    "y_train, y_test = y[:number], y[number:]\n",
    "\n",
    "X_train = np.array(X_train).astype(np.float32)\n",
    "X_test = np.array(X_test).astype(np.float32)\n",
    "\n",
    "y_train = np.array(y_train).astype(np.float32)\n",
    "y_test = np.array(y_test).astype(np.float32)\n",
    "print(X_train.shape)\n",
    "print(y_train.shape)"
   ]
  },
  {
   "cell_type": "code",
   "execution_count": null,
   "metadata": {},
   "outputs": [],
   "source": []
  },
  {
   "cell_type": "code",
   "execution_count": 66,
   "metadata": {},
   "outputs": [],
   "source": [
    "import tensorflow as tf"
   ]
  },
  {
   "cell_type": "code",
   "execution_count": 67,
   "metadata": {},
   "outputs": [],
   "source": [
    "train = tf.data.Dataset.from_tensor_slices((X_train, y_train))\n",
    "test  = tf.data.Dataset.from_tensor_slices((X_test, y_test))\n",
    "\n",
    "SHUFFLE_BUFFER_SIZE = 256\n",
    "BATCH_SIZE = 64\n",
    "\n",
    "train_dataset = train.shuffle(SHUFFLE_BUFFER_SIZE).batch(BATCH_SIZE)\n",
    "test_dataset  = test.shuffle(SHUFFLE_BUFFER_SIZE).batch(BATCH_SIZE)"
   ]
  },
  {
   "cell_type": "code",
   "execution_count": 68,
   "metadata": {},
   "outputs": [
    {
     "name": "stdout",
     "output_type": "stream",
     "text": [
      "4\n",
      "Epoch 1/50\n",
      "21/21 - 1s - loss: 0.0934 - root_mean_squared_error: 0.1292 - val_loss: 0.0000e+00 - val_root_mean_squared_error: 0.0000e+00\n",
      "Epoch 2/50\n",
      "21/21 - 0s - loss: 0.0740 - root_mean_squared_error: 0.1074 - val_loss: 0.0419 - val_root_mean_squared_error: 0.0626\n",
      "Epoch 3/50\n",
      "21/21 - 0s - loss: 0.0727 - root_mean_squared_error: 0.1069 - val_loss: 0.0510 - val_root_mean_squared_error: 0.0682\n",
      "Epoch 4/50\n",
      "21/21 - 0s - loss: 0.0729 - root_mean_squared_error: 0.1066 - val_loss: 0.0416 - val_root_mean_squared_error: 0.0641\n",
      "Epoch 5/50\n",
      "21/21 - 0s - loss: 0.0731 - root_mean_squared_error: 0.1072 - val_loss: 0.0395 - val_root_mean_squared_error: 0.0618\n",
      "Epoch 6/50\n",
      "21/21 - 0s - loss: 0.0720 - root_mean_squared_error: 0.1070 - val_loss: 0.0408 - val_root_mean_squared_error: 0.0637\n",
      "Epoch 7/50\n",
      "21/21 - 0s - loss: 0.0726 - root_mean_squared_error: 0.1068 - val_loss: 0.0446 - val_root_mean_squared_error: 0.0625\n",
      "Epoch 8/50\n",
      "21/21 - 0s - loss: 0.0720 - root_mean_squared_error: 0.1066 - val_loss: 0.0395 - val_root_mean_squared_error: 0.0620\n",
      "Epoch 9/50\n",
      "21/21 - 0s - loss: 0.0733 - root_mean_squared_error: 0.1072 - val_loss: 0.0444 - val_root_mean_squared_error: 0.0621\n",
      "Epoch 10/50\n",
      "21/21 - 0s - loss: 0.0729 - root_mean_squared_error: 0.1070 - val_loss: 0.0453 - val_root_mean_squared_error: 0.0620\n",
      "Epoch 11/50\n",
      "21/21 - 0s - loss: 0.0723 - root_mean_squared_error: 0.1070 - val_loss: 0.0430 - val_root_mean_squared_error: 0.0619\n",
      "Epoch 12/50\n",
      "21/21 - 0s - loss: 0.0732 - root_mean_squared_error: 0.1072 - val_loss: 0.0459 - val_root_mean_squared_error: 0.0618\n",
      "Epoch 13/50\n",
      "21/21 - 0s - loss: 0.0731 - root_mean_squared_error: 0.1072 - val_loss: 0.0468 - val_root_mean_squared_error: 0.0619\n",
      "Epoch 14/50\n",
      "21/21 - 0s - loss: 0.0726 - root_mean_squared_error: 0.1074 - val_loss: 0.0397 - val_root_mean_squared_error: 0.0619\n",
      "Epoch 15/50\n",
      "21/21 - 0s - loss: 0.0726 - root_mean_squared_error: 0.1070 - val_loss: 0.0485 - val_root_mean_squared_error: 0.0627\n",
      "Epoch 16/50\n",
      "21/21 - 0s - loss: 0.0721 - root_mean_squared_error: 0.1066 - val_loss: 0.0429 - val_root_mean_squared_error: 0.0620\n",
      "Epoch 17/50\n",
      "21/21 - 0s - loss: 0.0728 - root_mean_squared_error: 0.1070 - val_loss: 0.0412 - val_root_mean_squared_error: 0.0625\n",
      "Epoch 18/50\n",
      "21/21 - 0s - loss: 0.0719 - root_mean_squared_error: 0.1071 - val_loss: 0.0475 - val_root_mean_squared_error: 0.0636\n",
      "Epoch 19/50\n",
      "21/21 - 0s - loss: 0.0726 - root_mean_squared_error: 0.1069 - val_loss: 0.0437 - val_root_mean_squared_error: 0.0640\n",
      "Epoch 20/50\n",
      "21/21 - 0s - loss: 0.0723 - root_mean_squared_error: 0.1067 - val_loss: 0.0441 - val_root_mean_squared_error: 0.0639\n",
      "Epoch 21/50\n",
      "21/21 - 0s - loss: 0.0722 - root_mean_squared_error: 0.1067 - val_loss: 0.0429 - val_root_mean_squared_error: 0.0638\n",
      "Epoch 22/50\n",
      "21/21 - 0s - loss: 0.0720 - root_mean_squared_error: 0.1064 - val_loss: 0.0410 - val_root_mean_squared_error: 0.0621\n",
      "Epoch 23/50\n",
      "21/21 - 0s - loss: 0.0730 - root_mean_squared_error: 0.1067 - val_loss: 0.0458 - val_root_mean_squared_error: 0.0620\n",
      "Epoch 24/50\n",
      "21/21 - 0s - loss: 0.0726 - root_mean_squared_error: 0.1072 - val_loss: 0.0447 - val_root_mean_squared_error: 0.0620\n",
      "Epoch 25/50\n",
      "21/21 - 0s - loss: 0.0720 - root_mean_squared_error: 0.1068 - val_loss: 0.0473 - val_root_mean_squared_error: 0.0623\n",
      "Epoch 26/50\n",
      "21/21 - 0s - loss: 0.0722 - root_mean_squared_error: 0.1065 - val_loss: 0.0409 - val_root_mean_squared_error: 0.0620\n",
      "Epoch 27/50\n",
      "21/21 - 0s - loss: 0.0722 - root_mean_squared_error: 0.1064 - val_loss: 0.0449 - val_root_mean_squared_error: 0.0626\n",
      "Epoch 28/50\n",
      "21/21 - 0s - loss: 0.0726 - root_mean_squared_error: 0.1066 - val_loss: 0.0416 - val_root_mean_squared_error: 0.0650\n",
      "Epoch 29/50\n",
      "21/21 - 0s - loss: 0.0731 - root_mean_squared_error: 0.1072 - val_loss: 0.0449 - val_root_mean_squared_error: 0.0645\n",
      "Epoch 30/50\n",
      "21/21 - 0s - loss: 0.0723 - root_mean_squared_error: 0.1064 - val_loss: 0.0471 - val_root_mean_squared_error: 0.0639\n",
      "Epoch 31/50\n",
      "21/21 - 0s - loss: 0.0727 - root_mean_squared_error: 0.1066 - val_loss: 0.0402 - val_root_mean_squared_error: 0.0622\n",
      "Epoch 32/50\n",
      "21/21 - 0s - loss: 0.0723 - root_mean_squared_error: 0.1067 - val_loss: 0.0439 - val_root_mean_squared_error: 0.0639\n",
      "Epoch 33/50\n",
      "21/21 - 0s - loss: 0.0727 - root_mean_squared_error: 0.1064 - val_loss: 0.0407 - val_root_mean_squared_error: 0.0623\n",
      "Epoch 34/50\n",
      "21/21 - 0s - loss: 0.0724 - root_mean_squared_error: 0.1069 - val_loss: 0.0437 - val_root_mean_squared_error: 0.0620\n",
      "Epoch 35/50\n",
      "21/21 - 0s - loss: 0.0720 - root_mean_squared_error: 0.1067 - val_loss: 0.0411 - val_root_mean_squared_error: 0.0623\n",
      "Epoch 36/50\n",
      "21/21 - 0s - loss: 0.0723 - root_mean_squared_error: 0.1064 - val_loss: 0.0428 - val_root_mean_squared_error: 0.0622\n",
      "Epoch 37/50\n",
      "21/21 - 0s - loss: 0.0722 - root_mean_squared_error: 0.1068 - val_loss: 0.0429 - val_root_mean_squared_error: 0.0619\n",
      "Epoch 38/50\n",
      "21/21 - 0s - loss: 0.0718 - root_mean_squared_error: 0.1067 - val_loss: 0.0392 - val_root_mean_squared_error: 0.0635\n",
      "Epoch 39/50\n",
      "21/21 - 0s - loss: 0.0725 - root_mean_squared_error: 0.1065 - val_loss: 0.0435 - val_root_mean_squared_error: 0.0650\n",
      "Epoch 40/50\n",
      "21/21 - 0s - loss: 0.0725 - root_mean_squared_error: 0.1068 - val_loss: 0.0460 - val_root_mean_squared_error: 0.0639\n",
      "Epoch 41/50\n",
      "21/21 - 0s - loss: 0.0721 - root_mean_squared_error: 0.1066 - val_loss: 0.0509 - val_root_mean_squared_error: 0.0628\n",
      "Epoch 42/50\n",
      "21/21 - 0s - loss: 0.0722 - root_mean_squared_error: 0.1068 - val_loss: 0.0474 - val_root_mean_squared_error: 0.0623\n",
      "Epoch 43/50\n",
      "21/21 - 0s - loss: 0.0720 - root_mean_squared_error: 0.1066 - val_loss: 0.0398 - val_root_mean_squared_error: 0.0622\n",
      "Epoch 44/50\n",
      "21/21 - 0s - loss: 0.0724 - root_mean_squared_error: 0.1065 - val_loss: 0.0442 - val_root_mean_squared_error: 0.0636\n",
      "Epoch 45/50\n",
      "21/21 - 0s - loss: 0.0726 - root_mean_squared_error: 0.1063 - val_loss: 0.0461 - val_root_mean_squared_error: 0.0630\n",
      "Epoch 46/50\n",
      "21/21 - 0s - loss: 0.0713 - root_mean_squared_error: 0.1065 - val_loss: 0.0417 - val_root_mean_squared_error: 0.0626\n",
      "Epoch 47/50\n",
      "21/21 - 0s - loss: 0.0724 - root_mean_squared_error: 0.1068 - val_loss: 0.0536 - val_root_mean_squared_error: 0.0634\n",
      "Epoch 48/50\n",
      "21/21 - 0s - loss: 0.0714 - root_mean_squared_error: 0.1060 - val_loss: 0.0407 - val_root_mean_squared_error: 0.0629\n",
      "Epoch 49/50\n",
      "21/21 - 0s - loss: 0.0720 - root_mean_squared_error: 0.1064 - val_loss: 0.0450 - val_root_mean_squared_error: 0.0626\n",
      "Epoch 50/50\n",
      "21/21 - 0s - loss: 0.0718 - root_mean_squared_error: 0.1059 - val_loss: 0.0396 - val_root_mean_squared_error: 0.0625\n"
     ]
    },
    {
     "data": {
      "image/png": "[encoded data removed]",
      "text/plain": [
       "<Figure size 432x288 with 1 Axes>"
      ]
     },
     "metadata": {
      "needs_background": "light"
     },
     "output_type": "display_data"
    }
   ],
   "source": [
    "print(X_train.shape[2])\n",
    "# design network\n",
    "model = tf.keras.Sequential()\n",
    "model.add(\n",
    "    tf.keras.layers.LSTM(\n",
    "        512, \n",
    "        input_shape=(seq_len-1, X_train.shape[2]))\n",
    ")\n",
    "\n",
    "model.add(\n",
    "    tf.keras.layers.Dense(1)\n",
    ")\n",
    "model.compile(\n",
    "    loss='mae', \n",
    "    optimizer='adam',\n",
    "    metrics=[\n",
    "        tf.keras.metrics.RootMeanSquaredError()\n",
    "    ]\n",
    ")\n",
    "# fit network\n",
    "history = model.fit(\n",
    "    train_dataset, \n",
    "    epochs=50, \n",
    "    validation_data=test_dataset, \n",
    "    verbose=2)\n",
    "# plot history\n",
    "plt.plot(history.history['loss'], label='train')\n",
    "plt.plot(history.history['val_loss'], label='test')\n",
    "plt.legend()\n",
    "plt.show()"
   ]
  },
  {
   "cell_type": "code",
   "execution_count": 71,
   "metadata": {},
   "outputs": [
    {
     "name": "stdout",
     "output_type": "stream",
     "text": [
      "(325, 1)\n",
      "(325, 1)\n",
      "0.062505506\n"
     ]
    },
    {
     "data": {
      "image/png": "[encoded data removed]",
      "text/plain": [
       "<Figure size 432x288 with 1 Axes>"
      ]
     },
     "metadata": {
      "needs_background": "light"
     },
     "output_type": "display_data"
    }
   ],
   "source": [
    "\n",
    "# make a prediction\n",
    "yhat = model.predict(X_test)\n",
    "print(yhat.shape)\n",
    "print(y_test.shape)\n",
    "ytest = y_test\n",
    "\n",
    "Sep = np.square(yhat-ytest)\n",
    "plt.plot(yhat*1.5)\n",
    "plt.plot(ytest)\n",
    "\n",
    "print(np.sqrt(np.mean(Sep)))"
   ]
  },
  {
   "cell_type": "code",
   "execution_count": 47,
   "metadata": {},
   "outputs": [
    {
     "name": "stdout",
     "output_type": "stream",
     "text": [
      "0.030619113\n",
      "0.0057175364\n"
     ]
    }
   ],
   "source": [
    "print(yhat.max())\n",
    "print(yhat.min())"
   ]
  },
  {
   "cell_type": "code",
   "execution_count": null,
   "metadata": {},
   "outputs": [],
   "source": []
  }
 ],
 "metadata": {
  "kernelspec": {
   "display_name": "Python 3",
   "language": "python",
   "name": "python3"
  },
  "language_info": {
   "codemirror_mode": {
    "name": "ipython",
    "version": 3
   },
   "file_extension": ".py",
   "mimetype": "text/x-python",
   "name": "python",
   "nbconvert_exporter": "python",
   "pygments_lexer": "ipython3",
   "version": "3.7.3"
  }
 },
 "nbformat": 4,
 "nbformat_minor": 4
}
