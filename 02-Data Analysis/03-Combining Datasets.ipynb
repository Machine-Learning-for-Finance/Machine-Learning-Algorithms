{
 "cells": [
  {
   "cell_type": "code",
   "execution_count": 4,
   "metadata": {},
   "outputs": [],
   "source": [
    "import pandas as pd\n",
    "import numpy as np\n",
    "import matplotlib.pyplot as plt\n",
    "\n",
    "import os\n",
    "import sys\n",
    "module_path = os.path.abspath(os.path.join(\"..\"))\n",
    "if module_path not in sys.path:\n",
    "    sys.path.append(module_path)\n",
    "    \n",
    "from utils import hello_world\n",
    "hello_world()"
   ]
  },
  {
   "cell_type": "markdown",
   "metadata": {},
   "source": [
    "# Combining Datasets\n",
    "\n",
    "First starting with Acquisition and Performance data"
   ]
  },
  {
   "cell_type": "code",
   "execution_count": 5,
   "metadata": {},
   "outputs": [],
   "source": [
    "AcquisitionColumnNames = (\n",
    "    \"LOAN_ID\", \"ORIG_CHN\", \"Seller.Name\", \n",
    "    \"ORIG_RT\", \"ORIG_AMT\", \"ORIG_TRM\", \"ORIG_DTE\",\n",
    "    \"FRST_DTE\", \"OLTV\", \"OCLTV\", \"NUM_BO\", \n",
    "    \"DTI\", \"CSCORE_B\", \"FTHB_FLG\", \"PURPOSE\", \n",
    "    \"PROP_TYP\", \"NUM_UNIT\", \"OCC_STAT\", \"STATE\", \"ZIP_3\", \n",
    "    \"MI_PCT\", \"Product.Type\", \"CSCORE_C\", \"MI_TYPE\", \n",
    "    \"RELOCATION_FLG\"\n",
    ")\n",
    "\n",
    "PerformanceColumnNames = (\n",
    "    \"LOAN_ID\", \"Monthly.Rpt.Prd\", \"Servicer.Name\", \n",
    "    \"LAST_RT\", \"LAST_UPB\", \"Loan.Age\", \"Months.To.Legal.Mat\", \n",
    "    \"Adj.Month.To.Mat\", \"Maturity.Date\", \"MSA\", \n",
    "    \"Delq.Status\", \"MOD_FLAG\", \"Zero.Bal.Code\", \n",
    "    \"ZB_DTE\", \"LPI_DTE\", \"FCC_DTE\",\"DISP_DT\", \n",
    "    \"FCC_COST\", \"PP_COST\", \"AR_COST\", \"IE_COST\", \n",
    "    \"TAX_COST\", \"NS_PROCS\",\"CE_PROCS\", \"RMW_PROCS\", \n",
    "    \"O_PROCS\", \"NON_INT_UPB\", \"PRIN_FORG_UPB_FHFA\", \n",
    "    \"REPCH_FLAG\", \"PRIN_FORG_UPB_OTH\", \"TRANSFER_FLG\"\n",
    ")"
   ]
  },
  {
   "cell_type": "code",
   "execution_count": 6,
   "metadata": {},
   "outputs": [
    {
     "name": "stderr",
     "output_type": "stream",
     "text": [
      "/home/capcolabs/Stevens/Machine-Learning-Algorithms/venv/lib/python3.7/site-packages/IPython/core/interactiveshell.py:3058: DtypeWarning: Columns (14,15,16) have mixed types. Specify dtype option on import or set low_memory=False.\n",
      "  interactivity=interactivity, compiler=compiler, result=result)\n"
     ]
    }
   ],
   "source": [
    "# Data path will change depending on your system setup.\n",
    "\n",
    "acquisition_data_path = \"/data/FannieMae/2010Q1/Acquisition_2010Q1.txt\"\n",
    "\n",
    "performance_data_path = \"/data/FannieMae/2010Q1/Performance_2010Q1.txt\"\n",
    "\n",
    "acquisition_df = pd.read_csv(\n",
    "    acquisition_data_path,\n",
    "    names=AcquisitionColumnNames,\n",
    "    header=None,\n",
    "    sep=\"|\"\n",
    ")\n",
    "\n",
    "performance_df = pd.read_csv(\n",
    "    performance_data_path,\n",
    "    names=PerformanceColumnNames,\n",
    "    header=None,\n",
    "    sep=\"|\"\n",
    ")"
   ]
  },
  {
   "cell_type": "markdown",
   "metadata": {},
   "source": [
    "# Getting Initial Forclosure Data"
   ]
  },
  {
   "cell_type": "code",
   "execution_count": 8,
   "metadata": {},
   "outputs": [],
   "source": [
    "FCC_DTE = performance_df['FCC_DTE'].notna()\n",
    "\n",
    "forclosed = performance_df[FCC_DTE]\n",
    "\n",
    "FORCLOSED = set(forclosed['LOAN_ID'])\n",
    "\n",
    "def mapper(row):\n",
    "    return row['LOAN_ID'] in FORCLOSED\n",
    "\n",
    "acquisition_df['FCC'] = acquisition_df.apply(mapper, axis=1)"
   ]
  },
  {
   "cell_type": "code",
   "execution_count": 9,
   "metadata": {},
   "outputs": [
    {
     "name": "stdout",
     "output_type": "stream",
     "text": [
      "There are 1613 foreclosures!\n"
     ]
    }
   ],
   "source": [
    "print(f\"There are {len(FORCLOSED)} foreclosures!\")"
   ]
  },
  {
   "cell_type": "markdown",
   "metadata": {},
   "source": [
    "# Exploring Delq.Status"
   ]
  },
  {
   "cell_type": "code",
   "execution_count": 11,
   "metadata": {},
   "outputs": [
    {
     "name": "stdout",
     "output_type": "stream",
     "text": [
      "{nan, '41', '89', '94', '26', '60', '32', '47', '76', '7', '34', '64', '13', '87', '65', '18', '9', '80', '4', '77', '68', '70', '52', '0', '8', '1', '20', '28', '5', '43', '36', '61', '71', '11', '37', '88', '82', '31', '62', '66', '56', '96', '73', '93', '49', '27', '6', '38', '74', '97', '44', '51', 'X', '15', '25', '75', '98', '40', '16', '81', '35', '39', '78', '86', '12', '45', '99', '48', '54', '85', '24', '17', '22', '50', '46', '55', '63', '21', '30', '67', '53', '91', '59', '58', '10', '23', '29', '83', '95', '3', '92', '69', '14', '57', '2', '19', '90', '79', '33', '84', '42', '72'}\n"
     ]
    }
   ],
   "source": [
    "DELQ = performance_df['Delq.Status']\n",
    "delq = set(DELQ)\n",
    "print(delq)"
   ]
  },
  {
   "cell_type": "code",
   "execution_count": 14,
   "metadata": {},
   "outputs": [
    {
     "name": "stdout",
     "output_type": "stream",
     "text": [
      "There are 18078920 Not NANS\n"
     ]
    }
   ],
   "source": [
    "DEL_NOTNAN = performance_df[\"Delq.Status\"].notna()\n",
    "del_df = performance_df[DEL_NOTNAN]\n",
    "print(f\"There are {len(del_df.index)} Not NANS\")"
   ]
  },
  {
   "cell_type": "code",
   "execution_count": 15,
   "metadata": {},
   "outputs": [
    {
     "name": "stdout",
     "output_type": "stream",
     "text": [
      "In Total: 18080692\n"
     ]
    }
   ],
   "source": [
    "print(f\"In Total: {len(performance_df.index)}\")"
   ]
  },
  {
   "cell_type": "code",
   "execution_count": 17,
   "metadata": {},
   "outputs": [],
   "source": [
    "X = np.unique(del_df['Delq.Status'], return_counts=True)"
   ]
  },
  {
   "cell_type": "code",
   "execution_count": 22,
   "metadata": {},
   "outputs": [],
   "source": [
    "Obj, Cnts = X"
   ]
  },
  {
   "cell_type": "code",
   "execution_count": 23,
   "metadata": {},
   "outputs": [
    {
     "name": "stdout",
     "output_type": "stream",
     "text": [
      "0 17601482\n",
      "1 120825\n",
      "10 2708\n",
      "11 2389\n",
      "12 2067\n",
      "13 1897\n",
      "14 1658\n",
      "15 1445\n",
      "16 1274\n",
      "17 1150\n",
      "18 994\n",
      "19 912\n",
      "2 27844\n",
      "20 819\n",
      "21 782\n",
      "22 681\n",
      "23 606\n",
      "24 544\n",
      "25 501\n",
      "26 456\n",
      "27 428\n",
      "28 399\n",
      "29 340\n",
      "3 12918\n",
      "30 319\n",
      "31 282\n",
      "32 262\n",
      "33 244\n",
      "34 219\n",
      "35 200\n",
      "36 183\n",
      "37 172\n",
      "38 165\n",
      "39 156\n",
      "4 8964\n",
      "40 144\n",
      "41 133\n",
      "42 118\n",
      "43 111\n",
      "44 103\n",
      "45 94\n",
      "46 93\n",
      "47 86\n",
      "48 88\n",
      "49 73\n",
      "5 7125\n",
      "50 69\n",
      "51 59\n",
      "52 59\n",
      "53 54\n",
      "54 50\n",
      "55 45\n",
      "56 41\n",
      "57 37\n",
      "58 36\n",
      "59 34\n",
      "6 5508\n",
      "60 34\n",
      "61 30\n",
      "62 30\n",
      "63 25\n",
      "64 23\n",
      "65 23\n",
      "66 22\n",
      "67 19\n",
      "68 17\n",
      "69 16\n",
      "7 4512\n",
      "70 15\n",
      "71 15\n",
      "72 15\n",
      "73 14\n",
      "74 13\n",
      "75 12\n",
      "76 12\n",
      "77 10\n",
      "78 8\n",
      "79 7\n",
      "8 3717\n",
      "80 7\n",
      "81 7\n",
      "82 5\n",
      "83 4\n",
      "84 4\n",
      "85 3\n",
      "86 2\n",
      "87 2\n",
      "88 2\n",
      "89 2\n",
      "9 3124\n",
      "90 2\n",
      "91 1\n",
      "92 1\n",
      "93 1\n",
      "94 1\n",
      "95 1\n",
      "96 1\n",
      "97 1\n",
      "98 1\n",
      "99 1\n",
      "X 256713\n"
     ]
    }
   ],
   "source": [
    "for obj, count in zip(Obj, Cnts):\n",
    "    print(obj, count)"
   ]
  },
  {
   "cell_type": "code",
   "execution_count": null,
   "metadata": {},
   "outputs": [],
   "source": []
  }
 ],
 "metadata": {
  "kernelspec": {
   "display_name": "Python 3",
   "language": "python",
   "name": "python3"
  },
  "language_info": {
   "codemirror_mode": {
    "name": "ipython",
    "version": 3
   },
   "file_extension": ".py",
   "mimetype": "text/x-python",
   "name": "python",
   "nbconvert_exporter": "python",
   "pygments_lexer": "ipython3",
   "version": "3.7.3"
  }
 },
 "nbformat": 4,
 "nbformat_minor": 4
}
