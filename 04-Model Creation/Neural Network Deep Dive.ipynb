{
 "cells": [
  {
   "cell_type": "markdown",
   "metadata": {},
   "source": [
    "# Neural Network Deep Dive\n",
    "\n",
    "We will first demonstrate how neural networks work using the Numpy module."
   ]
  },
  {
   "cell_type": "code",
   "execution_count": 7,
   "metadata": {},
   "outputs": [
    {
     "name": "stdout",
     "output_type": "stream",
     "text": [
      "Hello World!\n"
     ]
    }
   ],
   "source": [
    "import numpy as np\n",
    "import matplotlib.pyplot as plt \n",
    "\n",
    "import os\n",
    "import sys\n",
    "module_path = os.path.abspath(os.path.join(\"..\"))\n",
    "if module_path not in sys.path:\n",
    "    sys.path.append(module_path)\n",
    "    \n",
    "from utils import hello_world\n",
    "hello_world()"
   ]
  },
  {
   "cell_type": "code",
   "execution_count": 2,
   "metadata": {},
   "outputs": [],
   "source": [
    "def nonlin(x,deriv=False):\n",
    "    if(deriv==True):\n",
    "        return x*(1-x)\n",
    "    return 1/(1+np.exp(-x))\n",
    "\n",
    "\n",
    "class SGDNN():\n",
    "    def __init__(self,\n",
    "                 hiddenSize_,\n",
    "                 inputSize_=2,\n",
    "                 outputSize_=3,\n",
    "                 giveSeed_=False,\n",
    "                 seed = 1):\n",
    "        sizeHidden = 20\n",
    "        if giveSeed_:\n",
    "            np.random.seed(seed)\n",
    "        self.syn0 = (2*np.random.random((inputSize_,sizeHidden)) - 1) / np.sqrt(hiddenSize_)\n",
    "        \n",
    "        self.syn1 = (2*np.random.random((sizeHidden,outputSize_)) - 1)/np.sqrt(hiddenSize_)\n",
    "    \n",
    "    \n",
    "    def testPoint(self, X):\n",
    "        l0 = X\n",
    "        l1 = nonlin(np.dot(l0, self.syn0))\n",
    "        l2 = nonlin(np.dot(l1, self.syn1))\n",
    "        return l2\n",
    "    \n",
    "    def trainingAlgorithm(self, Data):\n",
    "        \"\"\"\n",
    "        \n",
    "        \"\"\"\n",
    "        All = Data\n",
    "        for j in range(10000):\n",
    "            if (j % 100) == 0:\n",
    "                np.random.shuffle(All)\n",
    "            A = All\n",
    "            A = np.split(A, 50)\n",
    "            for a in A:\n",
    "                l0 = a[:,0:2]\n",
    "                l1 = nonlin(np.dot(l0,self.syn0))\n",
    "                l2 = nonlin(np.dot(l1,self.syn1))\n",
    "\n",
    "                l2_error = a[:,2:5] - l2\n",
    "\n",
    "                l2_delta = l2_error*nonlin(l2,deriv=True)\n",
    "\n",
    "                l1_error = l2_delta.dot(self.syn1.T)\n",
    "\n",
    "                l1_delta = l1_error * nonlin(l1,deriv=True)\n",
    "\n",
    "                self.syn1 += 0.1*l1.T.dot(l2_delta)\n",
    "                self.syn0 += 0.1*l0.T.dot(l1_delta)\n",
    "            \n",
    "            # Checking Results every 1000 Epochs\n",
    "            if (j % 1000 ) == 0:\n",
    "                l0 = All[:,0:2]\n",
    "                l1 = nonlin(np.dot(l0, self.syn0))\n",
    "                l2 = nonlin(np.dot(l1, self.syn1))\n",
    "                L2_Error = All[:,2:5] - l2\n",
    "                print(\"Error: \" + str(np.mean(np.abs(L2_Error))))"
   ]
  },
  {
   "cell_type": "markdown",
   "metadata": {},
   "source": [
    "# Generate Data\n",
    "\n",
    "To Test the results we create three separate data samples,\n",
    "each in two dimensions.\n"
   ]
  },
  {
   "cell_type": "code",
   "execution_count": 8,
   "metadata": {},
   "outputs": [
    {
     "data": {
      "image/png": "[encoded data removed]",
      "text/plain": [
       "<Figure size 432x288 with 1 Axes>"
      ]
     },
     "metadata": {
      "needs_background": "light"
     },
     "output_type": "display_data"
    }
   ],
   "source": [
    "\n",
    "D1 = np.random.normal((5,5),(1,1),(1000,2))\n",
    "D2 = np.random.normal((-2,-3),(.5,.5),(1000,2))\n",
    "D3 = np.random.normal((2,-6),(.7,.3),(1000,2))\n",
    "\n",
    "\n",
    "plt.figure()\n",
    "plt.scatter(D1[:,0],D1[:,1])\n",
    "plt.scatter(D2[:,0],D2[:,1])\n",
    "plt.scatter(D3[:,0],D3[:,1])\n",
    "plt.show()"
   ]
  },
  {
   "cell_type": "code",
   "execution_count": 9,
   "metadata": {},
   "outputs": [
    {
     "name": "stdout",
     "output_type": "stream",
     "text": [
      "Error: 0.03768218528652516\n",
      "Error: 0.0007616995554146189\n",
      "Error: 0.0005175826222387446\n",
      "Error: 0.0004128067880203911\n",
      "Error: 0.0003516533060927287\n",
      "Error: 0.0003105613624779864\n",
      "Error: 0.0002806718251146905\n",
      "Error: 0.0002576428931954427\n",
      "Error: 0.00023926471798678615\n",
      "Error: 0.00022415997537791343\n"
     ]
    }
   ],
   "source": [
    "Points = []\n",
    "X = np.linspace(-5,5,100)\n",
    "Y = np.linspace(-8,8,100)    \n",
    "for x in X:\n",
    "    for y in Y:\n",
    "        Points.append(np.array([x,y]))\n",
    "\n",
    "Data = np.vstack([D1,D2,D3])\n",
    "\n",
    "L1 = np.array([[1,0,0] for i in range(len(D1))])\n",
    "L2 = np.array([[0,1,0] for i in range(len(D2))])\n",
    "L3 = np.array([[0,0,1] for i in range(len(D3))])\n",
    "\n",
    "Label = np.vstack([L1,L2,L3])\n",
    "\n",
    "All = np.hstack([Data,Label])\n",
    "\n",
    "Network = SGDNN(5)\n",
    "Network.trainingAlgorithm(All)"
   ]
  },
  {
   "cell_type": "code",
   "execution_count": 10,
   "metadata": {},
   "outputs": [
    {
     "name": "stdout",
     "output_type": "stream",
     "text": [
      "Testing\n",
      "[-2,-3]\n",
      "Result: [1.27600355e-04 9.99996276e-01 1.74653761e-05]\n",
      "[5,5]\n",
      "Result: [9.99742793e-01 1.47180747e-04 2.05050433e-04]\n"
     ]
    }
   ],
   "source": [
    "print(\"Testing\")\n",
    "print(\"[-2,-3]\")\n",
    "res = Network.testPoint(np.array([-2,-3]))\n",
    "print(f\"Result: {res}\")\n",
    "\n",
    "print(\"[5,5]\")\n",
    "res = Network.testPoint(np.array([5,5]))\n",
    "print(f\"Result: {res}\")\n",
    "Vals = []    \n",
    "for p in Points:\n",
    "    Vals.append(Network.testPoint(p))\n",
    "\n",
    "f = open(\"trainedValues.csv\",'w')\n",
    "for i in range(len(Points)):\n",
    "    Line = str(Points[i][0])+\",\"+str(Points[i][1])+\",\"+str(np.argmax(Vals[i])) +\"\\n\"\n",
    "    f.write(Line)\n",
    "f.close()"
   ]
  },
  {
   "cell_type": "code",
   "execution_count": null,
   "metadata": {},
   "outputs": [],
   "source": []
  }
 ],
 "metadata": {
  "kernelspec": {
   "display_name": "Python 3",
   "language": "python",
   "name": "python3"
  },
  "language_info": {
   "codemirror_mode": {
    "name": "ipython",
    "version": 3
   },
   "file_extension": ".py",
   "mimetype": "text/x-python",
   "name": "python",
   "nbconvert_exporter": "python",
   "pygments_lexer": "ipython3",
   "version": "3.7.3"
  }
 },
 "nbformat": 4,
 "nbformat_minor": 4
}
