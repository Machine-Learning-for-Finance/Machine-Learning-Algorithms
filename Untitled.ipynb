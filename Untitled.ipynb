{
 "cells": [
  {
   "cell_type": "markdown",
   "metadata": {},
   "source": [
    "# Homework\n",
    "\n",
    "Write a class object or a function which will train and score a\n",
    "- Decision Tree,\n",
    "- Random Forest,\n",
    "- Support Vector Machine,\n",
    "- Neural Network\n",
    "\n",
    "and display and compare their confusion matrices."
   ]
  },
  {
   "cell_type": "markdown",
   "metadata": {},
   "source": [
    "# Example Class\n",
    "\n",
    "Create a class which will train a decision tree."
   ]
  },
  {
   "cell_type": "code",
   "execution_count": 29,
   "metadata": {},
   "outputs": [],
   "source": [
    "from sklearn import tree\n",
    "\n",
    "class Trainer:\n",
    "    def __init__(self, \n",
    "                 tree_params,\n",
    "                 forest_params,\n",
    "                 network_params):\n",
    "        print(f\"Tree: {tree_params}\")\n",
    "        print(forest_params)\n",
    "        print(network_params)\n",
    "        self.dtc = tree.DecisionTreeClassifier()\n",
    "        self.trees = []\n",
    "        \n",
    "    def train_tree(self, X_train, y_train):\n",
    "        dtc = tree.DecisionTreeClassifier()\n",
    "        dtc.fit(X_train, y_train)\n",
    "        self.trees.append(dtc)\n",
    "        \n",
    "    def print_max_layers(self):\n",
    "        print(self.max_layers)\n",
    "        \n",
    "    def run_fit(self, X_train, y_train):\n",
    "        self.dtc.fit(X_train, y_train)\n",
    "        \n",
    "    def run_scoring(self, X_test, y_test):\n",
    "        print(self.dtc.score(X_test, y_test))"
   ]
  },
  {
   "cell_type": "code",
   "execution_count": 30,
   "metadata": {},
   "outputs": [
    {
     "name": "stdout",
     "output_type": "stream",
     "text": [
      "Tree: {'Hello': 'There'}\n",
      "YES\n",
      "10\n"
     ]
    }
   ],
   "source": [
    "T_params = {\n",
    "    \"tree_params\": {\"Hello\": \"There\"},\n",
    "    \"forest_params\": \"YES\",\n",
    "    \"network_params\": 10\n",
    "}\n",
    "\n",
    "T = Trainer(**T_params)"
   ]
  },
  {
   "cell_type": "code",
   "execution_count": 13,
   "metadata": {},
   "outputs": [
    {
     "name": "stdout",
     "output_type": "stream",
     "text": [
      "1.0\n"
     ]
    }
   ],
   "source": [
    "T.run_scoring([[1,2]], [0])"
   ]
  },
  {
   "cell_type": "code",
   "execution_count": 23,
   "metadata": {},
   "outputs": [
    {
     "name": "stdout",
     "output_type": "stream",
     "text": [
      "[DecisionTreeClassifier(class_weight=None, criterion='gini', max_depth=None,\n",
      "                       max_features=None, max_leaf_nodes=None,\n",
      "                       min_impurity_decrease=0.0, min_impurity_split=None,\n",
      "                       min_samples_leaf=1, min_samples_split=2,\n",
      "                       min_weight_fraction_leaf=0.0, presort=False,\n",
      "                       random_state=None, splitter='best'), DecisionTreeClassifier(class_weight=None, criterion='gini', max_depth=None,\n",
      "                       max_features=None, max_leaf_nodes=None,\n",
      "                       min_impurity_decrease=0.0, min_impurity_split=None,\n",
      "                       min_samples_leaf=1, min_samples_split=2,\n",
      "                       min_weight_fraction_leaf=0.0, presort=False,\n",
      "                       random_state=None, splitter='best')]\n"
     ]
    }
   ],
   "source": [
    "T.train_tree([[1,2], [2,5]], [0, 1])\n",
    "\n",
    "print(T.trees)"
   ]
  },
  {
   "cell_type": "code",
   "execution_count": 24,
   "metadata": {},
   "outputs": [],
   "source": [
    "tree_params = {\n",
    "    \"class_weight\": {1: .4, 0: .6}\n",
    "}\n",
    "dtc = tree.DecisionTreeClassifier(**tree_params)"
   ]
  },
  {
   "cell_type": "code",
   "execution_count": null,
   "metadata": {},
   "outputs": [],
   "source": []
  }
 ],
 "metadata": {
  "kernelspec": {
   "display_name": "Python 3",
   "language": "python",
   "name": "python3"
  },
  "language_info": {
   "codemirror_mode": {
    "name": "ipython",
    "version": 3
   },
   "file_extension": ".py",
   "mimetype": "text/x-python",
   "name": "python",
   "nbconvert_exporter": "python",
   "pygments_lexer": "ipython3",
   "version": "3.7.3"
  }
 },
 "nbformat": 4,
 "nbformat_minor": 4
}
