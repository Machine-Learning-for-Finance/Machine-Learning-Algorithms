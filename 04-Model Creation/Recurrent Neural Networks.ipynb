{
 "cells": [
  {
   "cell_type": "code",
   "execution_count": 13,
   "metadata": {},
   "outputs": [
    {
     "name": "stdout",
     "output_type": "stream",
     "text": [
      "Hello World!\n"
     ]
    }
   ],
   "source": [
    "import tensorflow as tf\n",
    "import urllib\n",
    "from python_speech_features import mfcc, delta, logfbank\n",
    "import scipy.io.wavfile as wav\n",
    "import matplotlib.pyplot as plt\n",
    "from random import shuffle\n",
    "import numpy as np\n",
    "\n",
    "from os import listdir, getcwd\n",
    "from os.path import join, isfile, isdir\n",
    "from pprint import pprint\n",
    "\n",
    "\n",
    "import os\n",
    "import sys\n",
    "module_path = os.path.abspath(os.path.join(\"..\"))\n",
    "if module_path not in sys.path:\n",
    "    sys.path.append(module_path)\n",
    "    \n",
    "from utils import hello_world\n",
    "hello_world()"
   ]
  },
  {
   "cell_type": "markdown",
   "metadata": {},
   "source": [
    "# RNN for Classification\n",
    "\n",
    "For our classification problem we will use a relatively simple dataset that can be understood, the `Google Speech Data` which includes short snippets of audio data that involve certain trigger words.\n",
    "\n",
    "While not directly applicable to Financial Services, the process of feature choice and extraction are well demonstrated by the use case choice."
   ]
  },
  {
   "cell_type": "code",
   "execution_count": 2,
   "metadata": {},
   "outputs": [
    {
     "name": "stdout",
     "output_type": "stream",
     "text": [
      "['/Users/genl/Machine-Learning-Algorithms/04-Model Creation/speech_data/eight',\n",
      " '/Users/genl/Machine-Learning-Algorithms/04-Model Creation/speech_data/nine',\n",
      " '/Users/genl/Machine-Learning-Algorithms/04-Model Creation/speech_data/three',\n",
      " '/Users/genl/Machine-Learning-Algorithms/04-Model Creation/speech_data/one',\n",
      " '/Users/genl/Machine-Learning-Algorithms/04-Model Creation/speech_data/zero',\n",
      " '/Users/genl/Machine-Learning-Algorithms/04-Model Creation/speech_data/seven',\n",
      " '/Users/genl/Machine-Learning-Algorithms/04-Model Creation/speech_data/two',\n",
      " '/Users/genl/Machine-Learning-Algorithms/04-Model Creation/speech_data/six',\n",
      " '/Users/genl/Machine-Learning-Algorithms/04-Model Creation/speech_data/five',\n",
      " '/Users/genl/Machine-Learning-Algorithms/04-Model Creation/speech_data/four']\n"
     ]
    }
   ],
   "source": [
    "base_data_path = join(getcwd(), \"speech_data\")\n",
    "commands = [\n",
    "    \"one\",\n",
    "    \"two\",\n",
    "    \"three\",\n",
    "    \"four\",\n",
    "    \"five\",\n",
    "    \"six\",\n",
    "    \"seven\",\n",
    "    \"eight\",\n",
    "    \"nine\",\n",
    "    \"zero\"\n",
    "]\n",
    "dirs = [\n",
    "    join(base_data_path, d) for d in listdir(base_data_path)\n",
    "    if isdir(join(base_data_path, d)) and\n",
    "    d in commands\n",
    "]\n",
    "numbers = {\n",
    "    d: [ \n",
    "        join(base_data_path, d, f) for f in listdir(join(base_data_path,d))\n",
    "        if f[-3:] == \"wav\"\n",
    "    ] for d in listdir(base_data_path)\n",
    "    if isdir(join(base_data_path, d)) and\n",
    "    d in commands\n",
    "}\n",
    "pprint(dirs)\n",
    "\n",
    "MAPPING = {\n",
    "    \"one\": 1,\n",
    "    \"two\": 2,\n",
    "    \"three\": 3,\n",
    "    \"four\": 4,\n",
    "    \"five\": 5,\n",
    "    \"six\": 6,\n",
    "    \"seven\": 7,\n",
    "    \"eight\": 8,\n",
    "    \"nine\": 9,\n",
    "    \"zero\": 0\n",
    "}"
   ]
  },
  {
   "cell_type": "code",
   "execution_count": 3,
   "metadata": {},
   "outputs": [
    {
     "name": "stdout",
     "output_type": "stream",
     "text": [
      "/Users/genl/Machine-Learning-Algorithms/04-Model Creation/speech_data/eight/bb05582b_nohash_3.wav\n"
     ]
    }
   ],
   "source": [
    "eights = [\n",
    "    join(dirs[0], f) for f in listdir(dirs[0]) if isfile(join(dirs[0], f))\n",
    "    and f[-3:] == \"wav\"\n",
    "]\n",
    "eights = numbers['eight']\n",
    "print(eights[0])"
   ]
  },
  {
   "cell_type": "markdown",
   "metadata": {},
   "source": [
    "# Feature Extraction\n",
    "\n",
    "Raw signal isn't always the best choice for solving a ML problem.  In this case one of the commonly accepted feature choices for audio processing is Mel-frequency cepstral coefficients or MFCC.\n",
    "\n",
    "From: https://en.wikipedia.org/wiki/Mel-frequency_cepstrum#:~:text=Mel%2Dfrequency%20cepstral%20coefficients%20(MFCCs,%2Da%2Dspectrum%22).\n",
    "\n",
    ">Mel-frequency cepstral coefficients (MFCCs) are coefficients that collectively make up an MFC[1]. They are derived from a type of cepstral representation of the audio clip (a nonlinear \"spectrum-of-a-spectrum\"). The difference between the cepstrum and the mel-frequency cepstrum is that in the MFC, the frequency bands are equally spaced on the mel scale, which approximates the human auditory system's response more closely than the linearly-spaced frequency bands used in the normal cepstrum. This frequency warping can allow for better representation of sound, for example, in audio compression.\n",
    "\n",
    ">MFCCs are commonly derived as follows:[2]\n",
    "\n",
    "- Take the Fourier transform of (a windowed excerpt of) a signal.\n",
    "- Map the powers of the spectrum obtained above onto the mel scale, using triangular overlapping windows.\n",
    "- Take the logs of the powers at each of the mel frequencies.\n",
    "- Take the discrete cosine transform of the list of mel log powers, as if it were a signal.\n",
    "- The MFCCs are the amplitudes of the resulting spectrum.\n",
    "- There can be variations on this process, for example: differences in the shape or spacing of the windows used to map the scale,[3] or addition of dynamics features such as \"delta\" and \"delta-delta\" (first- and second-order frame-to-frame difference) coefficients.[4]\n",
    "\n",
    "Since we're using Python, there's a library for that, `python_speech_features`, which will simplify our work."
   ]
  },
  {
   "cell_type": "code",
   "execution_count": 12,
   "metadata": {},
   "outputs": [
    {
     "data": {
      "image/png": "[encoded data removed]",
      "text/plain": [
       "<Figure size 432x288 with 1 Axes>"
      ]
     },
     "metadata": {
      "needs_background": "light"
     },
     "output_type": "display_data"
    }
   ],
   "source": [
    "from python_speech_features import mfcc, delta, logfbank\n",
    "\n",
    "def calculate_mfcc(filename: str, pad=100):\n",
    "    \"\"\"\n",
    "    \n",
    "    \"\"\"\n",
    "    (rate,sig) = wav.read(filename)\n",
    "    mfcc_feat = mfcc(sig,rate)\n",
    "    steps, feats = mfcc_feat.shape\n",
    "    if steps < pad:\n",
    "        mfcc_feat = np.vstack([mfcc_feat, np.zeros((pad-steps, 13))])\n",
    "    else:\n",
    "        mfcc_feat = mfcc_feat[:pad]\n",
    "    return mfcc_feat\n",
    "    \n",
    "fig = plt.imshow(calculate_mfcc(eights[0]))"
   ]
  },
  {
   "cell_type": "markdown",
   "metadata": {},
   "source": [
    "# Data Set Creation\n",
    "\n",
    "Once we have our initial feature choice, we now need to create our dataset.  We will write a function which will output the dataset as a `dict`, with keys keeping track of each of the components:\n",
    "- `X_train`\n",
    "- `y_train`\n",
    "- `X_test`\n",
    "- `y_test`\n",
    "- `X_val`\n",
    "- `y_val`"
   ]
  },
  {
   "cell_type": "code",
   "execution_count": 7,
   "metadata": {},
   "outputs": [
    {
     "name": "stdout",
     "output_type": "stream",
     "text": [
      ".\n",
      "..................................................\n",
      "..................................................\n",
      "..................................................\n",
      "..................................................\n",
      "..................................................\n",
      "..................................................\n",
      "............\n",
      ".......................................\n",
      "......................................"
     ]
    }
   ],
   "source": [
    "def create_dataset(validation_split=0.1, test_split=0.1):\n",
    "    \"\"\"\n",
    "    \n",
    "    \"\"\"\n",
    "    X_train = []\n",
    "    y_train = []\n",
    "    X_val   = []\n",
    "    y_val   = []\n",
    "    X_test  = []\n",
    "    y_test  = []\n",
    "    \n",
    "    for num in numbers:\n",
    "        shuffle(numbers[num])\n",
    "        total = len(numbers[num])\n",
    "        num_test = int(test_split * total)\n",
    "        num_val  = int(validation_split * total)\n",
    "        num_train = total - num_test - num_val\n",
    "        n_train, n_val, n_test = numbers[num][:num_train], \\\n",
    "            numbers[num][num_train:num_train+num_val], \\\n",
    "            numbers[num][num_train+num_val:]\n",
    "        X_train.extend(n_train)\n",
    "        y_train.extend([MAPPING[num] for _ in n_train])\n",
    "        X_val.extend(n_val)\n",
    "        y_val.extend([MAPPING[num] for _ in n_val])\n",
    "        X_test.extend(n_test)\n",
    "        y_test.extend([MAPPING[num] for _ in n_test])\n",
    "        \n",
    "    print(f\"\"\"\n",
    "    Creating Training Set\n",
    "    \"\"\")\n",
    "    Data = list(zip(X_train, y_train))\n",
    "    shuffle(Data)\n",
    "    X_train, y_train = zip(*Data)\n",
    "    Audio_train = []\n",
    "    for idx, x in enumerate(X_train):\n",
    "        Audio_train.append(calculate_mfcc(x))\n",
    "        if idx % 100 == 0:\n",
    "            print(\".\", end=\"\")\n",
    "            if idx % 5000 == 0:\n",
    "                print(\"\")\n",
    "    \n",
    "    print(f\"\"\"\n",
    "    Creating Validation Set\n",
    "    \"\"\")\n",
    "    Audio_val = []\n",
    "    for idx, x in enumerate(X_val):\n",
    "        Audio_val.append(calculate_mfcc(x))\n",
    "        if idx % 100 == 0:\n",
    "            print(\".\", end=\"\")\n",
    "            if idx % 5000 == 0:\n",
    "                print(\"\")\n",
    "    \n",
    "    print(f\"\"\"\n",
    "    Creating Testing Set\n",
    "    \"\"\")\n",
    "    Audio_test = []\n",
    "    for idx, x in enumerate(X_test):\n",
    "        Audio_test.append(calculate_mfcc(x))\n",
    "        if idx % 100 == 0:\n",
    "            print(\".\", end=\"\")\n",
    "            if idx % 5000 == 0:\n",
    "                print(\"\")\n",
    "        \n",
    "    return {\n",
    "        \"X_train\": np.array(Audio_train),\n",
    "        \"y_train\": y_train,\n",
    "        \"X_val\": np.array(Audio_val),\n",
    "        \"y_val\": y_val,\n",
    "        \"X_test\": np.array(Audio_test),\n",
    "        \"y_test\": y_test\n",
    "    }\n",
    "\n",
    "Data = create_dataset()"
   ]
  },
  {
   "cell_type": "code",
   "execution_count": 8,
   "metadata": {},
   "outputs": [
    {
     "name": "stdout",
     "output_type": "stream",
     "text": [
      "{(100, 13)}\n"
     ]
    }
   ],
   "source": [
    "# print(Data['X_train'].reshape(31134, 83, 13))\n",
    "S = Data['X_train'].shape\n",
    "Shapes = set()\n",
    "for x in Data['X_train']:\n",
    "    if x.shape != S:\n",
    "        Shapes.add(x.shape)\n",
    "        \n",
    "print(Shapes)"
   ]
  },
  {
   "cell_type": "code",
   "execution_count": 9,
   "metadata": {},
   "outputs": [],
   "source": [
    "train_dataset = tf.data.Dataset.from_tensor_slices(\n",
    "    (Data[\"X_train\"], Data[\"y_train\"]))\n",
    "\n",
    "test_dataset = tf.data.Dataset.from_tensor_slices((Data[\"X_test\"], Data[\"y_test\"]))\n",
    "\n",
    "BATCH_SIZE = 64\n",
    "SHUFFLE_BUFFER_SIZE = 100\n",
    "\n",
    "train_dataset = train_dataset.shuffle(SHUFFLE_BUFFER_SIZE).batch(BATCH_SIZE)\n",
    "test_dataset = test_dataset.batch(BATCH_SIZE)"
   ]
  },
  {
   "cell_type": "code",
   "execution_count": 10,
   "metadata": {},
   "outputs": [
    {
     "name": "stderr",
     "output_type": "stream",
     "text": [
      "WARNING: Logging before flag parsing goes to stderr.\n",
      "W1106 12:58:29.016808 4653647296 deprecation.py:506] From /anaconda3/lib/python3.7/site-packages/tensorflow/python/ops/init_ops.py:1257: calling VarianceScaling.__init__ (from tensorflow.python.ops.init_ops) with dtype is deprecated and will be removed in a future version.\n",
      "Instructions for updating:\n",
      "Call initializer instance with the dtype argument instead of passing it to the constructor\n",
      "W1106 12:58:29.487804 4653647296 deprecation.py:506] From /anaconda3/lib/python3.7/site-packages/tensorflow/python/keras/engine/base_layer_utils.py:127: calling Zeros.__init__ (from tensorflow.python.ops.init_ops) with dtype is deprecated and will be removed in a future version.\n",
      "Instructions for updating:\n",
      "Call initializer instance with the dtype argument instead of passing it to the constructor\n"
     ]
    },
    {
     "name": "stdout",
     "output_type": "stream",
     "text": [
      "Model: \"sequential\"\n",
      "_________________________________________________________________\n",
      "Layer (type)                 Output Shape              Param #   \n",
      "=================================================================\n",
      "lstm (LSTM)                  (None, 100, 512)          1077248   \n",
      "_________________________________________________________________\n",
      "lstm_1 (LSTM)                (None, 512)               2099200   \n",
      "_________________________________________________________________\n",
      "dense (Dense)                (None, 128)               65664     \n",
      "_________________________________________________________________\n",
      "dense_1 (Dense)              (None, 10)                1290      \n",
      "=================================================================\n",
      "Total params: 3,243,402\n",
      "Trainable params: 3,243,402\n",
      "Non-trainable params: 0\n",
      "_________________________________________________________________\n"
     ]
    }
   ],
   "source": [
    "from tensorflow.keras import Sequential\n",
    "\n",
    "def create_model(*args, **kwargs):\n",
    "    \"\"\"\n",
    "    \n",
    "    \"\"\"\n",
    "    model = Sequential([\n",
    "        tf.keras.Input(shape=(100,13)),\n",
    "        tf.keras.layers.LSTM(512, return_sequences=True),\n",
    "        tf.keras.layers.LSTM(512),\n",
    "        tf.keras.layers.Dense(128),\n",
    "        tf.keras.layers.Dense(10, activation='softmax')\n",
    "    ]\n",
    "    )\n",
    "    model.compile(\n",
    "        loss=tf.keras.losses.CategoricalCrossentropy(),\n",
    "        optimizer=tf.keras.optimizers.Adam(),\n",
    "        metrics=['accuracy']\n",
    "    )\n",
    "    \n",
    "    model.summary()\n",
    "    \n",
    "    return model\n",
    "    \n",
    "model = create_model()"
   ]
  },
  {
   "cell_type": "code",
   "execution_count": 11,
   "metadata": {},
   "outputs": [
    {
     "name": "stdout",
     "output_type": "stream",
     "text": [
      "239/487 [=============>................] - ETA: 9:39 - loss: 1652.1614 - acc: 0.3391"
     ]
    },
    {
     "ename": "KeyboardInterrupt",
     "evalue": "",
     "output_type": "error",
     "traceback": [
      "\u001b[0;31m---------------------------------------------------------------------------\u001b[0m",
      "\u001b[0;31mKeyboardInterrupt\u001b[0m                         Traceback (most recent call last)",
      "\u001b[0;32m<ipython-input-11-9d7de2877a3d>\u001b[0m in \u001b[0;36m<module>\u001b[0;34m\u001b[0m\n\u001b[1;32m      2\u001b[0m     \u001b[0mtrain_dataset\u001b[0m\u001b[0;34m,\u001b[0m\u001b[0;34m\u001b[0m\u001b[0;34m\u001b[0m\u001b[0m\n\u001b[1;32m      3\u001b[0m     \u001b[0mvalidation_data\u001b[0m\u001b[0;34m=\u001b[0m\u001b[0mtest_dataset\u001b[0m\u001b[0;34m,\u001b[0m\u001b[0;34m\u001b[0m\u001b[0;34m\u001b[0m\u001b[0m\n\u001b[0;32m----> 4\u001b[0;31m     \u001b[0mepochs\u001b[0m\u001b[0;34m=\u001b[0m\u001b[0;36m1\u001b[0m\u001b[0;34m\u001b[0m\u001b[0;34m\u001b[0m\u001b[0m\n\u001b[0m\u001b[1;32m      5\u001b[0m )\n",
      "\u001b[0;32m/anaconda3/lib/python3.7/site-packages/tensorflow/python/keras/engine/training.py\u001b[0m in \u001b[0;36mfit\u001b[0;34m(self, x, y, batch_size, epochs, verbose, callbacks, validation_split, validation_data, shuffle, class_weight, sample_weight, initial_epoch, steps_per_epoch, validation_steps, validation_freq, max_queue_size, workers, use_multiprocessing, **kwargs)\u001b[0m\n\u001b[1;32m    871\u001b[0m           \u001b[0mvalidation_steps\u001b[0m\u001b[0;34m=\u001b[0m\u001b[0mvalidation_steps\u001b[0m\u001b[0;34m,\u001b[0m\u001b[0;34m\u001b[0m\u001b[0;34m\u001b[0m\u001b[0m\n\u001b[1;32m    872\u001b[0m           \u001b[0mvalidation_freq\u001b[0m\u001b[0;34m=\u001b[0m\u001b[0mvalidation_freq\u001b[0m\u001b[0;34m,\u001b[0m\u001b[0;34m\u001b[0m\u001b[0;34m\u001b[0m\u001b[0m\n\u001b[0;32m--> 873\u001b[0;31m           steps_name='steps_per_epoch')\n\u001b[0m\u001b[1;32m    874\u001b[0m \u001b[0;34m\u001b[0m\u001b[0m\n\u001b[1;32m    875\u001b[0m   def evaluate(self,\n",
      "\u001b[0;32m/anaconda3/lib/python3.7/site-packages/tensorflow/python/keras/engine/training_arrays.py\u001b[0m in \u001b[0;36mmodel_iteration\u001b[0;34m(model, inputs, targets, sample_weights, batch_size, epochs, verbose, callbacks, val_inputs, val_targets, val_sample_weights, shuffle, initial_epoch, steps_per_epoch, validation_steps, validation_freq, mode, validation_in_fit, prepared_feed_values_from_dataset, steps_name, **kwargs)\u001b[0m\n\u001b[1;32m    261\u001b[0m           \u001b[0;31m# `ins` can be callable in DistributionStrategy + eager case.\u001b[0m\u001b[0;34m\u001b[0m\u001b[0;34m\u001b[0m\u001b[0;34m\u001b[0m\u001b[0m\n\u001b[1;32m    262\u001b[0m           \u001b[0mactual_inputs\u001b[0m \u001b[0;34m=\u001b[0m \u001b[0mins\u001b[0m\u001b[0;34m(\u001b[0m\u001b[0;34m)\u001b[0m \u001b[0;32mif\u001b[0m \u001b[0mcallable\u001b[0m\u001b[0;34m(\u001b[0m\u001b[0mins\u001b[0m\u001b[0;34m)\u001b[0m \u001b[0;32melse\u001b[0m \u001b[0mins\u001b[0m\u001b[0;34m\u001b[0m\u001b[0;34m\u001b[0m\u001b[0m\n\u001b[0;32m--> 263\u001b[0;31m           \u001b[0mbatch_outs\u001b[0m \u001b[0;34m=\u001b[0m \u001b[0mf\u001b[0m\u001b[0;34m(\u001b[0m\u001b[0mactual_inputs\u001b[0m\u001b[0;34m)\u001b[0m\u001b[0;34m\u001b[0m\u001b[0;34m\u001b[0m\u001b[0m\n\u001b[0m\u001b[1;32m    264\u001b[0m         \u001b[0;32mexcept\u001b[0m \u001b[0merrors\u001b[0m\u001b[0;34m.\u001b[0m\u001b[0mOutOfRangeError\u001b[0m\u001b[0;34m:\u001b[0m\u001b[0;34m\u001b[0m\u001b[0;34m\u001b[0m\u001b[0m\n\u001b[1;32m    265\u001b[0m           \u001b[0;32mif\u001b[0m \u001b[0mis_dataset\u001b[0m\u001b[0;34m:\u001b[0m\u001b[0;34m\u001b[0m\u001b[0;34m\u001b[0m\u001b[0m\n",
      "\u001b[0;32m/anaconda3/lib/python3.7/site-packages/tensorflow/python/keras/backend.py\u001b[0m in \u001b[0;36m__call__\u001b[0;34m(self, inputs)\u001b[0m\n\u001b[1;32m   3086\u001b[0m \u001b[0;34m\u001b[0m\u001b[0m\n\u001b[1;32m   3087\u001b[0m     fetched = self._callable_fn(*array_vals,\n\u001b[0;32m-> 3088\u001b[0;31m                                 run_metadata=self.run_metadata)\n\u001b[0m\u001b[1;32m   3089\u001b[0m     \u001b[0mself\u001b[0m\u001b[0;34m.\u001b[0m\u001b[0m_call_fetch_callbacks\u001b[0m\u001b[0;34m(\u001b[0m\u001b[0mfetched\u001b[0m\u001b[0;34m[\u001b[0m\u001b[0;34m-\u001b[0m\u001b[0mlen\u001b[0m\u001b[0;34m(\u001b[0m\u001b[0mself\u001b[0m\u001b[0;34m.\u001b[0m\u001b[0m_fetches\u001b[0m\u001b[0;34m)\u001b[0m\u001b[0;34m:\u001b[0m\u001b[0;34m]\u001b[0m\u001b[0;34m)\u001b[0m\u001b[0;34m\u001b[0m\u001b[0;34m\u001b[0m\u001b[0m\n\u001b[1;32m   3090\u001b[0m     return nest.pack_sequence_as(self._outputs_structure,\n",
      "\u001b[0;32m/anaconda3/lib/python3.7/site-packages/tensorflow/python/client/session.py\u001b[0m in \u001b[0;36m__call__\u001b[0;34m(self, *args, **kwargs)\u001b[0m\n\u001b[1;32m   1438\u001b[0m           ret = tf_session.TF_SessionRunCallable(\n\u001b[1;32m   1439\u001b[0m               \u001b[0mself\u001b[0m\u001b[0;34m.\u001b[0m\u001b[0m_session\u001b[0m\u001b[0;34m.\u001b[0m\u001b[0m_session\u001b[0m\u001b[0;34m,\u001b[0m \u001b[0mself\u001b[0m\u001b[0;34m.\u001b[0m\u001b[0m_handle\u001b[0m\u001b[0;34m,\u001b[0m \u001b[0margs\u001b[0m\u001b[0;34m,\u001b[0m \u001b[0mstatus\u001b[0m\u001b[0;34m,\u001b[0m\u001b[0;34m\u001b[0m\u001b[0;34m\u001b[0m\u001b[0m\n\u001b[0;32m-> 1440\u001b[0;31m               run_metadata_ptr)\n\u001b[0m\u001b[1;32m   1441\u001b[0m         \u001b[0;32mif\u001b[0m \u001b[0mrun_metadata\u001b[0m\u001b[0;34m:\u001b[0m\u001b[0;34m\u001b[0m\u001b[0;34m\u001b[0m\u001b[0m\n\u001b[1;32m   1442\u001b[0m           \u001b[0mproto_data\u001b[0m \u001b[0;34m=\u001b[0m \u001b[0mtf_session\u001b[0m\u001b[0;34m.\u001b[0m\u001b[0mTF_GetBuffer\u001b[0m\u001b[0;34m(\u001b[0m\u001b[0mrun_metadata_ptr\u001b[0m\u001b[0;34m)\u001b[0m\u001b[0;34m\u001b[0m\u001b[0;34m\u001b[0m\u001b[0m\n",
      "\u001b[0;31mKeyboardInterrupt\u001b[0m: "
     ]
    }
   ],
   "source": [
    "model.fit(\n",
    "    train_dataset, \n",
    "    validation_data=test_dataset,\n",
    "    epochs=1\n",
    ")"
   ]
  },
  {
   "cell_type": "markdown",
   "metadata": {},
   "source": [
    "# Comparison of Results\n",
    "\n",
    "Since we have classification problem with relatively few (and balanced!) classes, accuracy is a good metric for how well a network is performing, on top of that, a confusion matrix is also a useful metric for the performance."
   ]
  },
  {
   "cell_type": "code",
   "execution_count": 14,
   "metadata": {},
   "outputs": [],
   "source": [
    "from sklearn.utils.multiclass import unique_labels\n",
    "from sklearn.metrics import confusion_matrix\n",
    "import seaborn as sns\n",
    "\n",
    "\n",
    "def plot_confusion_matrix(y_true, y_pred, classes,\n",
    "                          normalize=False,\n",
    "                          title=None,\n",
    "                          cmap=plt.cm.Blues):\n",
    "    \"\"\"\n",
    "    This function prints and plots the confusion matrix.\n",
    "    Normalization can be applied by setting `normalize=True`.\n",
    "    \"\"\"\n",
    "    if not title:\n",
    "        if normalize:\n",
    "            title = 'Normalized confusion matrix'\n",
    "        else:\n",
    "            title = 'Confusion matrix, without normalization'\n",
    "\n",
    "    # Compute confusion matrix\n",
    "    cm = confusion_matrix(y_true, y_pred)\n",
    "    # Only use the labels that appear in the data\n",
    "    #classes = classes[unique_labels(y_true, y_pred)]\n",
    "    if normalize:\n",
    "        cm = cm.astype('float') / cm.sum(axis=1)[:, np.newaxis]\n",
    "        print(\"Normalized confusion matrix\")\n",
    "    else:\n",
    "        print('Confusion matrix, without normalization')\n",
    "\n",
    "    print(cm)\n",
    "\n",
    "    fig, ax = plt.subplots()\n",
    "    im = ax.imshow(cm, interpolation='nearest', cmap=cmap)\n",
    "    ax.figure.colorbar(im, ax=ax)\n",
    "    # We want to show all ticks...\n",
    "    ax.set(xticks=np.arange(cm.shape[1]),\n",
    "           yticks=np.arange(cm.shape[0]),\n",
    "           # ... and label them with the respective list entries\n",
    "           #xticklabels=classes, yticklabels=classes,\n",
    "           title=title,\n",
    "           ylabel='True label',\n",
    "           xlabel='Predicted label')\n",
    "\n",
    "    # Rotate the tick labels and set their alignment.\n",
    "    plt.setp(ax.get_xticklabels(), rotation=45, ha=\"right\",\n",
    "             rotation_mode=\"anchor\")\n",
    "\n",
    "    # Loop over data dimensions and create text annotations.\n",
    "    fmt = '.2f' if normalize else 'd'\n",
    "    thresh = cm.max() / 2.\n",
    "    for i in range(cm.shape[0]):\n",
    "        for j in range(cm.shape[1]):\n",
    "            ax.text(j, i, format(cm[i, j], fmt),\n",
    "                    ha=\"center\", va=\"center\",\n",
    "                    color=\"white\" if cm[i, j] > thresh else \"black\")\n",
    "    fig.tight_layout()\n",
    "    return ax"
   ]
  },
  {
   "cell_type": "code",
   "execution_count": 18,
   "metadata": {},
   "outputs": [
    {
     "name": "stdout",
     "output_type": "stream",
     "text": [
      "Normalized confusion matrix\n",
      "[[0. 0. 0. 0. 0. 0. 0. 1. 0. 0.]\n",
      " [0. 0. 0. 0. 0. 0. 0. 1. 0. 0.]\n",
      " [0. 0. 0. 0. 0. 0. 0. 1. 0. 0.]\n",
      " [0. 0. 0. 0. 0. 0. 0. 1. 0. 0.]\n",
      " [0. 0. 0. 0. 0. 0. 0. 1. 0. 0.]\n",
      " [0. 0. 0. 0. 0. 0. 0. 1. 0. 0.]\n",
      " [0. 0. 0. 0. 0. 0. 0. 1. 0. 0.]\n",
      " [0. 0. 0. 0. 0. 0. 0. 1. 0. 0.]\n",
      " [0. 0. 0. 0. 0. 0. 0. 1. 0. 0.]\n",
      " [0. 0. 0. 0. 0. 0. 0. 1. 0. 0.]]\n"
     ]
    },
    {
     "data": {
      "image/png": "[encoded data removed]",
      "text/plain": [
       "<Figure size 432x288 with 2 Axes>"
      ]
     },
     "metadata": {
      "needs_background": "light"
     },
     "output_type": "display_data"
    }
   ],
   "source": [
    "y_pred = model.predict_classes(Data['X_test'])\n",
    "y_test = Data['y_test']\n",
    "class_names=[0,1,2,3,4,5,6,7,8,9]\n",
    "\n",
    "plot = plot_confusion_matrix(\n",
    "    y_test, y_pred, classes=class_names,\n",
    "    normalize=True,\n",
    "    title='Confusion matrix, without normalization'\n",
    ")\n",
    "plt.show(plot)"
   ]
  },
  {
   "cell_type": "markdown",
   "metadata": {},
   "source": [
    "Clearly this initial example performs poorly (in completely trained)"
   ]
  },
  {
   "cell_type": "markdown",
   "metadata": {},
   "source": [
    "# RNN for Regression"
   ]
  },
  {
   "cell_type": "code",
   "execution_count": null,
   "metadata": {},
   "outputs": [],
   "source": []
  }
 ],
 "metadata": {
  "kernelspec": {
   "display_name": "Python 3",
   "language": "python",
   "name": "python3"
  },
  "language_info": {
   "codemirror_mode": {
    "name": "ipython",
    "version": 3
   },
   "file_extension": ".py",
   "mimetype": "text/x-python",
   "name": "python",
   "nbconvert_exporter": "python",
   "pygments_lexer": "ipython3",
   "version": "3.7.1"
  }
 },
 "nbformat": 4,
 "nbformat_minor": 2
}
