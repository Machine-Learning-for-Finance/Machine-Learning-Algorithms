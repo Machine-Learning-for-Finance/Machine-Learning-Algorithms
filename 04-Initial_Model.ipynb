{
 "cells": [
  {
   "cell_type": "markdown",
   "metadata": {
    "colab_type": "text",
    "id": "view-in-github"
   },
   "source": [
    "<a href=\"https://colab.research.google.com/github/Machine-Learning-for-Finance/Machine-Learning-Algorithms/blob/master/01-Data%20Loading.ipynb\" target=\"_parent\"><img src=\"https://colab.research.google.com/assets/colab-badge.svg\" alt=\"Open In Colab\"/></a>"
   ]
  },
  {
   "cell_type": "code",
   "execution_count": 1,
   "metadata": {
    "colab": {},
    "colab_type": "code",
    "id": "veHdEGsVuCZk"
   },
   "outputs": [],
   "source": [
    "import pandas as pd\n",
    "import sklearn.datasets\n",
    "import numpy as np\n",
    "import matplotlib.pyplot as plt"
   ]
  },
  {
   "cell_type": "markdown",
   "metadata": {
    "colab_type": "text",
    "id": "fQso5Qf1uPCs"
   },
   "source": [
    "# Loading From Google Drive"
   ]
  },
  {
   "cell_type": "code",
   "execution_count": 2,
   "metadata": {
    "colab": {
     "base_uri": "https://localhost:8080/",
     "height": 124
    },
    "colab_type": "code",
    "id": "Zg_Ml3XCuCZu",
    "outputId": "351b33f7-733d-43b2-921c-1826c93814bb"
   },
   "outputs": [],
   "source": [
    "try:\n",
    "    from google.colab import drive\n",
    "    drive.mount('/content/drive')\n",
    "    base_location = \"/content/drive/My Drive/data/\"\n",
    "except:\n",
    "    base_location = \"/data/FannieMae/\""
   ]
  },
  {
   "cell_type": "code",
   "execution_count": 3,
   "metadata": {
    "colab": {
     "base_uri": "https://localhost:8080/",
     "height": 35
    },
    "colab_type": "code",
    "id": "a98Ks0awue5j",
    "outputId": "82fd6144-4e82-457c-ad27-8260001c599c"
   },
   "outputs": [
    {
     "name": "stdout",
     "output_type": "stream",
     "text": [
      "ls: cannot access '/content/drive/My Drive/data/2010Q1': No such file or directory\n"
     ]
    }
   ],
   "source": [
    "!ls /content/drive/My\\ Drive/data/2010Q1"
   ]
  },
  {
   "cell_type": "markdown",
   "metadata": {
    "colab_type": "text",
    "id": "51nuHFu2uCZx"
   },
   "source": [
    "# Financial Datasets\n",
    "\n",
    "There are a large number of financial datasets that are available, the first one we will discuss is the Fannie Mae Fixed Rate Mortgage Dataset.\n",
    "\n",
    "- https://www.fanniemae.com/portal/funding-the-market/data/loan-performance-data.html\n",
    "\n",
    "- https://loanperformancedata.fanniemae.com/lppub/index.html#Portfolio\n",
    "\n",
    "Which consists of both Acquisitions and Performance data for a collection of mortgages.\n",
    "\n",
    "To make our lives a bit easier here are the column names pulled from the provided `R` script to load the data.  See `R` is good for at least one thing."
   ]
  },
  {
   "cell_type": "code",
   "execution_count": 4,
   "metadata": {
    "colab": {},
    "colab_type": "code",
    "id": "nSyctLHUuCZx"
   },
   "outputs": [],
   "source": [
    "AcquisitionColumnNames = (\n",
    "    \"LOAN_ID\", \"ORIG_CHN\", \"Seller.Name\", \n",
    "    \"ORIG_RT\", \"ORIG_AMT\", \"ORIG_TRM\", \"ORIG_DTE\",\n",
    "    \"FRST_DTE\", \"OLTV\", \"OCLTV\", \"NUM_BO\", \n",
    "    \"DTI\", \"CSCORE_B\", \"FTHB_FLG\", \"PURPOSE\", \n",
    "    \"PROP_TYP\", \"NUM_UNIT\", \"OCC_STAT\", \"STATE\", \"ZIP_3\", \n",
    "    \"MI_PCT\", \"Product.Type\", \"CSCORE_C\", \"MI_TYPE\", \n",
    "    \"RELOCATION_FLG\"\n",
    ")\n",
    "\n",
    "PerformanceColumnNames = (\n",
    "    \"LOAN_ID\", \"Monthly.Rpt.Prd\", \"Servicer.Name\", \n",
    "    \"LAST_RT\", \"LAST_UPB\", \"Loan.Age\", \"Months.To.Legal.Mat\", \n",
    "    \"Adj.Month.To.Mat\", \"Maturity.Date\", \"MSA\", \n",
    "    \"Delq.Status\", \"MOD_FLAG\", \"Zero.Bal.Code\", \n",
    "    \"ZB_DTE\", \"LPI_DTE\", \"FCC_DTE\",\"DISP_DT\", \n",
    "    \"FCC_COST\", \"PP_COST\", \"AR_COST\", \"IE_COST\", \n",
    "    \"TAX_COST\", \"NS_PROCS\",\"CE_PROCS\", \"RMW_PROCS\", \n",
    "    \"O_PROCS\", \"NON_INT_UPB\", \"PRIN_FORG_UPB_FHFA\", \n",
    "    \"REPCH_FLAG\", \"PRIN_FORG_UPB_OTH\", \"TRANSFER_FLG\"\n",
    ")"
   ]
  },
  {
   "cell_type": "code",
   "execution_count": 5,
   "metadata": {
    "colab": {},
    "colab_type": "code",
    "id": "keiHB79QuCZ0"
   },
   "outputs": [],
   "source": [
    "# Data path will change depending on your system setup.\n",
    "\n",
    "acquisition_data_path = f\"{base_location}2010Q1/Acquisition_2010Q1.txt\""
   ]
  },
  {
   "cell_type": "markdown",
   "metadata": {
    "colab_type": "text",
    "id": "njzEeyp3uCZ3"
   },
   "source": [
    "#### Loading the Acquisition Data from CSV\n",
    "\n",
    "To load the data we call from `pandas`, `pd.read_csv` which automatically handles loading data from the csv file.  We provide column names, a notification that the file doesn't include headers, and information on what the column separator is `|` in this case."
   ]
  },
  {
   "cell_type": "code",
   "execution_count": 6,
   "metadata": {
    "colab": {},
    "colab_type": "code",
    "id": "TSuX8cp_uCZ3"
   },
   "outputs": [],
   "source": [
    "acquisition_df = pd.read_csv(\n",
    "    acquisition_data_path,\n",
    "    names=AcquisitionColumnNames,\n",
    "    header=None,\n",
    "    sep=\"|\"\n",
    ")"
   ]
  },
  {
   "cell_type": "code",
   "execution_count": 7,
   "metadata": {
    "colab": {
     "base_uri": "https://localhost:8080/",
     "height": 121
    },
    "colab_type": "code",
    "id": "0C6pRzIquCZ6",
    "outputId": "03c05cdf-01d9-4437-d5af-064f3b0e9076"
   },
   "outputs": [
    {
     "data": {
      "text/plain": [
       "Index(['LOAN_ID', 'ORIG_CHN', 'Seller.Name', 'ORIG_RT', 'ORIG_AMT', 'ORIG_TRM',\n",
       "       'ORIG_DTE', 'FRST_DTE', 'OLTV', 'OCLTV', 'NUM_BO', 'DTI', 'CSCORE_B',\n",
       "       'FTHB_FLG', 'PURPOSE', 'PROP_TYP', 'NUM_UNIT', 'OCC_STAT', 'STATE',\n",
       "       'ZIP_3', 'MI_PCT', 'Product.Type', 'CSCORE_C', 'MI_TYPE',\n",
       "       'RELOCATION_FLG'],\n",
       "      dtype='object')"
      ]
     },
     "execution_count": 7,
     "metadata": {},
     "output_type": "execute_result"
    }
   ],
   "source": [
    "acquisition_df.columns"
   ]
  },
  {
   "cell_type": "markdown",
   "metadata": {
    "colab_type": "text",
    "id": "hJupFzpRuCZ9"
   },
   "source": [
    "#### Loading the Performance Data"
   ]
  },
  {
   "cell_type": "code",
   "execution_count": 8,
   "metadata": {
    "colab": {
     "base_uri": "https://localhost:8080/",
     "height": 72
    },
    "colab_type": "code",
    "id": "aSM-v4WXuCZ-",
    "outputId": "224f82da-104c-4a0d-b8c9-9bafd3e9b3a1"
   },
   "outputs": [
    {
     "name": "stderr",
     "output_type": "stream",
     "text": [
      "/home/capcolabs/Stevens/Machine-Learning-Algorithms/venv/lib/python3.7/site-packages/IPython/core/interactiveshell.py:3058: DtypeWarning: Columns (14,15,16) have mixed types. Specify dtype option on import or set low_memory=False.\n",
      "  interactivity=interactivity, compiler=compiler, result=result)\n"
     ]
    }
   ],
   "source": [
    "performance_data_path = f\"{base_location}2010Q1/Performance_2010Q1.txt\"\n",
    "\n",
    "performance_df = pd.read_csv(\n",
    "    performance_data_path,\n",
    "    names=PerformanceColumnNames,\n",
    "    header=None,\n",
    "    sep=\"|\"\n",
    ")\n"
   ]
  },
  {
   "cell_type": "markdown",
   "metadata": {
    "colab_type": "text",
    "id": "5lE_VMiAuCaA"
   },
   "source": [
    "First thing we note is that this takes longer than the `Acquisitions` data to load, stemming from the fact that for each loan there are multiple monthly data elements loaded."
   ]
  },
  {
   "cell_type": "markdown",
   "metadata": {
    "colab": {},
    "colab_type": "code",
    "id": "_CTGeuxquCaY"
   },
   "source": [
    "# Data Modifying"
   ]
  },
  {
   "cell_type": "code",
   "execution_count": 9,
   "metadata": {},
   "outputs": [],
   "source": [
    "DS = set(performance_df['Delq.Status'])"
   ]
  },
  {
   "cell_type": "code",
   "execution_count": 10,
   "metadata": {},
   "outputs": [
    {
     "name": "stdout",
     "output_type": "stream",
     "text": [
      "{nan, '78', '49', '11', '21', '12', '15', '50', '92', '94', '65', '19', '0', '71', '16', '63', '13', '26', '45', 'X', '34', '29', '14', '23', '31', '98', '44', '7', '48', '28', '60', '84', '51', '67', '69', '22', '18', '3', '6', '86', '43', '68', '47', '85', '59', '88', '80', '25', '41', '36', '52', '37', '91', '96', '1', '75', '42', '27', '79', '61', '81', '5', '20', '76', '64', '56', '46', '74', '93', '40', '32', '10', '8', '24', '82', '57', '90', '17', '77', '66', '70', '83', '38', '89', '58', '33', '99', '54', '72', '35', '9', '2', '73', '62', '87', '95', '55', '97', '53', '39', '30', '4'}\n"
     ]
    }
   ],
   "source": [
    "print(DS)\n",
    "mapper = {}\n",
    "for ds in DS:\n",
    "    try:\n",
    "        mapper[ds] = int(ds)\n",
    "    except:\n",
    "        mapper[ds] = -1\n",
    "\n",
    "performance_df['Delq.Status'] = performance_df['Delq.Status'].map(mapper)"
   ]
  },
  {
   "cell_type": "code",
   "execution_count": 11,
   "metadata": {},
   "outputs": [
    {
     "name": "stdout",
     "output_type": "stream",
     "text": [
      "[-1  0  1  2  3  4  5  6  7  8  9 10 11 12 13 14 15 16 17 18 19 20 21 22\n",
      " 23 24 25 26 27 28 29 30 31 32 33 34 35 36 37 38 39 40 41 42 43 44 45 46\n",
      " 47 48 49 50 51 52 53 54 55 56 57 58 59 60 61 62 63 64 65 66 67 68 69 70\n",
      " 71 72 73 74 75 76 77 78 79 80 81 82 83 84 85 86 87 88 89 90 91 92 93 94\n",
      " 95 96 97 98 99]\n"
     ]
    }
   ],
   "source": [
    "V, C = np.unique(performance_df['Delq.Status'], return_counts=True)\n",
    "print(V)"
   ]
  },
  {
   "cell_type": "markdown",
   "metadata": {},
   "source": [
    "# Grouping By Loan ID\n",
    "\n",
    "https://stackoverflow.com/questions/15705630/get-the-rows-which-have-the-max-value-in-groups-using-groupby"
   ]
  },
  {
   "cell_type": "code",
   "execution_count": 12,
   "metadata": {},
   "outputs": [],
   "source": [
    "loans = performance_df.groupby(\"LOAN_ID\", sort=True)['Delq.Status'].max()\n",
    "\n",
    "ID_To_Delinq = {}\n",
    "\n",
    "for row in loans.iteritems():\n",
    "    loan_id, delinq = row\n",
    "    ID_To_Delinq[loan_id] = delinq"
   ]
  },
  {
   "cell_type": "code",
   "execution_count": 13,
   "metadata": {},
   "outputs": [],
   "source": [
    "def mapper(row):\n",
    "    return ID_To_Delinq.get(row[\"LOAN_ID\"], -1)\n",
    "\n",
    "acquisition_df['MAX_DELINQ'] = acquisition_df.apply(mapper, axis=1)"
   ]
  },
  {
   "cell_type": "code",
   "execution_count": 14,
   "metadata": {},
   "outputs": [],
   "source": [
    "V, C = np.unique(acquisition_df['MAX_DELINQ'], return_counts=True)"
   ]
  },
  {
   "cell_type": "markdown",
   "metadata": {},
   "source": [
    "# Data Loading For Model\n",
    "\n",
    "We will first create a simple model (which will probably give poor results."
   ]
  },
  {
   "cell_type": "code",
   "execution_count": 38,
   "metadata": {},
   "outputs": [
    {
     "name": "stdout",
     "output_type": "stream",
     "text": [
      "(322872, 2)\n",
      "(322872, 1)\n",
      "(322872, 3)\n",
      "(322872, 2)\n",
      "(322872, 1)\n",
      "Train Number: 258297\n",
      "X_Train: (258297, 2)\n",
      "X_Test: (64575, 2)\n",
      "====================\n",
      "y_Train: (258297, 1)\n",
      "y_Test:  (64575, 1)\n"
     ]
    }
   ],
   "source": [
    "DEL_NOTNAN = acquisition_df[\"MAX_DELINQ\"].notna()\n",
    "df = acquisition_df[DEL_NOTNAN]\n",
    "OLTV = df['OLTV'].notna()\n",
    "df = df[OLTV]\n",
    "CS = df['CSCORE_B'].notna()\n",
    "df = df[CS]\n",
    "\n",
    "credit_score  = np.array(df['CSCORE_B'])\n",
    "loan_to_value = np.array(df['OLTV'])\n",
    "max_delinq    = np.array(df['MAX_DELINQ'])\n",
    "\n",
    "X = np.array([credit_score, loan_to_value]).transpose()\n",
    "y = np.array([max_delinq]).transpose()\n",
    "print(X.shape)\n",
    "print(y.shape)\n",
    "\n",
    "Total = np.hstack([X, y])\n",
    "print(Total.shape)\n",
    "np.random.shuffle(Total)\n",
    "\n",
    "X = Total[:, :2]\n",
    "y = Total[:, 2:]\n",
    "\n",
    "print(X.shape)\n",
    "print(y.shape)\n",
    "\n",
    "prop = 0.8\n",
    "train_num = int(prop * len(Total))\n",
    "print(f\"Train Number: {train_num}\")\n",
    "\n",
    "X_train, X_test = X[:train_num], X[train_num:]\n",
    "y_train, y_test = y[:train_num], y[train_num:]\n",
    "\n",
    "print(f\"X_Train: {X_train.shape}\")\n",
    "print(f\"X_Test: {X_test.shape}\")\n",
    "print(\"==\"*10)\n",
    "print(f\"y_Train: {y_train.shape}\")\n",
    "print(f\"y_Test:  {y_test.shape}\")"
   ]
  },
  {
   "cell_type": "code",
   "execution_count": null,
   "metadata": {},
   "outputs": [],
   "source": []
  },
  {
   "cell_type": "code",
   "execution_count": 22,
   "metadata": {},
   "outputs": [],
   "source": [
    "V, C = np.unique(credit_score, return_counts=True)"
   ]
  },
  {
   "cell_type": "code",
   "execution_count": 23,
   "metadata": {},
   "outputs": [],
   "source": [
    "V, C = np.unique(y, return_counts=True)"
   ]
  },
  {
   "cell_type": "markdown",
   "metadata": {},
   "source": [
    "## Decision Tree\n",
    "\n",
    "- https://towardsdatascience.com/what-is-a-decision-tree-22975f00f3e1\n",
    "\n",
    "- https://towardsdatascience.com/decision-trees-in-machine-learning-641b9c4e8052"
   ]
  },
  {
   "cell_type": "code",
   "execution_count": 39,
   "metadata": {},
   "outputs": [
    {
     "name": "stdout",
     "output_type": "stream",
     "text": [
      "0.9056445993031359\n"
     ]
    }
   ],
   "source": [
    "from sklearn import tree\n",
    "\n",
    "clf = tree.DecisionTreeClassifier()\n",
    "clf = clf.fit(X_train, y_train)\n",
    "print(clf.score(X_test, y_test))"
   ]
  },
  {
   "cell_type": "markdown",
   "metadata": {},
   "source": [
    "## Random Forest Classifier"
   ]
  },
  {
   "cell_type": "code",
   "execution_count": 40,
   "metadata": {},
   "outputs": [
    {
     "name": "stderr",
     "output_type": "stream",
     "text": [
      "/home/capcolabs/Stevens/Machine-Learning-Algorithms/venv/lib/python3.7/site-packages/ipykernel_launcher.py:4: DataConversionWarning: A column-vector y was passed when a 1d array was expected. Please change the shape of y to (n_samples,), for example using ravel().\n",
      "  after removing the cwd from sys.path.\n"
     ]
    },
    {
     "name": "stdout",
     "output_type": "stream",
     "text": [
      "0.9041114982578398\n"
     ]
    }
   ],
   "source": [
    "from sklearn.ensemble import RandomForestClassifier\n",
    "\n",
    "rfc = RandomForestClassifier(n_estimators=10)\n",
    "rfc = rfc.fit(X_train, y_train)\n",
    "print(rfc.score(X_test, y_test))"
   ]
  },
  {
   "cell_type": "markdown",
   "metadata": {},
   "source": [
    "### Feature Importance\n",
    "\n",
    "One benefit of the Random Forest Classifier is you can get the relative importance for each of the features towards making the decision."
   ]
  },
  {
   "cell_type": "code",
   "execution_count": 41,
   "metadata": {},
   "outputs": [
    {
     "data": {
      "text/plain": [
       "array([0.73313046, 0.26686954])"
      ]
     },
     "execution_count": 41,
     "metadata": {},
     "output_type": "execute_result"
    }
   ],
   "source": [
    "rfc.feature_importances_"
   ]
  },
  {
   "cell_type": "markdown",
   "metadata": {},
   "source": [
    "# TensorFlow Model Example"
   ]
  },
  {
   "cell_type": "code",
   "execution_count": 42,
   "metadata": {},
   "outputs": [],
   "source": [
    "# !pip install tensorflow-gpu\n",
    "import tensorflow as tf"
   ]
  },
  {
   "cell_type": "markdown",
   "metadata": {},
   "source": [
    "## Neural Network Architecture\n",
    "\n",
    "Since we are dealing with just an input vector _Credit Score_ and _Original Loan to Value_ we will build our models with stacked dense layers. Our steps we take are \n",
    "1. Build the Dataset\n",
    "2. Construct the Model\n",
    "3. Compile the Model\n",
    "4. Train the Model"
   ]
  },
  {
   "cell_type": "code",
   "execution_count": 46,
   "metadata": {},
   "outputs": [
    {
     "name": "stdout",
     "output_type": "stream",
     "text": [
      "<BatchDataset shapes: ((None, 2), (None, 1)), types: (tf.float64, tf.float64)>\n"
     ]
    }
   ],
   "source": [
    "train_dataset = tf.data.Dataset.from_tensor_slices((X_train, y_train))\n",
    "test_dataset  = tf.data.Dataset.from_tensor_slices((X_test, y_test))\n",
    "\n",
    "BATCH_SIZE = 64\n",
    "SHUFFLE_BUFFER_SIZE = 100\n",
    "V = np.unique(y)\n",
    "\n",
    "train_dataset = train_dataset.shuffle(SHUFFLE_BUFFER_SIZE).batch(BATCH_SIZE)\n",
    "test_dataset  = test_dataset.shuffle(SHUFFLE_BUFFER_SIZE).batch(BATCH_SIZE)\n",
    "\n",
    "print(train_dataset)"
   ]
  },
  {
   "cell_type": "code",
   "execution_count": 56,
   "metadata": {},
   "outputs": [],
   "source": [
    "model = tf.keras.Sequential([\n",
    "    tf.keras.layers.Dense(128, input_shape=[2]),\n",
    "    tf.keras.layers.Dense(128, activation='relu'),\n",
    "    tf.keras.layers.Dense(len(V), activation='softmax')\n",
    "])\n",
    "\n",
    "model.compile(\n",
    "    optimizer=tf.keras.optimizers.RMSprop(),\n",
    "    loss=tf.keras.losses.SparseCategoricalCrossentropy(),\n",
    "    metrics=[tf.keras.metrics.SparseCategoricalAccuracy()]\n",
    ")\n"
   ]
  },
  {
   "cell_type": "code",
   "execution_count": 57,
   "metadata": {},
   "outputs": [
    {
     "name": "stdout",
     "output_type": "stream",
     "text": [
      "Epoch 1/10\n",
      "4036/4036 [==============================] - 12s 3ms/step - loss: nan - sparse_categorical_accuracy: 0.8920 - val_loss: nan - val_sparse_categorical_accuracy: 0.0000e+00\n",
      "Epoch 2/10\n",
      "4036/4036 [==============================] - 11s 3ms/step - loss: nan - sparse_categorical_accuracy: 0.9105 - val_loss: nan - val_sparse_categorical_accuracy: 0.9089\n",
      "Epoch 3/10\n",
      "4036/4036 [==============================] - 10s 3ms/step - loss: nan - sparse_categorical_accuracy: 0.9105 - val_loss: nan - val_sparse_categorical_accuracy: 0.9089\n",
      "Epoch 4/10\n",
      "4036/4036 [==============================] - 10s 2ms/step - loss: nan - sparse_categorical_accuracy: 0.9105 - val_loss: nan - val_sparse_categorical_accuracy: 0.9089\n",
      "Epoch 5/10\n",
      "4036/4036 [==============================] - 10s 2ms/step - loss: nan - sparse_categorical_accuracy: 0.9105 - val_loss: nan - val_sparse_categorical_accuracy: 0.9089\n",
      "Epoch 6/10\n",
      "4036/4036 [==============================] - 10s 2ms/step - loss: nan - sparse_categorical_accuracy: 0.9105 - val_loss: nan - val_sparse_categorical_accuracy: 0.9089\n",
      "Epoch 7/10\n",
      "4036/4036 [==============================] - 10s 2ms/step - loss: nan - sparse_categorical_accuracy: 0.9105 - val_loss: nan - val_sparse_categorical_accuracy: 0.9089\n",
      "Epoch 8/10\n",
      "4036/4036 [==============================] - 10s 3ms/step - loss: nan - sparse_categorical_accuracy: 0.9105 - val_loss: nan - val_sparse_categorical_accuracy: 0.9089\n",
      "Epoch 9/10\n",
      "4036/4036 [==============================] - 10s 3ms/step - loss: nan - sparse_categorical_accuracy: 0.9105 - val_loss: nan - val_sparse_categorical_accuracy: 0.9089\n",
      "Epoch 10/10\n",
      "4036/4036 [==============================] - 10s 2ms/step - loss: nan - sparse_categorical_accuracy: 0.9105 - val_loss: nan - val_sparse_categorical_accuracy: 0.9089\n"
     ]
    }
   ],
   "source": [
    "history = model.fit(\n",
    "    train_dataset, \n",
    "    validation_data=test_dataset, \n",
    "    epochs=10\n",
    ")"
   ]
  },
  {
   "cell_type": "code",
   "execution_count": 55,
   "metadata": {},
   "outputs": [
    {
     "name": "stdout",
     "output_type": "stream",
     "text": [
      "{'loss': [nan, nan, nan, nan, nan, nan, nan, nan, nan, nan], 'sparse_categorical_accuracy': [0.91047513, 0.91047513, 0.91047513, 0.91047513, 0.91047513, 0.91047513, 0.91047513, 0.91047513, 0.91047513, 0.91047513], 'val_loss': [nan, nan, nan, nan, nan, nan, nan, nan, nan, nan], 'val_sparse_categorical_accuracy': [0.9088811, 0.9088811, 0.9088811, 0.9088811, 0.9088811, 0.9088811, 0.9088811, 0.9088811, 0.9088811, 0.9088811]}\n"
     ]
    }
   ],
   "source": [
    "print(history.history)"
   ]
  },
  {
   "cell_type": "code",
   "execution_count": 59,
   "metadata": {},
   "outputs": [
    {
     "data": {
      "image/png": "[encoded data removed]",
      "text/plain": [
       "<Figure size 432x288 with 1 Axes>"
      ]
     },
     "metadata": {
      "needs_background": "light"
     },
     "output_type": "display_data"
    }
   ],
   "source": [
    "plt.plot(history.history['sparse_categorical_accuracy'])\n",
    "plt.plot(history.history['val_sparse_categorical_accuracy'])\n",
    "plt.show()"
   ]
  },
  {
   "cell_type": "code",
   "execution_count": null,
   "metadata": {},
   "outputs": [],
   "source": []
  }
 ],
 "metadata": {
  "colab": {
   "include_colab_link": true,
   "name": "01-Data Loading.ipynb",
   "provenance": []
  },
  "kernelspec": {
   "display_name": "Python 3",
   "language": "python",
   "name": "python3"
  },
  "language_info": {
   "codemirror_mode": {
    "name": "ipython",
    "version": 3
   },
   "file_extension": ".py",
   "mimetype": "text/x-python",
   "name": "python",
   "nbconvert_exporter": "python",
   "pygments_lexer": "ipython3",
   "version": "3.7.3"
  }
 },
 "nbformat": 4,
 "nbformat_minor": 4
}
