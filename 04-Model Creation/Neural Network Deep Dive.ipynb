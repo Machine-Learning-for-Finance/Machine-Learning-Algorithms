{
 "cells": [
  {
   "cell_type": "markdown",
   "metadata": {},
   "source": [
    "# Neural Network Deep Dive\n",
    "\n",
    "We will first demonstrate how neural networks work using the Numpy module."
   ]
  },
  {
   "cell_type": "code",
   "execution_count": 1,
   "metadata": {},
   "outputs": [
    {
     "name": "stdout",
     "output_type": "stream",
     "text": [
      "Hello World!\n"
     ]
    }
   ],
   "source": [
    "import numpy as np\n",
    "import matplotlib.pyplot as plt \n",
    "\n",
    "import os\n",
    "import sys\n",
    "from tqdm import tqdm\n",
    "module_path = os.path.abspath(os.path.join(\"..\"))\n",
    "if module_path not in sys.path:\n",
    "    sys.path.append(module_path)\n",
    "    \n",
    "from utils import hello_world\n",
    "hello_world()"
   ]
  },
  {
   "cell_type": "code",
   "execution_count": 4,
   "metadata": {},
   "outputs": [],
   "source": [
    "def nonlin(x,deriv=False):\n",
    "    if(deriv==True):\n",
    "        return x*(1-x)\n",
    "    return 1/(1+np.exp(-x))\n",
    "\n",
    "\n",
    "class SGDNN():\n",
    "    def __init__(self,\n",
    "                 hiddenSize_,\n",
    "                 inputSize_=2,\n",
    "                 outputSize_=3,\n",
    "                 giveSeed_=False,\n",
    "                 seed = 1):\n",
    "        sizeHidden = 20\n",
    "        if giveSeed_:\n",
    "            np.random.seed(seed)\n",
    "        self.syn0 = (2*np.random.random((inputSize_,sizeHidden)) - 1) / np.sqrt(hiddenSize_)\n",
    "        \n",
    "        self.syn1 = (2*np.random.random((sizeHidden,outputSize_)) - 1)/np.sqrt(hiddenSize_)\n",
    "    \n",
    "    \n",
    "    def testPoint(self, X):\n",
    "        l0 = X\n",
    "        l1 = nonlin(np.dot(l0, self.syn0))\n",
    "        l2 = nonlin(np.dot(l1, self.syn1))\n",
    "        return l2\n",
    "    \n",
    "    def trainingAlgorithm(self, Data):\n",
    "        \"\"\"\n",
    "        \n",
    "        \"\"\"\n",
    "        All = Data\n",
    "        for j in tqdm(range(10000)):\n",
    "            if (j % 100) == 0:\n",
    "                np.random.shuffle(All)\n",
    "            A = All\n",
    "            A = np.split(A, 50)\n",
    "            for a in A:\n",
    "                l0 = a[:,0:2]\n",
    "                l1 = nonlin(np.dot(l0,self.syn0))\n",
    "                l2 = nonlin(np.dot(l1,self.syn1))\n",
    "\n",
    "                l2_error = a[:,2:5] - l2\n",
    "\n",
    "                l2_delta = l2_error*nonlin(l2,deriv=True)\n",
    "\n",
    "                l1_error = l2_delta.dot(self.syn1.T)\n",
    "\n",
    "                l1_delta = l1_error * nonlin(l1,deriv=True)\n",
    "\n",
    "                self.syn1 += 0.1*l1.T.dot(l2_delta)\n",
    "                self.syn0 += 0.1*l0.T.dot(l1_delta)\n",
    "            \n",
    "            # Checking Results every 1000 Epochs\n",
    "            if (j % 1000 ) == 0:\n",
    "                l0 = All[:,0:2]\n",
    "                l1 = nonlin(np.dot(l0, self.syn0))\n",
    "                l2 = nonlin(np.dot(l1, self.syn1))\n",
    "                L2_Error = All[:,2:5] - l2\n",
    "                print(\"Error: \" + str(np.mean(np.abs(L2_Error))))"
   ]
  },
  {
   "cell_type": "markdown",
   "metadata": {},
   "source": [
    "# Generate Data\n",
    "\n",
    "To Test the results we create three separate data samples,\n",
    "each in two dimensions.\n"
   ]
  },
  {
   "cell_type": "code",
   "execution_count": 5,
   "metadata": {},
   "outputs": [
    {
     "data": {
      "image/png": "[encoded data removed]",
      "text/plain": [
       "<Figure size 432x288 with 1 Axes>"
      ]
     },
     "metadata": {
      "needs_background": "light"
     },
     "output_type": "display_data"
    }
   ],
   "source": [
    "D1 = np.random.normal((5,5),(1,1),(1000,2))\n",
    "D2 = np.random.normal((-2,-3),(.5,.5),(1000,2))\n",
    "D3 = np.random.normal((2,-6),(.7,.3),(1000,2))\n",
    "\n",
    "\n",
    "plt.figure()\n",
    "plt.scatter(D1[:,0],D1[:,1])\n",
    "plt.scatter(D2[:,0],D2[:,1])\n",
    "plt.scatter(D3[:,0],D3[:,1])\n",
    "plt.show()"
   ]
  },
  {
   "cell_type": "code",
   "execution_count": 6,
   "metadata": {},
   "outputs": [
    {
     "name": "stderr",
     "output_type": "stream",
     "text": [
      "  1%|          | 72/10000 [00:00<00:28, 350.00it/s]"
     ]
    },
    {
     "name": "stdout",
     "output_type": "stream",
     "text": [
      "Error: 0.03834007007522097\n"
     ]
    },
    {
     "name": "stderr",
     "output_type": "stream",
     "text": [
      " 11%|█         | 1051/10000 [00:02<00:25, 355.16it/s]"
     ]
    },
    {
     "name": "stdout",
     "output_type": "stream",
     "text": [
      "Error: 0.0012530884111774982\n"
     ]
    },
    {
     "name": "stderr",
     "output_type": "stream",
     "text": [
      " 21%|██        | 2060/10000 [00:05<00:22, 352.42it/s]"
     ]
    },
    {
     "name": "stdout",
     "output_type": "stream",
     "text": [
      "Error: 0.0008265811168190841\n"
     ]
    },
    {
     "name": "stderr",
     "output_type": "stream",
     "text": [
      " 31%|███       | 3056/10000 [00:08<00:21, 327.11it/s]"
     ]
    },
    {
     "name": "stdout",
     "output_type": "stream",
     "text": [
      "Error: 0.0006127780469487164\n"
     ]
    },
    {
     "name": "stderr",
     "output_type": "stream",
     "text": [
      " 40%|████      | 4043/10000 [00:11<00:16, 360.73it/s]"
     ]
    },
    {
     "name": "stdout",
     "output_type": "stream",
     "text": [
      "Error: 0.00048435483268211477\n"
     ]
    },
    {
     "name": "stderr",
     "output_type": "stream",
     "text": [
      " 50%|█████     | 5044/10000 [00:14<00:13, 363.93it/s]"
     ]
    },
    {
     "name": "stdout",
     "output_type": "stream",
     "text": [
      "Error: 0.0004202391530059682\n"
     ]
    },
    {
     "name": "stderr",
     "output_type": "stream",
     "text": [
      " 61%|██████    | 6053/10000 [00:16<00:10, 366.15it/s]"
     ]
    },
    {
     "name": "stdout",
     "output_type": "stream",
     "text": [
      "Error: 0.0003730797520089702\n"
     ]
    },
    {
     "name": "stderr",
     "output_type": "stream",
     "text": [
      " 71%|███████   | 7056/10000 [00:19<00:08, 366.08it/s]"
     ]
    },
    {
     "name": "stdout",
     "output_type": "stream",
     "text": [
      "Error: 0.00032703275684798445\n"
     ]
    },
    {
     "name": "stderr",
     "output_type": "stream",
     "text": [
      " 81%|████████  | 8064/10000 [00:22<00:05, 365.95it/s]"
     ]
    },
    {
     "name": "stdout",
     "output_type": "stream",
     "text": [
      "Error: 0.00030964855646614783\n"
     ]
    },
    {
     "name": "stderr",
     "output_type": "stream",
     "text": [
      " 91%|█████████ | 9074/10000 [00:25<00:02, 366.97it/s]"
     ]
    },
    {
     "name": "stdout",
     "output_type": "stream",
     "text": [
      "Error: 0.00027604503522396246\n"
     ]
    },
    {
     "name": "stderr",
     "output_type": "stream",
     "text": [
      "100%|██████████| 10000/10000 [00:27<00:00, 360.66it/s]\n"
     ]
    }
   ],
   "source": [
    "Points = []\n",
    "X = np.linspace(-5,5,100)\n",
    "Y = np.linspace(-8,8,100)    \n",
    "for x in X:\n",
    "    for y in Y:\n",
    "        Points.append(np.array([x,y]))\n",
    "\n",
    "Data = np.vstack([D1,D2,D3])\n",
    "\n",
    "L1 = np.array([[1,0,0] for i in range(len(D1))])\n",
    "L2 = np.array([[0,1,0] for i in range(len(D2))])\n",
    "L3 = np.array([[0,0,1] for i in range(len(D3))])\n",
    "\n",
    "Label = np.vstack([L1,L2,L3])\n",
    "\n",
    "All = np.hstack([Data,Label])\n",
    "\n",
    "Network = SGDNN(5)\n",
    "Network.trainingAlgorithm(All)"
   ]
  },
  {
   "cell_type": "code",
   "execution_count": 7,
   "metadata": {},
   "outputs": [
    {
     "name": "stdout",
     "output_type": "stream",
     "text": [
      "Testing\n",
      "[-2,-3]\n",
      "Result: [0. 1. 0.]\n",
      "[5,5]\n",
      "Result: [1. 0. 0.]\n"
     ]
    }
   ],
   "source": [
    "print(\"Testing\")\n",
    "print(\"[-2,-3]\")\n",
    "res = Network.testPoint(np.array([-2,-3]))\n",
    "print(f\"Result: {np.round(res, 2)}\")\n",
    "\n",
    "print(\"[5,5]\")\n",
    "res = Network.testPoint(np.array([5,5]))\n",
    "print(f\"Result: {np.round(res,2)}\")\n",
    "Vals = []    \n",
    "for p in Points:\n",
    "    Vals.append(Network.testPoint(p))\n",
    "\n",
    "f = open(\"trainedValues.csv\",'w')\n",
    "for i in range(len(Points)):\n",
    "    Line = str(Points[i][0])+\",\"+str(Points[i][1])+\",\"+str(np.argmax(Vals[i])) +\"\\n\"\n",
    "    f.write(Line)\n",
    "f.close()"
   ]
  },
  {
   "cell_type": "markdown",
   "metadata": {},
   "source": [
    "# Neural Networks\n",
    "\n"
   ]
  },
  {
   "cell_type": "code",
   "execution_count": null,
   "metadata": {},
   "outputs": [],
   "source": []
  },
  {
   "cell_type": "markdown",
   "metadata": {},
   "source": [
    "# Simple Model\n",
    "\n",
    "To start let's recreate our NumPy based model from above.  Using `sigmoid` activation and `mean squared error` to start with.  The layers will be:\n",
    "\n",
    "- Input\n",
    "- Hidden Layer\n",
    "- Output\n",
    "\n"
   ]
  },
  {
   "cell_type": "code",
   "execution_count": 8,
   "metadata": {},
   "outputs": [],
   "source": [
    "import tensorflow as tf"
   ]
  },
  {
   "cell_type": "code",
   "execution_count": 9,
   "metadata": {},
   "outputs": [
    {
     "name": "stdout",
     "output_type": "stream",
     "text": [
      "Model: \"initial_model\"\n",
      "_________________________________________________________________\n",
      "Layer (type)                 Output Shape              Param #   \n",
      "=================================================================\n",
      "input_1 (InputLayer)         [(None, 2)]               0         \n",
      "_________________________________________________________________\n",
      "dense (Dense)                (None, 5)                 15        \n",
      "_________________________________________________________________\n",
      "dense_1 (Dense)              (None, 3)                 18        \n",
      "=================================================================\n",
      "Total params: 33\n",
      "Trainable params: 33\n",
      "Non-trainable params: 0\n",
      "_________________________________________________________________\n"
     ]
    }
   ],
   "source": [
    "input_layer = tf.keras.layers.Input(\n",
    "    shape=[2]\n",
    ")\n",
    "\n",
    "hidden_layer = tf.keras.layers.Dense(\n",
    "    5, \n",
    "    activation='sigmoid'\n",
    ")(input_layer)\n",
    "\n",
    "output_layer = tf.keras.layers.Dense(\n",
    "    3, \n",
    "    activation='sigmoid'\n",
    ")(hidden_layer)\n",
    "\n",
    "model = tf.keras.Model(\n",
    "    inputs=input_layer,\n",
    "    outputs=output_layer,\n",
    "    name='initial_model'\n",
    ")\n",
    "\n",
    "model.summary()"
   ]
  },
  {
   "cell_type": "code",
   "execution_count": 10,
   "metadata": {},
   "outputs": [
    {
     "data": {
      "image/png": "[encoded data removed]",
      "text/plain": [
       "<IPython.core.display.Image object>"
      ]
     },
     "execution_count": 10,
     "metadata": {},
     "output_type": "execute_result"
    }
   ],
   "source": [
    "tf.keras.utils.plot_model(\n",
    "    model, \n",
    "    'my_first_model.png',\n",
    "    show_shapes=True\n",
    ")"
   ]
  },
  {
   "cell_type": "code",
   "execution_count": 11,
   "metadata": {},
   "outputs": [],
   "source": [
    "model.compile(\n",
    "    loss=tf.keras.losses.MSE,\n",
    "    optimizer=tf.keras.optimizers.SGD(),\n",
    "    metrics=['accuracy']\n",
    ")"
   ]
  },
  {
   "cell_type": "markdown",
   "metadata": {},
   "source": [
    "# Loss Functions\n",
    ">Images and Code Taken from https://towardsdatascience.com/common-loss-functions-in-machine-learning-46af0ffc4d23\n",
    "\n",
    "---\n",
    "![](imgs/losses.png)\n",
    "> FROM: https://heartbeat.fritz.ai/5-regression-loss-functions-all-machine-learners-should-know-4fb140e9d4b0\n",
    "---\n",
    "\n",
    "### Mean Square Error\n",
    "\n",
    "From Wikipedia:\n",
    ">In statistics, the mean squared error (MSE) of an estimator (of a procedure for estimating an unobserved quantity) measures the average of the squares of the errors — that is, the average squared difference between the estimated values and what is estimated. MSE is a risk function, corresponding to the expected value of the squared error loss. The fact that MSE is almost always strictly positive (and not zero) is because of randomness or because the estimator does not account for information that could produce a more accurate estimate.\n",
    "\n",
    "- https://www.freecodecamp.org/news/machine-learning-mean-squared-error-regression-line-c7dde9a26b93/\n",
    "\n",
    "![](imgs/mse.png)\n",
    "\n",
    "```\n",
    "import numpy as npy_hat = np.array([0.000, 0.166, 0.333])\n",
    "y_true = np.array([0.000, 0.254, 0.998])def rmse(predictions, targets):\n",
    "    differences = predictions - targets\n",
    "    differences_squared = differences ** 2\n",
    "    mean_of_differences_squared = differences_squared.mean()\n",
    "    rmse_val = np.sqrt(mean_of_differences_squared)\n",
    "    return rmse_valprint(\"d is: \" + str([\"%.8f\" % elem for elem in y_hat]))\n",
    "print(\"p is: \" + str([\"%.8f\" % elem for elem in y_true]))rmse_val = rmse(y_hat, y_true)\n",
    "print(\"rms error is: \" + str(rmse_val))\n",
    "```\n",
    "\n",
    "\n",
    "### Mean Absolute Error\n",
    "\n",
    "From Wikipedia:https://en.wikipedia.org/wiki/Mean_absolute_error\n",
    "\n",
    ">In statistics, mean absolute error (MAE) is a measure of difference between two continuous variables. Assume X and Y are variables of paired observations that express the same phenomenon. Examples of Y versus X include comparisons of predicted versus observed, subsequent time versus initial time, and one technique of measurement versus an alternative technique of measurement. Consider a scatter plot of n points, where point i has coordinates (xi, yi)... Mean Absolute Error (MAE) is the average vertical distance between each point and the identity line. MAE is also the average horizontal distance between each point and the identity line. \n",
    "\n",
    "![](imgs/mae.png)\n",
    "\n",
    "```\n",
    "import numpy as npy_hat = np.array([0.000, 0.166, 0.333])\n",
    "y_true = np.array([0.000, 0.254, 0.998])\n",
    "\n",
    "print(\"d is: \" + str([\"%.8f\" % elem for elem in y_hat]))\n",
    "print(\"p is: \" + str([\"%.8f\" % elem for elem in y_true]))\n",
    "\n",
    "def mae(predictions, targets):\n",
    "    differences = predictions - targets\n",
    "    absolute_differences = np.absolute(differences)\n",
    "    mean_absolute_differences = absolute_differences.mean()\n",
    "    return mean_absolute_differencesmae_val = mae(y_hat, y_true)\n",
    "print (\"mae error is: \" + str(mae_val))\n",
    "```\n",
    "\n",
    "\n",
    "### Cross Entropy Loss\n",
    "\n",
    ">In information theory, the cross entropy between two probability distributions p {\\displaystyle p} p and q {\\displaystyle q} q over the same underlying set of events measures the average number of bits needed to identify an event drawn from the set if a coding scheme used for the set is optimized for an estimated probability distribution q {\\displaystyle q} q, rather than the true distribution p {\\displaystyle p} p. \n",
    "\n",
    "Resources:\n",
    "- https://gombru.github.io/2018/05/23/cross_entropy_loss/\n",
    "\n",
    "\n",
    "![](imgs/cel.png)\n",
    "\n",
    "```\n",
    "import numpy as nppredictions = np.array([[0.25,0.25,0.25,0.25],\n",
    "                        [0.01,0.01,0.01,0.96]])\n",
    "targets = np.array([[0,0,0,1],\n",
    "                   [0,0,0,1]])def cross_entropy(predictions, targets, epsilon=1e-10):\n",
    "    predictions = np.clip(predictions, epsilon, 1. - epsilon)\n",
    "    N = predictions.shape[0]\n",
    "    ce_loss = -np.sum(np.sum(targets * np.log(predictions + 1e-5)))/N\n",
    "    return ce_losscross_entropy_loss = cross_entropy(predictions, targets)\n",
    "print (\"Cross entropy loss is: \" + str(cross_entropy_loss))\n",
    "```\n",
    "\n",
    "Resources:\n",
    "- https://towardsdatascience.com/common-loss-functions-in-machine-learning-46af0ffc4d23"
   ]
  },
  {
   "cell_type": "code",
   "execution_count": 12,
   "metadata": {},
   "outputs": [
    {
     "name": "stdout",
     "output_type": "stream",
     "text": [
      "BinaryCrossentropy\n",
      "CategoricalCrossentropy\n",
      "CategoricalHinge\n",
      "CosineSimilarity\n",
      "Hinge\n",
      "Huber\n",
      "KLD\n",
      "KLDivergence\n",
      "LogCosh\n",
      "Loss\n",
      "MAE\n",
      "MAPE\n",
      "MSE\n",
      "MSLE\n",
      "MeanAbsoluteError\n",
      "MeanAbsolutePercentageError\n",
      "MeanSquaredError\n",
      "MeanSquaredLogarithmicError\n",
      "Poisson\n",
      "Reduction\n",
      "SparseCategoricalCrossentropy\n",
      "SquaredHinge\n",
      "binary_crossentropy\n",
      "categorical_crossentropy\n",
      "categorical_hinge\n",
      "cosine_similarity\n",
      "deserialize\n",
      "get\n",
      "hinge\n",
      "kld\n",
      "kullback_leibler_divergence\n",
      "logcosh\n",
      "mae\n",
      "mape\n",
      "mean_absolute_error\n",
      "mean_absolute_percentage_error\n",
      "mean_squared_error\n",
      "mean_squared_logarithmic_error\n",
      "mse\n",
      "msle\n",
      "poisson\n",
      "serialize\n",
      "sparse_categorical_crossentropy\n",
      "squared_hinge\n"
     ]
    }
   ],
   "source": [
    "for d in dir(tf.keras.losses):\n",
    "    if d[0] == \"_\":\n",
    "        continue\n",
    "    print(d)"
   ]
  },
  {
   "cell_type": "code",
   "execution_count": 13,
   "metadata": {},
   "outputs": [
    {
     "name": "stdout",
     "output_type": "stream",
     "text": [
      "deserialize\n",
      "elu\n",
      "exponential\n",
      "get\n",
      "hard_sigmoid\n",
      "linear\n",
      "relu\n",
      "selu\n",
      "serialize\n",
      "sigmoid\n",
      "softmax\n",
      "softplus\n",
      "softsign\n",
      "tanh\n"
     ]
    }
   ],
   "source": [
    "for d in dir(tf.keras.activations):\n",
    "    if d[0]==\"_\":\n",
    "        continue\n",
    "    print(d)"
   ]
  },
  {
   "cell_type": "code",
   "execution_count": 14,
   "metadata": {},
   "outputs": [
    {
     "name": "stdout",
     "output_type": "stream",
     "text": [
      "AUC\n",
      "Accuracy\n",
      "BinaryAccuracy\n",
      "BinaryCrossentropy\n",
      "CategoricalAccuracy\n",
      "CategoricalCrossentropy\n",
      "CategoricalHinge\n",
      "CosineSimilarity\n",
      "FalseNegatives\n",
      "FalsePositives\n",
      "Hinge\n",
      "KLD\n",
      "KLDivergence\n",
      "LogCoshError\n",
      "MAE\n",
      "MAPE\n",
      "MSE\n",
      "MSLE\n",
      "Mean\n",
      "MeanAbsoluteError\n",
      "MeanAbsolutePercentageError\n",
      "MeanIoU\n",
      "MeanRelativeError\n",
      "MeanSquaredError\n",
      "MeanSquaredLogarithmicError\n",
      "MeanTensor\n",
      "Metric\n",
      "Poisson\n",
      "Precision\n",
      "Recall\n",
      "RootMeanSquaredError\n",
      "SensitivityAtSpecificity\n",
      "SparseCategoricalAccuracy\n",
      "SparseCategoricalCrossentropy\n",
      "SparseTopKCategoricalAccuracy\n",
      "SpecificityAtSensitivity\n",
      "SquaredHinge\n",
      "Sum\n",
      "TopKCategoricalAccuracy\n",
      "TrueNegatives\n",
      "TruePositives\n",
      "binary_accuracy\n",
      "binary_crossentropy\n",
      "categorical_accuracy\n",
      "categorical_crossentropy\n",
      "deserialize\n",
      "get\n",
      "hinge\n",
      "kld\n",
      "kullback_leibler_divergence\n",
      "mae\n",
      "mape\n",
      "mean_absolute_error\n",
      "mean_absolute_percentage_error\n",
      "mean_squared_error\n",
      "mean_squared_logarithmic_error\n",
      "mse\n",
      "msle\n",
      "poisson\n",
      "serialize\n",
      "sparse_categorical_accuracy\n",
      "sparse_categorical_crossentropy\n",
      "sparse_top_k_categorical_accuracy\n",
      "squared_hinge\n",
      "top_k_categorical_accuracy\n"
     ]
    }
   ],
   "source": [
    "for d in dir(tf.keras.metrics):\n",
    "    if d[0] == \"_\":\n",
    "        continue\n",
    "    print(d)"
   ]
  },
  {
   "cell_type": "code",
   "execution_count": 15,
   "metadata": {},
   "outputs": [
    {
     "name": "stdout",
     "output_type": "stream",
     "text": [
      "Model: \"initial_model\"\n",
      "_________________________________________________________________\n",
      "Layer (type)                 Output Shape              Param #   \n",
      "=================================================================\n",
      "input_2 (InputLayer)         [(None, 2)]               0         \n",
      "_________________________________________________________________\n",
      "dense_2 (Dense)              (None, 32)                96        \n",
      "_________________________________________________________________\n",
      "dense_3 (Dense)              (None, 3)                 99        \n",
      "=================================================================\n",
      "Total params: 195\n",
      "Trainable params: 195\n",
      "Non-trainable params: 0\n",
      "_________________________________________________________________\n"
     ]
    }
   ],
   "source": [
    "import tensorflow as tf\n",
    "\n",
    "input_layer = tf.keras.layers.Input(\n",
    "    shape=[2]\n",
    ")\n",
    "\n",
    "hidden_layer = tf.keras.layers.Dense(32, activation='relu')(input_layer)\n",
    "\n",
    "output_layer = tf.keras.layers.Dense(3, activation='relu')(hidden_layer)\n",
    "\n",
    "model = tf.keras.Model(\n",
    "    inputs=input_layer,\n",
    "    outputs=output_layer,\n",
    "    name='initial_model'\n",
    ")\n",
    "\n",
    "model.summary()\n",
    "\n",
    "tf.keras.utils.plot_model(\n",
    "    model, \n",
    "    'my_first_model.png',\n",
    "    show_shapes=True\n",
    ")\n",
    "\n",
    "model.compile(\n",
    "    loss=tf.keras.losses.MSE,\n",
    "    optimizer=tf.keras.optimizers.SGD(),\n",
    "    metrics=['accuracy']\n",
    ")"
   ]
  },
  {
   "cell_type": "code",
   "execution_count": null,
   "metadata": {},
   "outputs": [],
   "source": []
  },
  {
   "cell_type": "markdown",
   "metadata": {},
   "source": [
    "# Recurrent Neural Networks\n",
    "\n",
    "Resources:\n",
    "- https://www.tensorflow.org/guide/keras/rnn\n",
    "\n",
    "Taken from Wikipedia:\n",
    "\n",
    ">A recurrent neural network (RNN) is a class of artificial neural networks where connections between nodes form a directed graph along a temporal sequence. This allows it to exhibit temporal dynamic behavior. Unlike feedforward neural networks, RNNs can use their internal state (memory) to process sequences of inputs. This makes them applicable to tasks such as unsegmented, connected handwriting recognition[1] or speech recognition.[2][3]\n",
    "\n",
    ">The term \"recurrent neural network\" is used indiscriminately to refer to two broad classes of networks with a similar general structure, where one is finite impulse and the other is infinite impulse. Both classes of networks exhibit temporal dynamic behavior.[4] A finite impulse recurrent network is a directed acyclic graph that can be unrolled and replaced with a strictly feedforward neural network, while an infinite impulse recurrent network is a directed cyclic graph that can not be unrolled.\n",
    "\n",
    ">Both finite impulse and infinite impulse recurrent networks can have additional stored state, and the storage can be under direct control by the neural network. The storage can also be replaced by another network or graph, if that incorporates time delays or has feedback loops. Such controlled states are referred to as gated state or gated memory, and are part of long short-term memory networks (LSTMs) and gated recurrent units. \n",
    "\n",
    "Other Resources:\n",
    "\n",
    "- https://medium.com/@jianqiangma/all-about-recurrent-neural-networks-9e5ae2936f6e\n",
    "\n",
    "## Long-Short Term Memory (LSTM)\n",
    "\n",
    ">Long short-term memory (LSTM) is an artificial recurrent neural network (RNN) architecture[1] used in the field of deep learning. Unlike standard feedforward neural networks, LSTM has feedback connections. It can not only process single data points (such as images), but also entire sequences of data (such as speech or video). For example, LSTM is applicable to tasks such as unsegmented, connected handwriting recognition[2] or speech recognition.[3][4] Bloomberg Business Week wrote: \"These powers make LSTM arguably the most commercial AI achievement, used for everything from predicting diseases to composing music.\"[5]\n",
    "\n",
    ">A common LSTM unit is composed of a cell, an input gate, an output gate and a forget gate. The cell remembers values over arbitrary time intervals and the three gates regulate the flow of information into and out of the cell.\n",
    "\n",
    ">LSTM networks are well-suited to classifying, processing and making predictions based on time series data, since there can be lags of unknown duration between important events in a time series. LSTMs were developed to deal with the exploding and vanishing gradient problems that can be encountered when training traditional RNNs. Relative insensitivity to gap length is an advantage of LSTM over RNNs, hidden Markov models and other sequence learning methods in numerous applications.[citation needed] \n",
    "\n",
    "![](imgs/lstm.svg)\n",
    "\n",
    "## Gated Recurrent Unit (GRU)\n",
    "\n",
    ">Gated recurrent units (GRUs) are a gating mechanism in recurrent neural networks, introduced in 2014 by Kyunghyun Cho et al.[1] The GRU is like a long short-term memory (LSTM) with forget gate[2] but has fewer parameters than LSTM, as it lacks an output gate.[3] GRU's performance on certain tasks of polyphonic music modeling and speech signal modeling was found to be similar to that of LSTM. GRUs have been shown to exhibit even better performance on certain smaller datasets.[4]\n",
    "\n",
    ">However, as shown by Gail Weiss & Yoav Goldberg & Eran Yahav, the LSTM is \"strictly stronger\" than the GRU as it can easily perform unbounded counting, while the GRU cannot.[5] That's why the GRU fails to learn simple languages that are learnable by the LSTM.[5]\n",
    "\n",
    ">Similarly, as shown by Denny Britz & Anna Goldie & Minh-Thang Luong & Quoc Le of Google Brain, LSTM cells consistently outperform GRU cells in \"the first large-scale analysis of architecture variations for Neural Machine Translation.\"[6] \n",
    "\n",
    "![](imgs/gru.svg)\n",
    "\n",
    "\n",
    "### Building LSTM Models"
   ]
  },
  {
   "cell_type": "code",
   "execution_count": 16,
   "metadata": {},
   "outputs": [
    {
     "name": "stdout",
     "output_type": "stream",
     "text": [
      "Model: \"sequential\"\n",
      "_________________________________________________________________\n",
      "Layer (type)                 Output Shape              Param #   \n",
      "=================================================================\n",
      "embedding (Embedding)        (None, None, 64)          64000     \n",
      "_________________________________________________________________\n",
      "lstm (LSTM)                  (None, 128)               98816     \n",
      "_________________________________________________________________\n",
      "dense_4 (Dense)              (None, 10)                1290      \n",
      "=================================================================\n",
      "Total params: 164,106\n",
      "Trainable params: 164,106\n",
      "Non-trainable params: 0\n",
      "_________________________________________________________________\n"
     ]
    }
   ],
   "source": [
    "model = tf.keras.Sequential()\n",
    "# Add an Embedding layer expecting input vocab of size 1000, and\n",
    "# output embedding dimension of size 64.\n",
    "model.add(tf.keras.layers.Embedding(\n",
    "    input_dim=1000, \n",
    "    output_dim=64\n",
    "))\n",
    "\n",
    "# Add a LSTM layer with 128 internal units.\n",
    "model.add(tf.keras.layers.LSTM(128))\n",
    "\n",
    "# Add a Dense layer with 10 units and softmax activation.\n",
    "model.add(tf.keras.layers.Dense(10, activation='softmax'))\n",
    "\n",
    "model.summary()\n"
   ]
  },
  {
   "cell_type": "markdown",
   "metadata": {},
   "source": [
    "### Outputs and states\n",
    "\n",
    "From: https://www.tensorflow.org/guide/keras/rnn#outputs_and_states\n",
    "\n",
    "By default, the output of a RNN layer contain a single vector per sample. This vector is the RNN cell output corresponding to the last timestep, containing information about the entire input sequence. The shape of this output is (batch_size, units) where units corresponds to the units argument passed to the layer's constructor.\n",
    "\n",
    "A RNN layer can also return the entire sequence of outputs for each sample (one vector per timestep per sample), if you set return_sequences=True. The shape of this output is (batch_size, timesteps, units)."
   ]
  },
  {
   "cell_type": "code",
   "execution_count": 2,
   "metadata": {},
   "outputs": [
    {
     "name": "stderr",
     "output_type": "stream",
     "text": [
      "WARNING: Logging before flag parsing goes to stderr.\n",
      "W1106 18:39:46.647600 4378637760 deprecation.py:506] From /anaconda3/lib/python3.7/site-packages/tensorflow/python/keras/initializers.py:111: calling RandomUniform.__init__ (from tensorflow.python.ops.init_ops) with dtype is deprecated and will be removed in a future version.\n",
      "Instructions for updating:\n",
      "Call initializer instance with the dtype argument instead of passing it to the constructor\n",
      "W1106 18:39:46.659183 4378637760 deprecation.py:506] From /anaconda3/lib/python3.7/site-packages/tensorflow/python/ops/init_ops.py:1257: calling VarianceScaling.__init__ (from tensorflow.python.ops.init_ops) with dtype is deprecated and will be removed in a future version.\n",
      "Instructions for updating:\n",
      "Call initializer instance with the dtype argument instead of passing it to the constructor\n"
     ]
    },
    {
     "name": "stdout",
     "output_type": "stream",
     "text": [
      "Model: \"sequential\"\n",
      "_________________________________________________________________\n",
      "Layer (type)                 Output Shape              Param #   \n",
      "=================================================================\n",
      "embedding (Embedding)        (None, None, 64)          64000     \n",
      "_________________________________________________________________\n",
      "gru (GRU)                    (None, None, 256)         246528    \n",
      "_________________________________________________________________\n",
      "gru_1 (GRU)                  (None, 128)               147840    \n",
      "_________________________________________________________________\n",
      "dense (Dense)                (None, 10)                1290      \n",
      "=================================================================\n",
      "Total params: 459,658\n",
      "Trainable params: 459,658\n",
      "Non-trainable params: 0\n",
      "_________________________________________________________________\n"
     ]
    }
   ],
   "source": [
    "import tensorflow as tf\n",
    "\n",
    "model = tf.keras.Sequential()\n",
    "model.add(tf.keras.layers.Embedding(\n",
    "    input_dim=1000, \n",
    "    output_dim=64\n",
    "))\n",
    "\n",
    "# The output of GRU will be a 3D tensor of shape (batch_size, timesteps, 256)\n",
    "model.add(tf.keras.layers.GRU(256, return_sequences=True))\n",
    "\n",
    "# The output of SimpleRNN will be a 2D tensor of shape (batch_size, 128)\n",
    "model.add(tf.keras.layers.GRU(128))\n",
    "\n",
    "model.add(tf.keras.layers.Dense(10, activation='softmax'))\n",
    "\n",
    "model.summary() "
   ]
  },
  {
   "cell_type": "markdown",
   "metadata": {},
   "source": [
    "In addition, a RNN layer can return its final internal state(s). The returned states can be used to resume the RNN execution later, or to initialize another RNN. This setting is commonly used in the encoder-decoder sequence-to-sequence model, where the encoder final state is used as the initial state of the decoder.\n",
    "\n",
    "To configure a RNN layer to return its internal state, set the return_state parameter to True when creating the layer. Note that LSTM has 2 state tensors, but GRU only has one.\n",
    "\n",
    "To configure the initial state of the layer, just call the layer with additional keyword argument initial_state. Note that the shape of the state needs to match the unit size of the layer, like in the example below."
   ]
  },
  {
   "cell_type": "code",
   "execution_count": null,
   "metadata": {},
   "outputs": [],
   "source": [
    "encoder_vocab = 1000\n",
    "decoder_vocab = 2000\n",
    "\n",
    "encoder_input = tf.keras.layers.Input(shape=(None, ))\n",
    "encoder_embedded = tf.keras.layers.Embedding(input_dim=encoder_vocab, output_dim=64)(encoder_input)\n",
    "\n",
    "# Return states in addition to output\n",
    "output, state_h, state_c = tf.keras.layers.LSTM(\n",
    "    64, return_state=True, name='encoder')(encoder_embedded)\n",
    "encoder_state = [state_h, state_c]\n",
    "\n",
    "decoder_input = tf.keras.layers.Input(shape=(None, ))\n",
    "decoder_embedded = tf.keras.layers.Embedding(input_dim=decoder_vocab, output_dim=64)(decoder_input)\n",
    "\n",
    "# Pass the 2 states to a new LSTM layer, as initial state\n",
    "decoder_output = tf.keras.layers.LSTM(\n",
    "    64, name='decoder')(decoder_embedded, initial_state=encoder_state)\n",
    "output = tf.keras.layers.Dense(10, activation='softmax')(decoder_output)\n",
    "\n",
    "model = tf.keras.Model([encoder_input, decoder_input], output)\n",
    "model.summary()\n"
   ]
  },
  {
   "cell_type": "markdown",
   "metadata": {},
   "source": [
    "### Cross-batch statefulness\n",
    "\n",
    "From: https://www.tensorflow.org/guide/keras/rnn#cross-batch_statefulness\n",
    "\n",
    "When processing very long sequences (possibly infinite), you may want to use the pattern of cross-batch statefulness.\n",
    "\n",
    "Normally, the internal state of a RNN layer is reset every time it sees a new batch (i.e. every sample seen by the layer is assume to be independent from the past). The layer will only maintain a state while processing a given sample.\n",
    "\n",
    "If you have very long sequences though, it is useful to break them into shorter sequences, and to feed these shorter sequences sequentially into a RNN layer without resetting the layer's state. That way, the layer can retain information about the entirety of the sequence, even though it's only seeing one sub-sequence at a time.\n",
    "\n",
    "You can do this by setting stateful=True in the constructor.\n",
    "\n",
    "If you have a sequence s = [t0, t1, ... t1546, t1547], you would split it into e.g."
   ]
  },
  {
   "cell_type": "code",
   "execution_count": null,
   "metadata": {},
   "outputs": [],
   "source": [
    "paragraph1 = np.random.random((20, 10, 50)).astype(np.float32)\n",
    "paragraph2 = np.random.random((20, 10, 50)).astype(np.float32)\n",
    "paragraph3 = np.random.random((20, 10, 50)).astype(np.float32)\n",
    "\n",
    "lstm_layer = tf.keras.layers.LSTM(64, stateful=True)\n",
    "output = lstm_layer(paragraph1)\n",
    "output = lstm_layer(paragraph2)\n",
    "output = lstm_layer(paragraph3)\n",
    "\n",
    "# reset_states() will reset the cached state to the original initial_state.\n",
    "# If no initial_state was provided, zero-states will be used by default.\n",
    "lstm_layer.reset_states()\n"
   ]
  },
  {
   "cell_type": "markdown",
   "metadata": {},
   "source": [
    "### Building GRU Models"
   ]
  },
  {
   "cell_type": "code",
   "execution_count": null,
   "metadata": {},
   "outputs": [],
   "source": []
  },
  {
   "cell_type": "markdown",
   "metadata": {},
   "source": [
    "## Bi-Directional Recurrent Neural Networks\n",
    "\n",
    ">Bi-directional RNNs use a finite sequence to predict or label each element of the sequence based on the element's past and future contexts. This is done by concatenating the outputs of two RNNs, one processing the sequence from left to right, the other one from right to left. The combined outputs are the predictions of the teacher-given target signals. This technique proved to be especially useful when combined with LSTM RNNs.[47][48]\n",
    "\n",
    "- https://www.sciencedirect.com/science/article/abs/pii/S0893608005001206?via%3Dihub\n",
    "\n",
    "\n",
    "###  Bidirectional RNNs\n",
    "\n",
    "From: https://www.tensorflow.org/guide/keras/rnn#bidirectional_rnns\n",
    "\n",
    "For sequences other than time series (e.g. text), it is often the case that a RNN model can perform better if it not only processes sequence from start to end, but also backwards. For example, to predict the next word in a sentence, it is often useful to have the context around the word, not only just the words that come before it.\n",
    "\n",
    "Keras provides an easy API for you to build such bidirectional RNNs: the `tf.keras.layers.Bidirectional` wrapper."
   ]
  },
  {
   "cell_type": "code",
   "execution_count": null,
   "metadata": {},
   "outputs": [],
   "source": [
    "model = tf.keras.Sequential()\n",
    "\n",
    "model.add(tf.keras.layers.Bidirectional(\n",
    "    tf.keras.layers.LSTM(64, return_sequences=True), \n",
    "    input_shape=(5, 10))\n",
    ")\n",
    "model.add(tf.keras.layers.Bidirectional(tf.keras.layers.LSTM(32)))\n",
    "model.add(tf.keras.layers.Dense(10, activation='softmax'))\n",
    "\n",
    "model.summary()\n"
   ]
  },
  {
   "cell_type": "code",
   "execution_count": null,
   "metadata": {},
   "outputs": [],
   "source": []
  }
 ],
 "metadata": {
  "kernelspec": {
   "display_name": "Python 3",
   "language": "python",
   "name": "python3"
  },
  "language_info": {
   "codemirror_mode": {
    "name": "ipython",
    "version": 3
   },
   "file_extension": ".py",
   "mimetype": "text/x-python",
   "name": "python",
   "nbconvert_exporter": "python",
   "pygments_lexer": "ipython3",
   "version": "3.7.1"
  }
 },
 "nbformat": 4,
 "nbformat_minor": 4
}
